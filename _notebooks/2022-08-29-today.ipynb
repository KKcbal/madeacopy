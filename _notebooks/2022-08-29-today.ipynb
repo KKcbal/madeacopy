{
 "cells": [
  {
   "cell_type": "markdown",
   "metadata": {},
   "source": [
    "# \"Today\"\n",
    "> \"Just writing things down\"\n",
    "\n",
    "- toc: true\n",
    "- branch: master\n",
    "- badges: false\n",
    "- comments: true\n",
    "- author: AJ Ruiz\n",
    "- categories: [fastpages, jupyter]"
   ]
  },
  {
   "cell_type": "markdown",
   "metadata": {},
   "source": [
    "# Beginning of Class\n",
    "Bro, I'm still trying to work out how github works. I think I'm super far behind. I just figured out on Thursday how to make a notebook but I can't do much of anything else. That's no bueno. I changed the name of my repository but now I'm having some errors with things. I changed two things in the _config.yml file on github, I changed the name of the repository in that file to the new one. I think that might have messed some things up though, I'm not sure why. I'm gonna save and commit this change (the whole file) so I can test if it still has errors."
   ]
  }
 ],
 "metadata": {
  "kernelspec": {
   "display_name": "Python 3.8.10 64-bit",
   "language": "python",
   "name": "python3"
  },
  "language_info": {
   "name": "python",
   "version": "3.8.10"
  },
  "orig_nbformat": 4,
  "vscode": {
   "interpreter": {
    "hash": "916dbcbb3f70747c44a77c7bcd40155683ae19c65e1c03b4aa3499c5328201f1"
   }
  }
 },
 "nbformat": 4,
 "nbformat_minor": 2
}
