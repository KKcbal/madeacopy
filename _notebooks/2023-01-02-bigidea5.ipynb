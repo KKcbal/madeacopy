{
 "cells": [
  {
   "attachments": {},
   "cell_type": "markdown",
   "metadata": {},
   "source": [
    "# Big Idea 5 Blogs\n",
    "> my blogs\n",
    "\n",
    "- toc: true"
   ]
  },
  {
   "attachments": {},
   "cell_type": "markdown",
   "metadata": {},
   "source": [
    "## 5.1"
   ]
  },
  {
   "attachments": {},
   "cell_type": "markdown",
   "metadata": {},
   "source": [
    "1.  Come up with three of your own Beneficial and corresponding Harmful Effects of Computing\n",
    "\n",
    "<table>\n",
    "<tr>\n",
    "   <th>Subject</th>\n",
    "   <th>benefit</th>\n",
    "   <th>harmful</th>\n",
    "</tr>\n",
    "<tr>\n",
    "   <td>Online homework</td>\n",
    "   <td>Less paper. Some work can be graded quicker</td>\n",
    "   <td>Can be a detriment to those without access to technology</td>\n",
    "</tr>\n",
    "<tr>\n",
    "   <td>Online videos</td>\n",
    "   <td>Entertainment geared towards your interests (often free)</td>\n",
    "   <td>Over obsession can lead to slothing</td>\n",
    "</tr>\n",
    "<tr>\n",
    "   <td>Boston Dynamics robot dog</td>\n",
    "   <td>A pretty big step forward in robotics. Allows testing on new robotics to further its field of science</td>\n",
    "   <td>Not really sure what it can do other than that. Does not seem like it has much functional use</td>\n",
    "</tr>\n",
    "</table>\n",
    "\n",
    "2. Talk about dopamine issues above. Real? Parent conspiracy? Anything that is impacting your personal study and success in High School?\n",
    "\n",
    "I think these are very extreme cases of gamers getting into games. While there's a fair amount of people in the gaming community like this, it's definitely not all. These are the most extreme cases of gaming, where you go as far as possible into it as you can. People who get into gaming don't tend to spend 18 hours a day on it, a large majority of gamers sprinkle it in their days, like you would a hobby. You could easily pull out the most extreme cases of any hobby and apply this thinking to that hobby, but it would be wrong, There's a lot more to gaming than this. Maybe something like gaming is easier to get dopamine out of, and it causes more people to be attracted to it and center their life around it, but I think it's no different from other hobbies. I, personally, am an avid gamer. I do my fair share of gaming. Gaming has not impacted my grades, not any more than the other pass times I enjoy. When it comes down to it, gaming is not the problem, the person is. You need to have the restraint and responsibility to know when you've gone too far. Discipline like this should either be taught at a young age by parents or practiced in your own time. Overall, I don't think gaming is a hindrance to personal studies and high school in general."
   ]
  },
  {
   "attachments": {},
   "cell_type": "markdown",
   "metadata": {},
   "source": [
    "## 5.2"
   ]
  },
  {
   "attachments": {},
   "cell_type": "markdown",
   "metadata": {},
   "source": [
    "- How does someone empower themself in a digital world?\n",
    "\n",
    "Finding hobbies or pass times you enjoy. If you were to immerse yourself in these things and find groups who share your interests, you could do well without technology. I think finding your place without technology is empowering.\n",
    "\n",
    "- How does someone that is empowered help someone that is not empowered? Describe something you could do at Del Norte HS.\n",
    "\n",
    "These questions are hard to answer. To be \"empowered\" is subjective. I don't know what I or you consider \"empowered\" and therefore don't know how to answer. Expressing your opinions, or feeling like you can, might be empowering. Letting your mind be known could give you a sense of empowerment. At Del Norte, I could be the one who knows. I could lend my ear to a friend or acquaintance so they feel empowered.\n",
    "\n",
    "- Is paper or red tape blocking digital empowerment? Are there such barriers at Del Norte? Elsewhere?\n",
    "\n",
    "Now this is just straight gibberish. I have no idea what you could mean by \"paper or red tape.\" Even so, I might be able to answer this question. Paper does not affect the digital world. No matter what opinion you have, there will be someone who shares it on the internet. Absolutely any opinion has a group on the internet that you can join. No matter who you are, there are people who match you, who think like you, who believe what you believe in. There are no barriers."
   ]
  },
  {
   "attachments": {},
   "cell_type": "markdown",
   "metadata": {},
   "source": [
    "## 5.3"
   ]
  },
  {
   "attachments": {},
   "cell_type": "markdown",
   "metadata": {},
   "source": [
    "- What age groups use Facebook vs Tiktok?\n",
    "\n",
    "I think it's pretty clear that older people use Facebook, while younger people use Tiktok. Tiktok is geared towards younger people, with content that's a lot more flashy. Facebook is geared towards older people with a plain, informative website\n",
    "\n",
    "- Why do virtual assistants have female voices?\n",
    "\n",
    "The voices of virtual assistants is likely not with intent. When gauging public opinion, there was probably just more people who like the female voice compared to the male. With the first assistant having a female voice, the rest probably just followed suit. I don't think there was any ill intentions, and I don't think anything needs to be done about it. There's nothing harmful about it. Although females serving males was common preactice for a long time, that's no longer the case, and doesn't connect to virtual assistants. A female voice was probably more appealing because it can have a soothing, mother-like quality to it. \n",
    "\n",
    "- Algorithm that influences your decisions\n",
    "\n",
    "Algorithms in things like Netflix or Facebook are created to make you addicted to the platform. They are built to make you want to spend more time on the platform. With this, they can collect more data and sell you items that you would want. They can make money off your addiction to the site.\n",
    "\n",
    "- The HP computer\n",
    "\n",
    "I don't think the owner believes this was intentional. I think the \"HP computers are racist\" thing was to give a more humerous tone rather than a criticizing one. I don't really think this is harmful. While it is extremely weird, a function like this on a laptop camera is pretty negligible, especially since it doesn't hinder the functionality of the camera. Something like this is more like a silly little addition that doesn't add too much to the camera. I think it definitely should be corrected. This setting they've created does not function as intended. It does not work for everyone and therefore should be fixed. A good way to prevent this would be to hand it to many employees for them to use. This puts it in public testing and allows for feedback to be easily deliviered since they work in the same company. Greater training too. Giving more data to the camera, different people, different lightings, different backgrounds, would ensure that no matter what, the camera could detect anyone. "
   ]
  },
  {
   "attachments": {},
   "cell_type": "markdown",
   "metadata": {},
   "source": [
    "## 5.4"
   ]
  },
  {
   "attachments": {},
   "cell_type": "markdown",
   "metadata": {},
   "source": [
    "- Describe a crowdsource idea and how you initiate it.\n",
    "\n",
    "We could take a list of desserts and demand that people list them in order of most enjoyable. \n",
    "\n",
    "- Del Norte crowdsourcing? Can it improve your project?\n",
    "\n",
    "Yes, it could. By using the very example above, I could improve my project. My project is a cafe, and food will be important. Maybe we could take the opinions on what people want to see in a cafe, find a way to improve the cafe.\n",
    "\n",
    "- What data can you record at Night at the Museum?\n",
    "\n",
    "Opinions would be most important, any opinions. Opinions of the interface, content, or ideas that we've put on our website could all help improve it. "
   ]
  }
 ],
 "metadata": {
  "kernelspec": {
   "display_name": "base",
   "language": "python",
   "name": "python3"
  },
  "language_info": {
   "name": "python",
   "version": "3.9.12"
  },
  "orig_nbformat": 4,
  "vscode": {
   "interpreter": {
    "hash": "6ccb6558ef2ee8ddcd1889f8d547b1546f932296c7f2f80f67fdee00b5700eff"
   }
  }
 },
 "nbformat": 4,
 "nbformat_minor": 2
}
