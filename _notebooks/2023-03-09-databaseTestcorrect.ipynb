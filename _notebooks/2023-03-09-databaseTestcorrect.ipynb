{
 "cells": [
  {
   "attachments": {},
   "cell_type": "markdown",
   "metadata": {},
   "source": [
    "# 2.3 Database and test corrections\n",
    "> Databases from 2.3 and college board mc test correctionss"
   ]
  },
  {
   "cell_type": "code",
   "execution_count": 4,
   "metadata": {},
   "outputs": [
    {
     "name": "stdout",
     "output_type": "stream",
     "text": [
      "                    Name   Time  Level                pin\n",
      "0          Thomas Edison    181    100              aspoi\n",
      "1         Nicholas Tesla    613    200              brian\n",
      "2   Alexander Grand Bell    440    123              23451\n",
      "3            Eli Whitney    369    432                who\n",
      "4         John Mortensen  36981    340               apcs\n",
      "5    aj ruiz im soo cool     36      1       imreallycool\n",
      "6         you the viewer     74      1  wow, your so cool\n",
      "7                   aras      0      0               asdf\n",
      "8                   1234      0      0               1234\n",
      "9             le creator     17      0          imadethis\n",
      "10           le creatorr    155      6  ineedtomakeupdate\n",
      "\n",
      "                    Name   Time  Level                pin\n",
      "4         John Mortensen  36981    340               apcs\n",
      "1         Nicholas Tesla    613    200              brian\n",
      "2   Alexander Grand Bell    440    123              23451\n",
      "3            Eli Whitney    369    432                who\n",
      "0          Thomas Edison    181    100              aspoi\n",
      "10           le creatorr    155      6  ineedtomakeupdate\n",
      "6         you the viewer     74      1  wow, your so cool\n",
      "5    aj ruiz im soo cool     36      1       imreallycool\n",
      "9             le creator     17      0          imadethis\n",
      "7                   aras      0      0               asdf\n",
      "8                   1234      0      0               1234\n"
     ]
    }
   ],
   "source": [
    "import pandas as pd\n",
    "df = pd.read_json('files/mine.json')\n",
    "\n",
    "print(df)\n",
    "print()\n",
    "print(df.sort_values(by=['Time'], ascending=False))"
   ]
  },
  {
   "cell_type": "code",
   "execution_count": 5,
   "metadata": {},
   "outputs": [
    {
     "name": "stdout",
     "output_type": "stream",
     "text": [
      "          Name  Time  Level  pin\n",
      "3  Eli Whitney   369    432  who\n",
      "\n",
      "         Name  Time  Level        pin\n",
      "7        aras     0      0       asdf\n",
      "8        1234     0      0       1234\n",
      "9  le creator    17      0  imadethis\n"
     ]
    }
   ],
   "source": [
    "print(df[df.Level == df.Level.max()])\n",
    "print()\n",
    "print(df[df.Level == df.Level.min()])"
   ]
  },
  {
   "attachments": {},
   "cell_type": "markdown",
   "metadata": {},
   "source": [
    "- Which of the following has the greatest potential for compromising a user’s personal privacy?  \n",
    "Correct Answer: A group of cookies stored by the user’s Web browser  \n",
    "My Answer: The user’s public key used for encryption  \n",
    "\n",
    "- Of the following potential benefits, which is LEAST likely to be provided by the upgraded system?  \n",
    "Correct Answer: The company will be able to provide a human representative for any incoming call.  \n",
    "My Answer: Human representatives will not be needed to respond to some inquiries.\n",
    "\n",
    "- Which of the following code segments can be used to assign the intended string to newString?  \n",
    "Correct Answer: newString ← substring(oldString, 3, len(oldString) - 4)  \n",
    "\n",
    "                tempString ← substring(oldString, 3, len(oldString) - 2)  \n",
    "                newString ← substring(tempString, 1, len(tempString) - 2)  \n",
    "My Answer: newString ← substring(oldString, 3, len(oldString) - 4\n",
    "\n",
    "- When the robot reaches the gray square, it turns around and faces the bottom of the grid. Which of the following changes, if any, should be made to the code segment to move the robot back to its original position in the bottom-left square of the grid and facing toward the bottom of the grid?  \n",
    "Correct Answer: No change is needed; the algorithm is correct as is.  \n",
    "My Answer: Interchange the ROTATE_RIGHT and the ROTATE_LEFT blocks.\n",
    "\n",
    "- A city planner is using simulation software to study crowd flow out of a large arena after an event has ended. The arena is located in an urban city. Which of the following best describes a limitation of using a simulation for this purpose?  \n",
    "Correct Answer: The model used by the simulation software often omits details so that it is easier to implement.  \n",
    "My Answer: Running a simulation requires more time to generate data from trials than observing the crowd exiting the arena at various events.  \n",
    "\n",
    "- Based on the values in the table, which of the algorithms appear to run in reasonable time?  \n",
    "Correct Answer: Algorithm A  \n",
    "                Algorithm D  \n",
    "My Answer: Algorithm B  \n",
    "           Algorithm D"
   ]
  }
 ],
 "metadata": {
  "kernelspec": {
   "display_name": "base",
   "language": "python",
   "name": "python3"
  },
  "language_info": {
   "codemirror_mode": {
    "name": "ipython",
    "version": 3
   },
   "file_extension": ".py",
   "mimetype": "text/x-python",
   "name": "python",
   "nbconvert_exporter": "python",
   "pygments_lexer": "ipython3",
   "version": "3.9.12"
  },
  "orig_nbformat": 4
 },
 "nbformat": 4,
 "nbformat_minor": 2
}
