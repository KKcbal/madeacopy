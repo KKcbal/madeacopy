{
 "cells": [
  {
   "cell_type": "markdown",
   "metadata": {},
   "source": [
    "# 1 September 2022\n",
    "> notes\n",
    "\n",
    "- categories: [notes, test]"
   ]
  },
  {
   "cell_type": "markdown",
   "metadata": {},
   "source": [
    "There wasn't really any lecture. Mr. Yeoung (not sure how to spell his name) introduced us to the \"reflections on computer science\" page and I read most of it. I'll put some things that I learn from the page here"
   ]
  },
  {
   "cell_type": "code",
   "execution_count": 4,
   "metadata": {},
   "outputs": [
    {
     "name": "stdout",
     "output_type": "stream",
     "text": [
      "4\n",
      "4\n",
      "men\n"
     ]
    }
   ],
   "source": [
    "import random\n",
    "\n",
    "ranumber = random.randrange(20)\n",
    "print(ranumber)\n",
    "print(ranumber)\n",
    "def for_loop():\n",
    "    print(\"For loop output\\n\")\n",
    "    "
   ]
  },
  {
   "cell_type": "code",
   "execution_count": 21,
   "metadata": {},
   "outputs": [
    {
     "name": "stdout",
     "output_type": "stream",
     "text": [
      "For loop output\n",
      "\n",
      "[17, 17, 12, 14, 17]\n",
      "17\n",
      "Number loop output\n",
      "\n",
      "even\n",
      "Add loop output\n",
      "\n",
      "even\n",
      "Add loop output\n",
      "\n",
      "even\n",
      "Add loop output\n",
      "\n",
      "even\n",
      "Add loop output\n",
      "\n",
      "even\n",
      "Add loop output\n",
      "\n",
      "even\n",
      "Add loop output\n",
      "\n",
      "even\n",
      "Add loop output\n",
      "\n",
      "even\n",
      "Add loop output\n",
      "\n",
      "odd\n",
      "Add loop output\n",
      "\n",
      "even\n",
      "Add loop output\n",
      "\n"
     ]
    }
   ],
   "source": [
    "import random\n",
    "ranumlist = []\n",
    "list4 = [1, 2, 3, 4, 5]\n",
    "n4 = (4)\n",
    "n10 = (10)\n",
    "oddNum = [1, 3, 5, 7, 9, 11, 13, 15, 17, 19]\n",
    "n0 = [0]\n",
    "n1 = [1]\n",
    "def for_loop():\n",
    "    print(\"For loop output\\n\")\n",
    "    for n4 in list4:\n",
    "        ranumber = random.randrange(20)\n",
    "        ranumlist.append (ranumber)\n",
    "\n",
    "for_loop()\n",
    "print(ranumlist)\n",
    "print(ranumlist[0])\n",
    "\n",
    "def odd_test():\n",
    "    if ranumlist[0] == oddNum[n0[0]]:\n",
    "        print(\"odd\")\n",
    "    else:\n",
    "        print(\"even\")\n",
    "\n",
    "def add_loop():\n",
    "    print(\"Add loop output\\n\")\n",
    "    for n4 in n1:\n",
    "        n0[0] = n0[0] + 1\n",
    "\n",
    "def num_loop():\n",
    "    print(\"Number loop output\\n\")\n",
    "    for n10 in oddNum:\n",
    "        odd_test()\n",
    "        add_loop()\n",
    "        \n",
    "\n",
    "num_loop()"
   ]
  },
  {
   "cell_type": "code",
   "execution_count": 14,
   "metadata": {},
   "outputs": [
    {
     "name": "stdout",
     "output_type": "stream",
     "text": [
      "[20]\n"
     ]
    }
   ],
   "source": [
    "msg = (20)\n",
    "lsit = []\n",
    "lsit.append (msg)\n",
    "print(lsit)\n"
   ]
  }
 ],
 "metadata": {
  "kernelspec": {
   "display_name": "Python 3.8.10 64-bit",
   "language": "python",
   "name": "python3"
  },
  "language_info": {
   "codemirror_mode": {
    "name": "ipython",
    "version": 3
   },
   "file_extension": ".py",
   "mimetype": "text/x-python",
   "name": "python",
   "nbconvert_exporter": "python",
   "pygments_lexer": "ipython3",
   "version": "3.8.10"
  },
  "orig_nbformat": 4,
  "vscode": {
   "interpreter": {
    "hash": "916dbcbb3f70747c44a77c7bcd40155683ae19c65e1c03b4aa3499c5328201f1"
   }
  }
 },
 "nbformat": 4,
 "nbformat_minor": 2
}
