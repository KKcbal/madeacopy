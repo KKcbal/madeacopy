{
 "cells": [
  {
   "cell_type": "markdown",
   "metadata": {},
   "source": [
    "# 1 September 2022\n",
    "> notes\n",
    "\n",
    "- toc: true \n",
    "- categories: [notes, test, big time]"
   ]
  },
  {
   "cell_type": "markdown",
   "metadata": {},
   "source": [
    "There wasn't really any lecture. Mr. Yeoung (not sure how to spell his name) introduced us to the \"reflections on computer science\" page and I read most of it. I'll put some things that I learn from the page here"
   ]
  },
  {
   "cell_type": "markdown",
   "metadata": {},
   "source": [
    "## Code"
   ]
  },
  {
   "cell_type": "code",
   "execution_count": 4,
   "metadata": {},
   "outputs": [
    {
     "name": "stdout",
     "output_type": "stream",
     "text": [
      "4\n",
      "4\n",
      "men\n"
     ]
    }
   ],
   "source": [
    "import random\n",
    "\n",
    "ranumber = random.randrange(20)\n",
    "print(ranumber)\n",
    "print(ranumber)\n",
    "def for_loop():\n",
    "    print(\"For loop output\\n\")\n",
    "    "
   ]
  },
  {
   "cell_type": "code",
   "execution_count": 43,
   "metadata": {},
   "outputs": [
    {
     "name": "stdout",
     "output_type": "stream",
     "text": [
      "For loop output\n",
      "\n",
      "[11, 11, 4, 4, 1]\n",
      "11\n",
      "Number loop output\n",
      "\n",
      "Add loop output\n",
      "\n",
      "Add loop output\n",
      "\n",
      "Add loop output\n",
      "\n",
      "Add loop output\n",
      "\n",
      "Add loop output\n",
      "\n",
      "Add loop output\n",
      "\n",
      "Add loop output\n",
      "\n",
      "Add loop output\n",
      "\n",
      "Add loop output\n",
      "\n",
      "Add loop output\n",
      "\n",
      "odd\n",
      "[10]\n",
      "1\n"
     ]
    }
   ],
   "source": [
    "from doctest import OutputChecker\n",
    "import random\n",
    "from subprocess import check_output\n",
    "from IPython.display import clear_output\n",
    "ranumlist = []\n",
    "list4 = [1, 2, 3, 4, 5]\n",
    "n4 = (4)\n",
    "n10 = (10)\n",
    "oddNum = [1, 3, 5, 7, 9, 11, 13, 15, 17, 19]\n",
    "n0 = [0]\n",
    "n1 = [1]\n",
    "oddbool = [0]\n",
    "def for_loop():\n",
    "    print(\"For loop output\\n\")\n",
    "    for n4 in list4:\n",
    "        ranumber = random.randrange(20)\n",
    "        ranumlist.append (ranumber)\n",
    "\n",
    "for_loop()\n",
    "\n",
    "def odd_test():\n",
    "    if ranumlist[0] == oddNum[n0[0]]:\n",
    "        oddbool[0] = oddbool[0] + 1\n",
    "    else:\n",
    "        n1 = (1)\n",
    "\n",
    "def add_loop():\n",
    "    print(\"Add loop output\\n\")\n",
    "    for n4 in n1:\n",
    "        n0[0] = n0[0] + 1\n",
    "\n",
    "def num_loop():\n",
    "    print(\"Number loop output\\n\")\n",
    "    for n10 in oddNum:\n",
    "        odd_test()\n",
    "        add_loop()\n",
    "        \n",
    "print(ranumlist)\n",
    "print(ranumlist[0])\n",
    "\n",
    "num_loop()\n",
    "\n",
    "if oddbool[0] == 1:\n",
    "    print(\"odd\")\n",
    "else:\n",
    "    print(\"even\")\n",
    "    \n",
    "print(n0)\n",
    "print(oddbool[0])"
   ]
  },
  {
   "cell_type": "code",
   "execution_count": 14,
   "metadata": {},
   "outputs": [
    {
     "name": "stdout",
     "output_type": "stream",
     "text": [
      "[20]\n"
     ]
    }
   ],
   "source": [
    "msg = (20)\n",
    "lsit = []\n",
    "lsit.append (msg)\n",
    "print(lsit)\n"
   ]
  },
  {
   "cell_type": "markdown",
   "metadata": {},
   "source": [
    "## After Code\n",
    "\n",
    "I have just finished the odd number test, it took about 3 classes to finish. It took a bit but the odd number test works and I'm very glad. This was a very fun thing to work on, it wasn't an assignment for class, it was just something I started out of curiosity of \"can I do it\" and finished because I had fun trying to figure out how to do it. Technically it's not complete, the last bit of the code I want is to clear the output so only the print(oddbool) bit is printed but I haven't figured out how to do that yet. For now, it's finished but not polished."
   ]
  },
  {
   "cell_type": "markdown",
   "metadata": {},
   "source": [
    "I want to get a little more into the code, so I can show how I did it and why it could be weird looking. The first bit is the imports but that's not too important. They were a random number generator, an output checker, and an output clearer. I only ended up using the random generator because I couldn't figure out how to work the other two. Now I'll get into the real code.\n",
    " "
   ]
  },
  {
   "cell_type": "markdown",
   "metadata": {},
   "source": [
    "The first bit is the lists and variables. I slowly put more and more in as I continued coding, each has a purpose;\n",
    " ranumlist is the list that contains the randomly generated numbers, they're appended later on so they're always different. list4 was for the for_loop. I think it originally contained only four numbers so the for_loop would loop 4 times but I'm not sure. n4 is a variable for 4, it was also for the for_loop with the same reason as list4. Honestly, I never really figured out how the loops worked. I don't know how the variables and lists affect the for loop when defining it. n10 is for the num_loop, it was created to loop num_loop 10 times for each of the odd numbers, I'll get into that later. oddNum is a list of all the odd numbers that can be generated, this is so I can compare each number to the number generated. n0 is a very important piece of the code. n0 is used to choose a list item from oddNum. Later I will explain how it plays into the code. n1 is an empty variable. It actually equals 1 but it's only used to fill space in an if else statement. Last is oddbool, it's used to tell another chunk of code if the number is odd."
   ]
  },
  {
   "cell_type": "markdown",
   "metadata": {},
   "source": [
    "The for_loop is the first chunk of code. It's used to add random numbers to ranumlist"
   ]
  },
  {
   "cell_type": "markdown",
   "metadata": {},
   "source": []
  }
 ],
 "metadata": {
  "kernelspec": {
   "display_name": "Python 3.8.10 64-bit",
   "language": "python",
   "name": "python3"
  },
  "language_info": {
   "codemirror_mode": {
    "name": "ipython",
    "version": 3
   },
   "file_extension": ".py",
   "mimetype": "text/x-python",
   "name": "python",
   "nbconvert_exporter": "python",
   "pygments_lexer": "ipython3",
   "version": "3.8.10"
  },
  "orig_nbformat": 4,
  "vscode": {
   "interpreter": {
    "hash": "916dbcbb3f70747c44a77c7bcd40155683ae19c65e1c03b4aa3499c5328201f1"
   }
  }
 },
 "nbformat": 4,
 "nbformat_minor": 2
}
