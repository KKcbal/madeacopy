{
 "cells": [
  {
   "attachments": {},
   "cell_type": "markdown",
   "metadata": {},
   "source": [
    "# Homework 5\n",
    "> this is the fifth homework for 12-13\n",
    "- comments: true\n",
    "- categories: [student lesson]"
   ]
  },
  {
   "cell_type": "markdown",
   "metadata": {},
   "source": [
    "# Take some additional notes that you would like here for 3.12 and 3.13. We will be looking for additional notes from the presentation. \n"
   ]
  },
  {
   "attachments": {},
   "cell_type": "markdown",
   "metadata": {},
   "source": [
    "# What are procedures?\n",
    "\n",
    "**Fill in the blanks please:**\n",
    "\n",
    "Procedure: named group of programming instructions.\n",
    "\n",
    "Parameters: input values of a procedure\n",
    "\n",
    "Arguments: specify value of parameters when procedure is called\n",
    "\n",
    "Modularity: seperating a program's funtions into seperate pieces of code\n",
    "\n",
    "Procedural Abstraction: \n",
    "\n",
    "What are some other names for procedures?: \n",
    "\n",
    "Why are procedures effective?: \n"
   ]
  },
  {
   "attachments": {},
   "cell_type": "markdown",
   "metadata": {},
   "source": [
    "## <mark>Challenge 1</mark> below: Add the command that will **call** the procedure. "
   ]
  },
  {
   "cell_type": "code",
   "execution_count": 4,
   "metadata": {},
   "outputs": [
    {
     "name": "stdout",
     "output_type": "stream",
     "text": [
      "7\n",
      "00000111\n"
     ]
    }
   ],
   "source": [
    "decimal = 7\n",
    "\n",
    "def convertToBinary(n):\n",
    "    binary1 = 0\n",
    "    binary2 = 0\n",
    "    binary3 = 0\n",
    "    binary4 = 0\n",
    "    binary5 = 0\n",
    "    binary6 = 0\n",
    "    binary7 = 0\n",
    "    binary8 = 0\n",
    "    i = 0\n",
    "    while i < n:\n",
    "        if binary1 == 0: binary1 += 1\n",
    "        else:\n",
    "            binary1 = 0\n",
    "            if binary2 == 0: binary2 += 1\n",
    "            else:\n",
    "                binary2 = 0\n",
    "                if binary3 == 0: binary3 += 1\n",
    "                else:\n",
    "                    binary3 = 0\n",
    "                    if binary4 == 0: binary4 += 1\n",
    "                    else: \n",
    "                        binary4 = 0\n",
    "                        if binary5 == 0: binary5 += 1\n",
    "                        else:\n",
    "                            binary5 = 0\n",
    "                            if binary6 == 0: binary6 += 1\n",
    "                            else:\n",
    "                                binary6 = 0\n",
    "                                if binary7 == 0: binary7 += 1\n",
    "                                else:\n",
    "                                    binary7 = 0\n",
    "                                    if binary8 == 0: binary8 += 1\n",
    "        i += 1\n",
    "    print(n)\n",
    "    print(str(binary8) + str(binary7) + str(binary6) + str(binary5) + str(binary4) + str(binary3) + str(binary2) + str(binary1))\n",
    "convertToBinary(decimal)"
   ]
  },
  {
   "attachments": {},
   "cell_type": "markdown",
   "metadata": {},
   "source": [
    "## <mark>Challenge 2</mark> below: Complete the Min and Max procedure in either JavaScript and Python using the instructions from the JavaScript page. (JavaScript will get you a extra 0.1)"
   ]
  },
  {
   "cell_type": "code",
   "execution_count": 3,
   "metadata": {
    "vscode": {
     "languageId": "javascript"
    }
   },
   "outputs": [
    {
     "name": "stdout",
     "output_type": "stream",
     "text": [
      "40\n"
     ]
    }
   ],
   "source": [
    "function findMax(numA, numB){\n",
    "    if (numA > numB){\n",
    "        console.log(numA)\n",
    "    }\n",
    "    else{\n",
    "        console.log(numB)\n",
    "    }\n",
    "}\n",
    "findMax(20, 40)"
   ]
  },
  {
   "attachments": {},
   "cell_type": "markdown",
   "metadata": {},
   "source": [
    "## <mark>Homework/Hacks</mark>: For the hw, you have two options, easy or hard. The easy hack is for a 2.7 + extra work for the full 3. The easy hack is simply creating your own procedure with your own creativity. Since there is a lot of leeway for this one, you must do additional work to get a 3. For the hard hack, below is the start to a character to binary convertor. This is just a template, but the goal is to translate \"APCSP\" into binary. You can delete the existing code if you want. The only contraint is that you must use a procedure. Doing this will get you a 3. "
   ]
  },
  {
   "cell_type": "code",
   "execution_count": 5,
   "metadata": {},
   "outputs": [
    {
     "name": "stdout",
     "output_type": "stream",
     "text": [
      "''APCSP'' in binary is \n",
      "[1000001, 1010000, 1000011, 1010011, 1010000]\n"
     ]
    }
   ],
   "source": [
    "def charToBinary(x):()\n",
    "# if x.lower == x\n",
    "# The output shown below is the output you are supposed to get"
   ]
  },
  {
   "cell_type": "code",
   "execution_count": 69,
   "metadata": {},
   "outputs": [
    {
     "name": "stdout",
     "output_type": "stream",
     "text": [
      "There is an enemy in front of you. You have a sword and hammer. You must equip one to fight\n",
      "You can fight (attack), check battle statistics (check), and defend (defend). To equip a weapon you must type 'equip'\n",
      "You must have a weapon to fight\n",
      "What would you like to equip?\n",
      "Hammer: 30\n",
      "Sword: 20\n",
      "Your attack missed!\n",
      "The opponent did 4 damage\n",
      "What would you like to equip?\n",
      "Hammer: 27\n",
      "Sword: 20\n",
      "You did 4 damage\n",
      "The opponent missed!\n",
      "You did 4 damage\n",
      "The opponent did 3 damage\n",
      "Your attack missed!\n",
      "The opponent did 4 damage\n",
      "You did 4 damage\n",
      "The opponent missed!\n",
      "Your health: 4\n",
      "Your opponent's health: 3\n",
      "Your weapon's durablility: 14\n",
      "You did 3 damage\n",
      "You win\n",
      "End stats:\n",
      "Your health: 4\n",
      "Your opponent's health: 0\n",
      "Your weapon's durablility: 12\n"
     ]
    }
   ],
   "source": [
    "# my notes arent showing :(\n",
    "# Feel free to copy this code into your own fastpages to test it.\n",
    "import random\n",
    "# Make sure to include the import, it's very important\n",
    "sword = 20\n",
    "hammer = 30\n",
    "num3 = [1,2,3]\n",
    "healthOp = 15 \n",
    "health = 15 \n",
    "equipped = 0\n",
    "defval = False\n",
    "def equip(output):\n",
    "    global equipped\n",
    "    global hammer\n",
    "    global sword\n",
    "    equipped = output\n",
    "def durLow():\n",
    "    global equipped\n",
    "    global sword\n",
    "    global hammer\n",
    "    dur = random.randrange(3)\n",
    "    if equipped == sword:\n",
    "        equipped -= num3[dur]\n",
    "        sword -= num3[dur]\n",
    "    elif equipped == hammer:\n",
    "        equipped -= num3[dur]\n",
    "        hammer -= num3[dur]\n",
    "    else:\n",
    "        print(\"No durability loss, the code broke\")\n",
    "def choose():\n",
    "    global choice\n",
    "    global hammer\n",
    "    global sword\n",
    "    choice = input(\"What would you like to do?\")\n",
    "    if choice.lower() == \"equip\":\n",
    "        print(\"What would you like to equip?\")\n",
    "        print(\"Hammer: \" + str(hammer))\n",
    "        print(\"Sword: \" + str(sword))\n",
    "        chooseEquip()\n",
    "        choose()\n",
    "    elif choice.lower() == \"attack\": \n",
    "        if equipped > 0:\n",
    "            attack()\n",
    "            durLow()\n",
    "        else:\n",
    "            print(\"You must have a weapon to fight\")\n",
    "            choose()\n",
    "    elif choice.lower() == \"defend\":\n",
    "        global defval\n",
    "        defval = True\n",
    "    elif choice.lower() == \"check\":\n",
    "        statCheck()\n",
    "        choose()\n",
    "    elif choice.lower() == \"break\":\n",
    "        global healthOp\n",
    "        healthOp = 0\n",
    "    else:\n",
    "        print(\"You can not do \"+str(choice)+\", please do something else\")\n",
    "        choose()\n",
    "def chooseEquip():\n",
    "    don = input(\"Choose a weapon\")\n",
    "    if don.lower() == \"hammer\":\n",
    "        equip(hammer)\n",
    "    elif don.lower() == \"sword\":\n",
    "        equip(sword)\n",
    "    else:\n",
    "        print(\"You do not have \"+str(don)+\", please choose a weapon\")\n",
    "        chooseEquip()\n",
    "def attackOp(): # test if the defval boolean works in the if statement\n",
    "    global health\n",
    "    global defval\n",
    "    if defval:\n",
    "        bic = random.randrange(3)\n",
    "        health -= bic\n",
    "        if bic == 0:\n",
    "            print(\"The opponent missed!\")\n",
    "        else:\n",
    "            print(\"You blocked the attack. The opponent did \" + str(bic) + \" damage\")\n",
    "    else:\n",
    "        bic = random.randrange(5)\n",
    "        health -= bic\n",
    "        if bic == 0:\n",
    "            print(\"The opponent missed!\")\n",
    "        else:\n",
    "            print(\"The opponent did \" + str(bic) + \" damage\")\n",
    "    defval = False\n",
    "def attack():\n",
    "    global healthOp\n",
    "    bru = random.randrange(5)\n",
    "    if bru == 0:\n",
    "        print(\"Your attack missed!\")\n",
    "    else:\n",
    "        healthOp -= bru\n",
    "        print(\"You did \" + str(bru) + \" damage\")\n",
    "def statCheck():\n",
    "    print(\"Your health: \"+str(health))\n",
    "    print(\"Your opponent's health: \"+str(healthOp))\n",
    "    if equipped > 0:\n",
    "        print(\"Your weapon's durablility: \"+str(equipped))\n",
    "    else:\n",
    "        print(\"You must have a weapon equipped to check its durability\")\n",
    "\n",
    "print(\"There is an enemy in front of you. You have a sword and hammer. You must equip one to fight\")\n",
    "print(\"You can fight (attack), check battle statistics (check), and defend (defend). To equip a weapon you must type 'equip'\")\n",
    "while health > 0:\n",
    "    choose()\n",
    "    if healthOp <= 0:\n",
    "        break\n",
    "    if health <= 0:\n",
    "        break\n",
    "    attackOp()\n",
    "if health <= 0:\n",
    "    print(\"You died\")\n",
    "if healthOp <= 0:\n",
    "    print(\"You win!\")\n",
    "print(\"End stats:\")\n",
    "statCheck()"
   ]
  }
 ],
 "metadata": {
  "kernelspec": {
   "display_name": "Python 3",
   "language": "python",
   "name": "python3"
  },
  "language_info": {
   "codemirror_mode": {
    "name": "ipython",
    "version": 3
   },
   "file_extension": ".py",
   "mimetype": "text/x-python",
   "name": "python",
   "nbconvert_exporter": "python",
   "pygments_lexer": "ipython3",
   "version": "3.8.10 (default, Jun 22 2022, 20:18:18) \n[GCC 9.4.0]"
  },
  "orig_nbformat": 4,
  "vscode": {
   "interpreter": {
    "hash": "916dbcbb3f70747c44a77c7bcd40155683ae19c65e1c03b4aa3499c5328201f1"
   }
  }
 },
 "nbformat": 4,
 "nbformat_minor": 2
}
