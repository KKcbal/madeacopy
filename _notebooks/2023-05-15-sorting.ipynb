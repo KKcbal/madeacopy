{
 "cells": [
  {
   "attachments": {},
   "cell_type": "markdown",
   "metadata": {},
   "source": [
    "# Sorting Algorithms\n"
   ]
  },
  {
   "cell_type": "code",
   "execution_count": 20,
   "metadata": {},
   "outputs": [
    {
     "name": "stdout",
     "output_type": "stream",
     "text": [
      "Random List\n",
      "[12, 18, 71, 27, 0, 37, 69, 78, 98, 20]\n",
      "[0, 12, 18, 20, 27, 37, 69, 71, 78, 98]\n"
     ]
    }
   ],
   "source": [
    "import random\n",
    "\n",
    "numbers = []\n",
    "for i in range(10):\n",
    "    numbers.append(random.randint(0,100))\n",
    "print(\"Random List\")\n",
    "print(numbers)\n",
    "\n",
    "bah = 0\n",
    "for n in numbers:\n",
    "    for n in numbers:\n",
    "        if bah == 9:\n",
    "            break\n",
    "        if n > numbers[bah+1]:\n",
    "            numbers.insert(bah+2, n)\n",
    "            numbers.pop(bah)\n",
    "        bah += 1\n",
    "    bah = 0\n",
    "\n",
    "print(numbers)"
   ]
  },
  {
   "cell_type": "code",
   "execution_count": 34,
   "metadata": {},
   "outputs": [
    {
     "name": "stdout",
     "output_type": "stream",
     "text": [
      "Random List\n",
      "['quantivalency', 'microsphere', 'The', 'caeremoniarius', 'chickenweed', 'inimitable', 'darts', 'preaccumulate', 'Silpha', 'reinterest']\n",
      "['caeremoniarius', 'chickenweed', 'darts', 'inimitable', 'microsphere', 'preaccumulate', 'quantivalency', 'reinterest', 'silpha', 'the']\n"
     ]
    },
    {
     "name": "stderr",
     "output_type": "stream",
     "text": [
      "[nltk_data] Downloading package words to /home/kkcbal/nltk_data...\n",
      "[nltk_data]   Package words is already up-to-date!\n"
     ]
    }
   ],
   "source": [
    "import nltk\n",
    "import random\n",
    "\n",
    "nltk.download('words')  # Download the word list (only required once)\n",
    "\n",
    "from nltk.corpus import words\n",
    "\n",
    "english_words = words.words()\n",
    "#print(len(english_words))  # Prints the number of words in the list\n",
    "\n",
    "# You can now use the 'english_words' list in your code\n",
    "\n",
    "words = []\n",
    "for i in range(10):\n",
    "    words.append(english_words[random.randint(0,len(english_words))])\n",
    "print(\"Random List\")\n",
    "print(words)\n",
    "\n",
    "fa = 0\n",
    "for word in words:\n",
    "    words[fa] = word.lower()\n",
    "    fa += 1\n",
    "bah = 0\n",
    "for n in words:\n",
    "    for n in words:\n",
    "        if bah == 9:\n",
    "            break\n",
    "        if n > words[bah+1]:\n",
    "            words.insert(bah+2, n)\n",
    "            words.pop(bah)\n",
    "        bah += 1\n",
    "    bah = 0\n",
    "print(words)"
   ]
  },
  {
   "cell_type": "code",
   "execution_count": 35,
   "metadata": {},
   "outputs": [
    {
     "name": "stdout",
     "output_type": "stream",
     "text": [
      "Original\n",
      "[{'name': 'Risa', 'age': 18, 'city': 'New York'}, {'name': 'John', 'age': 63, 'city': 'Eugene'}, {'name': 'Shekar', 'age': 18, 'city': 'San Francisco'}, {'name': 'Ryan', 'age': 21, 'city': 'Los Angeles'}]\n",
      "name\n",
      "[{'name': 'John', 'age': 63, 'city': 'Eugene'}, {'name': 'Risa', 'age': 18, 'city': 'New York'}, {'name': 'Ryan', 'age': 21, 'city': 'Los Angeles'}, {'name': 'Shekar', 'age': 18, 'city': 'San Francisco'}]\n",
      "age\n",
      "[{'name': 'Risa', 'age': 18, 'city': 'New York'}, {'name': 'Shekar', 'age': 18, 'city': 'San Francisco'}, {'name': 'Ryan', 'age': 21, 'city': 'Los Angeles'}, {'name': 'John', 'age': 63, 'city': 'Eugene'}]\n",
      "city\n",
      "[{'name': 'John', 'age': 63, 'city': 'Eugene'}, {'name': 'Ryan', 'age': 21, 'city': 'Los Angeles'}, {'name': 'Risa', 'age': 18, 'city': 'New York'}, {'name': 'Shekar', 'age': 18, 'city': 'San Francisco'}]\n"
     ]
    }
   ],
   "source": [
    "\"\"\"\n",
    "* Creator: Nighthawk Coding Society\n",
    "Bubble Sort of a List with optimizations\n",
    "\"\"\"\n",
    "\n",
    "# bubble sorts a list of dictionaries, base off of provided key\n",
    "def bubbleSort(list, key):\n",
    "    n = len(list) - 1  # list are indexed 0 to n-1, len is n\n",
    "    \n",
    "    # Traverse through list with i index\n",
    "    for i in range(n):\n",
    "        swapped = False  # optimize code, so it exits if now swaps on inner loop\n",
    "\n",
    "        # Inner traversal using j index\n",
    "        for j in range(n-i):  # n-i as positions on right are in order in bubble\n",
    " \n",
    "            # Swap if the element KeyN is greater KeyN1\n",
    "            keyN = list[j].get(key)\n",
    "            keyN1 = list[j+1].get(key)\n",
    "            if keyN > keyN1:\n",
    "                swapped = True\n",
    "                list[j], list[j + 1] = list[j + 1], list[j]  # single line swap\n",
    "         \n",
    "        if not swapped:  # if no swaps on inner pass, list is sorted\n",
    "            return  # exit function\n",
    "    \n",
    "\n",
    "if __name__ == \"__main__\":\n",
    "    # list/dictionary sample\n",
    "    list_of_people = [\n",
    "    {\"name\": \"Risa\", \"age\": 18, \"city\": \"New York\"},\n",
    "    {\"name\": \"John\", \"age\": 63, \"city\": \"Eugene\"},\n",
    "    {\"name\": \"Shekar\", \"age\": 18, \"city\": \"San Francisco\"},\n",
    "    {\"name\": \"Ryan\", \"age\": 21, \"city\": \"Los Angeles\"}\n",
    "    ]\n",
    "    \n",
    "    # assuming uniform keys, pick 1st row as source of keys\n",
    "    key_row = list_of_people[0]\n",
    "\n",
    "    # print list as defined\n",
    "    print(\"Original\")\n",
    "    print(list_of_people)\n",
    "    \n",
    "    for key in key_row:  # finds each key in the row\n",
    "        print(key)\n",
    "        bubbleSort(list_of_people, key)  # sort list of people\n",
    "        print(list_of_people)"
   ]
  },
  {
   "attachments": {},
   "cell_type": "markdown",
   "metadata": {},
   "source": [
    "Is a list and/or dictionary in python considered a primitive or collection type? Why?\n",
    "- They're considered a collection type. They store a collection of values.\n",
    "\n",
    "Is the list passed into bubble sort \"pass-by-value\" or \"pass-by-reference? Describe why in relation to output.\n",
    "- It's pass-by-reference. You're passing the reference to the array when you call bubblesort"
   ]
  },
  {
   "cell_type": "code",
   "execution_count": 25,
   "metadata": {},
   "outputs": [
    {
     "name": "stdout",
     "output_type": "stream",
     "text": [
      "name\n",
      "{'name': 'John', 'age': 63, 'city': 'Eugene'}\n",
      "{'name': 'Risa', 'age': 18, 'city': 'New York'}\n",
      "{'name': 'Ryan', 'age': 21, 'city': 'Los Angeles'}\n",
      "{'name': 'Shekar', 'age': 18, 'city': 'San Francisco'}\n",
      "age\n",
      "{'name': 'Risa', 'age': 18, 'city': 'New York'}\n",
      "{'name': 'Shekar', 'age': 18, 'city': 'San Francisco'}\n",
      "{'name': 'Ryan', 'age': 21, 'city': 'Los Angeles'}\n",
      "{'name': 'John', 'age': 63, 'city': 'Eugene'}\n",
      "city\n",
      "{'name': 'John', 'age': 63, 'city': 'Eugene'}\n",
      "{'name': 'Ryan', 'age': 21, 'city': 'Los Angeles'}\n",
      "{'name': 'Risa', 'age': 18, 'city': 'New York'}\n",
      "{'name': 'Shekar', 'age': 18, 'city': 'San Francisco'}\n"
     ]
    }
   ],
   "source": [
    "# Python program for implementation of Selection\n",
    "# Sort\n",
    "numToKey = {\n",
    "    0: \"name\",\n",
    "    1: \"age\",\n",
    "    2: \"city\"\n",
    "}\n",
    "list_of_people = [\n",
    "    {\"name\": \"Risa\", \"age\": 18, \"city\": \"New York\"},\n",
    "    {\"name\": \"John\", \"age\": 63, \"city\": \"Eugene\"},\n",
    "    {\"name\": \"Shekar\", \"age\": 18, \"city\": \"San Francisco\"},\n",
    "    {\"name\": \"Ryan\", \"age\": 21, \"city\": \"Los Angeles\"}\n",
    "    ]\n",
    "\n",
    "for A, B in numToKey.items():\n",
    "    for i in range(len(list_of_people)):\n",
    "        \n",
    "        # Find the minimum element in remaining\n",
    "        # unsorted array\n",
    "        min_idx = i\n",
    "        for j in range(i+1, len(list_of_people)):\n",
    "            if list_of_people[min_idx][B] > list_of_people[j][B]:\n",
    "                min_idx = j\n",
    "                \n",
    "        # Swap the found minimum element with\n",
    "        # the first element       \n",
    "        list_of_people[i], list_of_people[min_idx] = list_of_people[min_idx], list_of_people[i]\n",
    "    print(B)\n",
    "    for dictionary in list_of_people:\n",
    "        print(dictionary)"
   ]
  }
 ],
 "metadata": {
  "kernelspec": {
   "display_name": "base",
   "language": "python",
   "name": "python3"
  },
  "language_info": {
   "codemirror_mode": {
    "name": "ipython",
    "version": 3
   },
   "file_extension": ".py",
   "mimetype": "text/x-python",
   "name": "python",
   "nbconvert_exporter": "python",
   "pygments_lexer": "ipython3",
   "version": "3.9.12"
  },
  "orig_nbformat": 4
 },
 "nbformat": 4,
 "nbformat_minor": 2
}
