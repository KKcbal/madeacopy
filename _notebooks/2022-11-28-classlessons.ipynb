{
 "cells": [
  {
   "attachments": {},
   "cell_type": "markdown",
   "metadata": {},
   "source": [
    "# Class Lessons\n",
    ">Lessons created by the students\n",
    "\n",
    "- categories: [student lesson]"
   ]
  },
  {
   "cell_type": "markdown",
   "metadata": {},
   "source": [
    "To define a variable, type a one word name for the variable and use the equal (<mark>=</mark>) sign to set it equal to a value. A variable can be defined with numebers, strings, or booleans. "
   ]
  },
  {
   "cell_type": "markdown",
   "metadata": {},
   "source": [
    "Once a variable is defined, mathematical expressions can be used on it."
   ]
  },
  {
   "cell_type": "markdown",
   "metadata": {},
   "source": [
    "Function"
   ]
  },
  {
   "cell_type": "code",
   "execution_count": null,
   "metadata": {
    "vscode": {
     "languageId": "javascript"
    }
   },
   "outputs": [],
   "source": [
    "function Player(name, position, average) { // make a function \n",
    "    this.name = name; // different categories\n",
    "    this.position = position;\n",
    "    this.average = average;\n",
    "    this.role = \"\";\n",
    "}\n",
    "\n",
    "Player.prototype.setRole = function(role) { // whatever input we put into roles, it will be stored.\n",
    "    this.role = role;\n",
    "}\n",
    "\n",
    "Player.prototype.toJSON = function() {\n",
    "    const obj = {name: this.name, position: this.position, average: this.average, role: this.role};\n",
    "    const json = JSON.stringify(obj);\n",
    "    return json;\n",
    "}\n",
    "\n",
    "var manager = new Player(\"Bob Melvin\", \"Catcher\", \".233\"); // new player, including all the categories\n",
    "LogItType(manager);\n",
    "LogItType(manager.toJSON());\n",
    "\n",
    "manager.setRole(\"Manager\");\n",
    "LogItType(manager);\n",
    "LogItType(manager.toJSON());"
   ]
  },
  {
   "cell_type": "code",
   "execution_count": null,
   "metadata": {
    "vscode": {
     "languageId": "javascript"
    }
   },
   "outputs": [],
   "source": [
    "var players = [ // make a list, storing all the categories we had in the previous code segment. \n",
    "    new Player(\"Manny Machado\", \"Third Base\", \".299\"),\n",
    "    new Player(\"Trent Grisham\", \"Center Field\", \".185\"),\n",
    "    new Player(\"Jake Cronenworth\", \"Second Base\", \".238\"),\n",
    "    new Player(\"Jurickson Profar\", \"Left Field\", \".240\"),\n",
    "    new Player(\"Ha-Seong Kim\", \"Shortstop\", \".252\"),\n",
    "    new Player(\"Brandon Drury\", \"First Base\", \".226\"),\n",
    "    new Player(\"Jorge Alfaro\", \"Catcher\", \".249\"),\n",
    "    new Player(\"Wil Myers\", \"Right Field, First Base\", \".255\"),\n",
    "    new Player(\"Juan Soto\", \"Right Field\", \".242\"),\n",
    "    new Player(\"Austin Nola\", \"Catcher\", \".248\"),\n",
    "    new Player(\"Josh Bell\", \"Designated Hitter, First Base\", \".191\"),\n",
    "    new Player(\"Jose Azocar\", \"Outfield\", \".272\"), \n",
    "];\n",
    "\n",
    "function Padres(manager, players){ // new function in order to store the data\n",
    "\n",
    "    manager.setRole(\"Manager\");\n",
    "    this.manager = manager;\n",
    "    this.padres = [manager];\n",
    "    \n",
    "    this.players = players;\n",
    "    this.players.forEach(player => { player.setRole(\"Player\"); this.padres.push(player); });\n",
    "\n",
    "    this.json = [];\n",
    "    this.padres.forEach(player => this.json.push(player.toJSON()));\n",
    "}\n",
    "\n",
    "sd2022 = new Padres(manager, players); // this is how we will display it. \n",
    "\n",
    "LogItType(sd2022.padres);\n",
    "LogItType(sd2022.padres[0].name);\n",
    "LogItType(sd2022.json[0]);\n",
    "LogItType(JSON.parse(sd2022.json[0]));"
   ]
  },
  {
   "cell_type": "code",
   "execution_count": null,
   "metadata": {
    "vscode": {
     "languageId": "javascript"
    }
   },
   "outputs": [],
   "source": [
    "Padres.prototype._toHtml = function() { // display data in a table\n",
    "    var style = (\n",
    "        \"display:inline-block;\" +\n",
    "        \"border: 2px solid grey;\" +\n",
    "        \"box-shadow: 0.8em 0.4em 0.4em grey;\"\n",
    "    );\n",
    "    // set up the table\n",
    "\n",
    "    var body = \"\";\n",
    "    body += \"<tr>\";\n",
    "    body += \"<th><mark>\" + \"Name\" + \"</mark></th>\";\n",
    "    body += \"<th><mark>\" + \"Position\" + \"</mark></th>\";\n",
    "    body += \"<th><mark>\" + \"Batting Average\" + \"</mark></th>\";\n",
    "    body += \"<th><mark>\" + \"Role\" + \"</mark></th>\";\n",
    "    body += \"</tr>\";\n",
    "    \n",
    "      // include the data in the table according to categories. \n",
    "\n",
    "    for (var row of sd2022.padres) {\n",
    "        \n",
    "        body += \"<tr>\";\n",
    "        \n",
    "        body += \"<td>\" + row.name + \"</td>\";\n",
    "        body += \"<td>\" + row.position + \"</td>\";\n",
    "        body += \"<td>\" + row.average + \"</td>\";\n",
    "        body += \"<td>\" + row.role + \"</td>\";\n",
    "        \n",
    "        body += \"<tr>\";\n",
    "      }\n",
    "    \n",
    "       // html format\n",
    "      return (\n",
    "        \"<div style='\" + style + \"'>\" +\n",
    "          \"<table>\" +\n",
    "            body +\n",
    "          \"</table>\" +\n",
    "        \"</div>\"\n",
    "      );\n",
    "    \n",
    "    };\n",
    "    \n",
    "    \n",
    "    $$.html(sd2022._toHtml());"
   ]
  }
 ],
 "metadata": {
  "kernelspec": {
   "display_name": "Python 3",
   "language": "python",
   "name": "python3"
  },
  "language_info": {
   "name": "python",
   "version": "3.8.10 (default, Jun 22 2022, 20:18:18) \n[GCC 9.4.0]"
  },
  "orig_nbformat": 4,
  "vscode": {
   "interpreter": {
    "hash": "916dbcbb3f70747c44a77c7bcd40155683ae19c65e1c03b4aa3499c5328201f1"
   }
  }
 },
 "nbformat": 4,
 "nbformat_minor": 2
}
