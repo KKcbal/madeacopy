{
 "cells": [
  {
   "cell_type": "markdown",
   "metadata": {},
   "source": [
    "# September 8th notes\n",
    "> notes for September 8th\n",
    "\n",
    "- toc: true\n",
    "- categories: notes"
   ]
  },
  {
   "cell_type": "markdown",
   "metadata": {},
   "source": [
    "less notes more make up work"
   ]
  },
  {
   "cell_type": "markdown",
   "metadata": {},
   "source": [
    "### Theme change\n",
    "\n",
    "This was a theme change to the theme called \"time machine.\" I thought it would be a times new roman type theme but it still doesn't look bad. Honestly, I wouldn't mind keeping it like this.  I changed my mind, I just realized that the pages at the top are gone. The way it shows code is weird too."
   ]
  },
  {
   "cell_type": "code",
   "execution_count": 1,
   "metadata": {
    "vscode": {
     "languageId": "html"
    }
   },
   "outputs": [
    {
     "ename": "SyntaxError",
     "evalue": "invalid syntax (499775444.py, line 1)",
     "output_type": "error",
     "traceback": [
      "\u001b[0;36m  Input \u001b[0;32mIn [1]\u001b[0;36m\u001b[0m\n\u001b[0;31m    <img src=\"/madeacopy/images/fancy_asher.png\" alt=\"A theme change to make asher fancy\">\u001b[0m\n\u001b[0m    ^\u001b[0m\n\u001b[0;31mSyntaxError\u001b[0m\u001b[0;31m:\u001b[0m invalid syntax\n"
     ]
    }
   ],
   "source": [
    "<img src=\"/madeacopy/images/fancy_asher.png\" alt=\"A theme change to make asher fancy\">\n",
    "<img src=\"/madeacopy/images/fancy_ashers_code\" alt=\"fancy asher's code, it looks weird\">"
   ]
  },
  {
   "cell_type": "markdown",
   "metadata": {},
   "source": [
    "### Table\n",
    "\n",
    "I'm going to make a table here, if it's not here then it will be soon"
   ]
  },
  {
   "cell_type": "code",
   "execution_count": null,
   "metadata": {
    "vscode": {
     "languageId": "html"
    }
   },
   "outputs": [],
   "source": [
    "<table>\n",
    "    <tr>\n",
    "        <th>Column one</th>\n",
    "        <th>Column two</th>\n",
    "        <th>Column three</th>\n",
    "    </tr>\n",
    "    <tr>\n",
    "        <td> m3</td>\n",
    "        <td> me</td>\n",
    "        <td>/gamer</td>\n",
    "    </tr>\n",
    "    <tr>\n",
    "        <td>thsi</td>\n",
    "        <td>is</td>\n",
    "        <td>tedious</td>\n",
    "    </tr>\n",
    "    <tr>\n",
    "        <a href=\"https://kkcbal.github.io/madeacopy/Jesse/\"> Jesse</a>\n",
    "        <img src=\"/madeacopy/images/penut.jpg\" alt=\"penut\">\n",
    "        <p> text </p>\n",
    "    </tr>\n",
    "</table>"
   ]
  }
 ],
 "metadata": {
  "kernelspec": {
   "display_name": "Python 3.8.10 64-bit",
   "language": "python",
   "name": "python3"
  },
  "language_info": {
   "codemirror_mode": {
    "name": "ipython",
    "version": 3
   },
   "file_extension": ".py",
   "mimetype": "text/x-python",
   "name": "python",
   "nbconvert_exporter": "python",
   "pygments_lexer": "ipython3",
   "version": "3.8.10"
  },
  "orig_nbformat": 4,
  "vscode": {
   "interpreter": {
    "hash": "916dbcbb3f70747c44a77c7bcd40155683ae19c65e1c03b4aa3499c5328201f1"
   }
  }
 },
 "nbformat": 4,
 "nbformat_minor": 2
}
