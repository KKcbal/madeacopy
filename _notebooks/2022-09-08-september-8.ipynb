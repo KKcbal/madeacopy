{
 "cells": [
  {
   "cell_type": "markdown",
   "metadata": {},
   "source": [
    "# September 8th notes\n",
    "> notes for September 8th\n",
    "\n",
    "- toc: true\n",
    "- categories: notes"
   ]
  },
  {
   "cell_type": "markdown",
   "metadata": {},
   "source": [
    "less notes more make up work\n",
    "\n",
    "I couldn't put the html into the cells so I made posts for them and put links to them here"
   ]
  },
  {
   "cell_type": "markdown",
   "metadata": {},
   "source": [
    "### Theme change\n",
    "\n",
    "This was a theme change to the theme called \"time machine.\" I thought it would be a times new roman type theme but it still doesn't look bad. Honestly, I wouldn't mind keeping it like this.  I changed my mind, I just realized that the pages at the top are gone. The way it shows code is weird too."
   ]
  },
  {
   "cell_type": "markdown",
   "metadata": {},
   "source": [
    "https://kkcbal.github.io/madeacopy/2022/09/08/esptember-theme.html"
   ]
  },
  {
   "cell_type": "markdown",
   "metadata": {},
   "source": [
    "### Table\n",
    "\n",
    "I'm going to make a table here, if it's not here then it will be soon"
   ]
  },
  {
   "cell_type": "markdown",
   "metadata": {},
   "source": [
    "https://kkcbal.github.io/madeacopy/2022/09/08/Septemebr-html.html"
   ]
  }
 ],
 "metadata": {
  "kernelspec": {
   "display_name": "Python 3.8.10 64-bit",
   "language": "python",
   "name": "python3"
  },
  "language_info": {
   "codemirror_mode": {
    "name": "ipython",
    "version": 3
   },
   "file_extension": ".py",
   "mimetype": "text/x-python",
   "name": "python",
   "nbconvert_exporter": "python",
   "pygments_lexer": "ipython3",
   "version": "3.8.10"
  },
  "orig_nbformat": 4,
  "vscode": {
   "interpreter": {
    "hash": "916dbcbb3f70747c44a77c7bcd40155683ae19c65e1c03b4aa3499c5328201f1"
   }
  }
 },
 "nbformat": 4,
 "nbformat_minor": 2
}
