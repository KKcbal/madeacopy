{
 "cells": [
  {
   "attachments": {},
   "cell_type": "markdown",
   "metadata": {},
   "source": [
    "**expert opinion:** a highly respected person in the field provides their perspective, which has been formed from their experience, studies, and observations  \n",
    "**statistic:** a fact or a piece of data from a study of a large quantity of numerical data  \n",
    "**fact:** a thing that is known or proved to be true  \n",
    "**example:** a sample of something taken to show what the whole is like  \n",
    "*There's a HUGE difference between opinion and expert opinion*"
   ]
  },
  {
   "attachments": {},
   "cell_type": "markdown",
   "metadata": {},
   "source": [
    "**How do I know if someone is an expert?**  \n",
    "Their peers trust and respect them  \n",
    "they have published scholarly work in their area of expertise  \n",
    "They are considered successful in their field  \n",
    "Their name comes up in reference articles about the topic   \n",
    "They have formal training and/or many years of experience  "
   ]
  },
  {
   "attachments": {},
   "cell_type": "markdown",
   "metadata": {},
   "source": [
    "**How do I know if statistics and facts are reliable?**  \n",
    "they come from peer-reviewed studies  \n",
    "they are found in scholarly journals  \n",
    "they are corroborated by multiple sources"
   ]
  },
  {
   "attachments": {},
   "cell_type": "markdown",
   "metadata": {},
   "source": [
    "**What is confirmation bias?**  \n",
    "Definition: the tendency to interpret new evidence as confirmation of one's existing beliefs or theories   \n",
    "we tend to make up our minds about a topic or issue and then seek out information that tells us we are right   \n",
    "look at who is sponsoring or producing the information -- do they have an agenda?"
   ]
  },
  {
   "attachments": {},
   "cell_type": "markdown",
   "metadata": {},
   "source": [
    "Incorporating *The Great Gatsby* or 1920s  \n",
    "4/25/23  \n",
    "\n",
    "Does your topic clearly connect to one or more of the characters from *The Great Gatsby*?  \n",
    "<ul>\n",
    "    <li>Options for using the novel:</li>\n",
    "    <ul>\n",
    "        <li>Include it at the beginning of the paper as a hook</li>\n",
    "        <li>Compare a piece of data to an example from the book</li>\n",
    "    </ul>\n",
    "</ul>\n",
    "Does your topic have a clearer comparison to the era of the 1920s in general?\n",
    "<ul>\n",
    "    <li>Options for using historical research:</li>\n",
    "    <ul>\n",
    "        <li>include it at the beginning of the paper as a hook</li>\n",
    "        <li>Compare past to present</li>\n",
    "        <li>Describe a cause and effect</li>\n",
    "    </ul>\n",
    "</ul>"
   ]
  }
 ],
 "metadata": {
  "language_info": {
   "name": "python"
  },
  "orig_nbformat": 4
 },
 "nbformat": 4,
 "nbformat_minor": 2
}
