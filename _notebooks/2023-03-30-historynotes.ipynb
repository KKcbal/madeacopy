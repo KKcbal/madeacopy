{
 "cells": [
  {
   "attachments": {},
   "cell_type": "markdown",
   "metadata": {},
   "source": [
    "# US History Notes\n",
    "> It's cool this way\n",
    "\n",
    "- toc: true\n",
    "- categories: history"
   ]
  },
  {
   "attachments": {},
   "cell_type": "markdown",
   "metadata": {},
   "source": [
    "## WWI Context\n",
    "WWI killed more than 9 million soldiers and involved 28 countries.  \n",
    "It cost about $190 billion  \n",
    "7 - 10 million civilians killed  \n",
    "Began after the assassination of Archduke Franz Ferdinand of Austria  "
   ]
  },
  {
   "attachments": {},
   "cell_type": "markdown",
   "metadata": {},
   "source": [
    "## Issues in Europe\n",
    "Russia can’t break through German lines  \n",
    "In Russia, economic instability and scarcity of food  \n",
    "Poverty-stricken workers direct hostility towards Czar Nicholas II and his wife  \n",
    "Leads to revolution in 1905, followed by another in 1917  \n",
    "Vladimir Lenin leads Bolsheviks in 1917 to seize power  \n",
    "Ends Russian role in WWI"
   ]
  },
  {
   "attachments": {},
   "cell_type": "markdown",
   "metadata": {},
   "source": [
    "## The Aftermath\n",
    "Paris Peace conference in 1919 after war ends.  \n",
    "Treaty of Versailles:  \n",
    "- War guilt\n",
    "- Heavy reparations\n",
    "- Denied entrance to League of Nations\n",
    "- Limited Military\n"
   ]
  },
  {
   "attachments": {},
   "cell_type": "markdown",
   "metadata": {},
   "source": [
    "## Where does that leave us\n",
    "through 1930s Europe is very unstable  \n",
    "When Germany attacks poland, WWII begins and US clings to neutrality  \n",
    "Adolf Hitler and Nazi party take control of Germany  \n",
    "Japan expands territory in Asia  \n",
    "Benito Mussolini seized power in Italy  "
   ]
  }
 ],
 "metadata": {
  "language_info": {
   "name": "python"
  },
  "orig_nbformat": 4
 },
 "nbformat": 4,
 "nbformat_minor": 2
}
