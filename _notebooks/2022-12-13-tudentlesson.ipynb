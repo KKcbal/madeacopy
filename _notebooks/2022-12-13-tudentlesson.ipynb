{
 "cells": [
  {
   "attachments": {},
   "cell_type": "markdown",
   "metadata": {},
   "source": [
    "# student lesson\n",
    "> 13/12/22"
   ]
  },
  {
   "attachments": {},
   "cell_type": "markdown",
   "metadata": {},
   "source": [
    "Simulations are abstractions that mimic more complex objects or phenomena from the real world. Purposes include drawing inferences without the contraints of the real world  \n",
    "\n",
    "Simulations use varying sets of values to reflect the changing state of a real phenomenon  \n",
    "\n",
    "Often, when developing a simulation, it is necessary to remove specific details or simplify aspects. Simulations can often contain bias based on which details or real-world elements were included/excluded\n",
    "\n",
    "Simulations allow the formulation of hypotheses under consideration\n",
    "\n",
    "Variability and randomness of the world is considered using random number generators\n",
    "\n",
    "Examples: rolling dice, spinners, molecular models, analyze chemicals/reactions..."
   ]
  },
  {
   "cell_type": "code",
   "execution_count": null,
   "metadata": {},
   "outputs": [],
   "source": [
    "import random # a module that defines a series of functions for generating or manipulating random integers\n",
    "random.choice() #returns a randomly selected element from the specified sequence\n",
    "random.choice(mylist) # returns random value from list\n",
    "random.randint(0,10) #randomly selects an integer from given range; range in this case is from 0 to 10\n",
    "random.random()"
   ]
  },
  {
   "cell_type": "code",
   "execution_count": 27,
   "metadata": {},
   "outputs": [
    {
     "name": "stdout",
     "output_type": "stream",
     "text": [
      "55\n"
     ]
    }
   ],
   "source": [
    "import random\n",
    "x = random.randrange(1, 101)\n",
    "print(x)"
   ]
  },
  {
   "cell_type": "code",
   "execution_count": 43,
   "metadata": {},
   "outputs": [
    {
     "name": "stdout",
     "output_type": "stream",
     "text": [
      "['red shoes', 'green pants', 'tie']\n"
     ]
    }
   ],
   "source": [
    "def mycloset():\n",
    "    myclothes = [\"red shoes\", \"green pants\", \"tie\", \"belt\"]\n",
    "    myclothes.remove(random.choice(myclothes))\n",
    "    print(myclothes)\n",
    "mycloset()\n"
   ]
  },
  {
   "cell_type": "code",
   "execution_count": 63,
   "metadata": {},
   "outputs": [
    {
     "name": "stdout",
     "output_type": "stream",
     "text": [
      "2\n",
      "tails\n"
     ]
    }
   ],
   "source": [
    "c = random.randint(1, 3)\n",
    "print(c)\n",
    "if c % 2 == 1:\n",
    "    print(\"heads\")\n",
    "else:\n",
    "    print(\"tails\")"
   ]
  },
  {
   "cell_type": "code",
   "execution_count": 85,
   "metadata": {},
   "outputs": [
    {
     "name": "stdout",
     "output_type": "stream",
     "text": [
      "94\n",
      "01011110\n",
      "[['drew', 'normal'], ['dew', 'zombie'], ['der', 'normal'], ['dre', 'zombie'], ['der', 'zombie'], ['wed', 'zombie'], ['rde', 'zombie'], ['red', 'normal']]\n"
     ]
    }
   ],
   "source": [
    "binary1 = 0\n",
    "binary2 = 0\n",
    "binary3 = 0\n",
    "binary4 = 0\n",
    "binary5 = 0\n",
    "binary6 = 0\n",
    "binary7 = 0\n",
    "binary8 = 0\n",
    "i = 0\n",
    "num = random.randint(1,255)\n",
    "while i < num: # very long binary converter\n",
    "    if binary1 == 0: binary1 += 1 # it will go through each binary variable above\n",
    "    else:                         # and check if it's a 1 or a 0. if its a 0 it becomes a 1\n",
    "        binary1 = 0               # and if its a 1 it becomes a 0 and moves onto the next variable\n",
    "        if binary2 == 0: binary2 += 1\n",
    "        else:\n",
    "            binary2 = 0\n",
    "            if binary3 == 0: binary3 += 1\n",
    "            else:\n",
    "                binary3 = 0\n",
    "                if binary4 == 0: binary4 += 1\n",
    "                else: \n",
    "                    binary4 = 0\n",
    "                    if binary5 == 0: binary5 += 1\n",
    "                    else:\n",
    "                        binary5 = 0\n",
    "                        if binary6 == 0: binary6 += 1\n",
    "                        else:\n",
    "                            binary6 = 0\n",
    "                            if binary7 == 0: binary7 += 1\n",
    "                            else:\n",
    "                                binary7 = 0\n",
    "                                if binary8 == 0: binary8 += 1\n",
    "    i += 1\n",
    "print(num)\n",
    "bin = [str(binary8), str(binary7), str(binary6), str(binary5), str(binary4), str(binary3), str(binary2), str(binary1)]\n",
    "binary = \"\"  # the list above is putting each variable together and \"binary\" is defined for no errors\n",
    "for n in bin: # this goes through the list bin[] and adds each variable to the string \"binary\"\n",
    "    binary = binary + n\n",
    "print(binary)\n",
    "surv = [\"drew\", \"dew\", \"der\", \"dre\", \"der\", \"wed\", \"rde\", \"red\"]\n",
    "z = 0\n",
    "while z < 8: # this code uses both lists to determine who's alive and dead\n",
    "    if bin[z] == \"0\":  # the increasing variable of a while loop is used as the index for each list\n",
    "        surv[z] = [surv[z], \"normal\"] # if 0, the person is assigned as normal\n",
    "    else:\n",
    "        surv[z] = [surv[z], \"zombie\"] # if 1, the person is assigned as zombie\n",
    "    z += 1\n",
    "print(surv)"
   ]
  },
  {
   "cell_type": "code",
   "execution_count": 73,
   "metadata": {},
   "outputs": [
    {
     "name": "stdout",
     "output_type": "stream",
     "text": [
      "3\n"
     ]
    }
   ],
   "source": [
    "d = random.randint(1, 6)\n",
    "print(d)"
   ]
  },
  {
   "cell_type": "code",
   "execution_count": 19,
   "metadata": {},
   "outputs": [
    {
     "name": "stdout",
     "output_type": "stream",
     "text": [
      "ayo the pizza here\n",
      "yea\n",
      "brass monkey\n",
      "wrong. you idiot\n",
      "big?\n",
      "yea\n",
      "family guy funny moments #3\n",
      "yea\n",
      "you got 3/4. good job. or bad job if you did bad\n"
     ]
    }
   ],
   "source": [
    "import random\n",
    "correct = 0\n",
    "plck = 0\n",
    "q1 = {\n",
    "    \"big?\" : \"yosh\"\n",
    "}\n",
    "q2 = {\n",
    "    \"ayo the pizza here\" : \"ah, my ears burn\"\n",
    "}\n",
    "q3= {\n",
    "    \"family guy funny moments #3\" : \"haha\"\n",
    "}\n",
    "q4 = {\n",
    "    \"brass monkey\" : \"that funky monkey\"\n",
    "}\n",
    "quesitons = [q1, q2, q3, q4, \"blaknk\"]\n",
    "for n in quesitons:\n",
    "    w = random.randrange(4)\n",
    "    q = random.randrange(4)\n",
    "    quesitons[4] = quesitons[w]\n",
    "    quesitons[w] = quesitons[q]\n",
    "    quesitons[q] = quesitons[4]\n",
    "quesitons.pop(4)\n",
    "for u in quesitons:\n",
    "    for n, c in u.items():\n",
    "        print(n)\n",
    "        a = input(\"Write answer here\")\n",
    "        if a == c:\n",
    "            correct += 1\n",
    "            print(\"yea\")\n",
    "        else:\n",
    "            print(\"wrong. you idiot\")\n",
    "print(\"you got \" + str(correct) + \"/4. good job. or bad job if you did bad\")"
   ]
  },
  {
   "cell_type": "code",
   "execution_count": 20,
   "metadata": {},
   "outputs": [
    {
     "name": "stdout",
     "output_type": "stream",
     "text": [
      "4782034\n",
      "400316\n",
      "You lost. \n"
     ]
    }
   ],
   "source": [
    "import random\n",
    "# I'm going to simulate the lottery\n",
    "lucky = random.randint(1, 13983816) # I took the first statistic I found online. 1 in 13,983,816\n",
    "pick = input(\"Pick Your number\")\n",
    "print(lucky)\n",
    "print(pick)\n",
    "if plck == lucky:\n",
    "    print(\"You won! That's impossible!\")\n",
    "else:\n",
    "    print(\"You lost. \")"
   ]
  },
  {
   "attachments": {},
   "cell_type": "markdown",
   "metadata": {},
   "source": [
    "If you've got a keen eyesight, you might notice a certain something in this code. I'm going to eliminate the joke immedietly by saying that it's impossible to win. This is true in two ways. First, the lottery is literally impossible. I'm not saying it's rigged, it's just so extremely unlikely that the only way to properly express it is impossible. Second, it's impossible, I lied. I made this impossible as a goof. The value you input becomes pick but the code checks plck, which is a variable defined in the cell before. "
   ]
  }
 ],
 "metadata": {
  "kernelspec": {
   "display_name": "base",
   "language": "python",
   "name": "python3"
  },
  "language_info": {
   "codemirror_mode": {
    "name": "ipython",
    "version": 3
   },
   "file_extension": ".py",
   "mimetype": "text/x-python",
   "name": "python",
   "nbconvert_exporter": "python",
   "pygments_lexer": "ipython3",
   "version": "3.9.12"
  },
  "orig_nbformat": 4,
  "vscode": {
   "interpreter": {
    "hash": "6ccb6558ef2ee8ddcd1889f8d547b1546f932296c7f2f80f67fdee00b5700eff"
   }
  }
 },
 "nbformat": 4,
 "nbformat_minor": 2
}
