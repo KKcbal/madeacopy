{
 "cells": [
  {
   "cell_type": "markdown",
   "metadata": {},
   "source": [
    "# 7 September Notes\n",
    "> Notes/code for september 7th\n",
    "\n",
    "- categories: notes"
   ]
  },
  {
   "cell_type": "markdown",
   "metadata": {},
   "source": [
    "It's week 4. We didn't have a lecture on tuesday and monday was labor day. Today we're doing this scratch like thing on code.org.\n",
    "\n",
    "Our assignment this week is to make a three question quiz using code.org with a partner. "
   ]
  },
  {
   "cell_type": "markdown",
   "metadata": {},
   "source": [
    "I've made a very bad quiz. It was put together pretty quickly. I'll put a link to it. https://studio.code.org/projects/applab/jL0yHKzp6fbT1SgLsaZoBj4sZsEYzg2vhfZSqev5jG0 It's three questions like the assignment required, there's an incorrect and correct screen, that's kind of all. sadly i wasn't able to work on my personal project today but whatever"
   ]
  }
 ],
 "metadata": {
  "kernelspec": {
   "display_name": "Python 3.8.10 64-bit",
   "language": "python",
   "name": "python3"
  },
  "language_info": {
   "name": "python",
   "version": "3.8.10"
  },
  "orig_nbformat": 4,
  "vscode": {
   "interpreter": {
    "hash": "916dbcbb3f70747c44a77c7bcd40155683ae19c65e1c03b4aa3499c5328201f1"
   }
  }
 },
 "nbformat": 4,
 "nbformat_minor": 2
}
