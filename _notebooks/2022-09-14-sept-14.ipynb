{
 "cells": [
  {
   "cell_type": "markdown",
   "metadata": {},
   "source": [
    "# September 14th\n",
    "> God help me we're installing the server\n",
    "\n",
    "- categories: test"
   ]
  },
  {
   "cell_type": "markdown",
   "metadata": {},
   "source": [
    "The class is two instillations, one is the server and the other is a web application. I hate the server, I've spent two classes trying to get it to work and I ended in the exact same spot both times, no exageration."
   ]
  },
  {
   "cell_type": "markdown",
   "metadata": {},
   "source": [
    "I'll install the web application and see if i can skip the server or something. I'll test some code here if i have time"
   ]
  },
  {
   "cell_type": "markdown",
   "metadata": {},
   "source": [
    "I have the change to the web application here:\n",
    "![](/home/kkcbal/vscode/madeacopy/images/webappchange.png)"
   ]
  },
  {
   "cell_type": "code",
   "execution_count": 4,
   "metadata": {},
   "outputs": [
    {
     "name": "stdout",
     "output_type": "stream",
     "text": [
      "{'up': 'down', 'left': 'right', 'red': 'blue'}\n",
      "1\n",
      "2\n"
     ]
    }
   ],
   "source": [
    "question_and_answer=[]\n",
    "question_and_answer.append({\n",
    "    \"up\":\"down\",\n",
    "    \"left\":\"right\",\n",
    "    \"red\":\"blue\"\n",
    "})\n",
    "\n",
    "print(question_and_answer[0])\n",
    "\n",
    "quesiton = 1\n",
    "print(quesiton)\n",
    "quesiton += 1\n",
    "print(quesiton)"
   ]
  }
 ],
 "metadata": {
  "kernelspec": {
   "display_name": "Python 3.8.10 64-bit",
   "language": "python",
   "name": "python3"
  },
  "language_info": {
   "codemirror_mode": {
    "name": "ipython",
    "version": 3
   },
   "file_extension": ".py",
   "mimetype": "text/x-python",
   "name": "python",
   "nbconvert_exporter": "python",
   "pygments_lexer": "ipython3",
   "version": "3.8.10"
  },
  "orig_nbformat": 4,
  "vscode": {
   "interpreter": {
    "hash": "916dbcbb3f70747c44a77c7bcd40155683ae19c65e1c03b4aa3499c5328201f1"
   }
  }
 },
 "nbformat": 4,
 "nbformat_minor": 2
}
