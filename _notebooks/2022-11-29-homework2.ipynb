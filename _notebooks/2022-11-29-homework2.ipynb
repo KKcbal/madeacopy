{
 "cells": [
  {
   "cell_type": "markdown",
   "metadata": {},
   "source": [
    "# Homework 2\n",
    "> homework for the second class lesson"
   ]
  },
  {
   "cell_type": "code",
   "execution_count": 11,
   "metadata": {},
   "outputs": [
    {
     "name": "stdout",
     "output_type": "stream",
     "text": [
      "156\n",
      "10011100\n"
     ]
    }
   ],
   "source": [
    "binary1 = 0\n",
    "binary2 = 0\n",
    "binary3 = 0\n",
    "binary4 = 0\n",
    "binary5 = 0\n",
    "binary6 = 0\n",
    "binary7 = 0\n",
    "binary8 = 0\n",
    "i = 0\n",
    "user = input(\"what number do you want? Limit is 255\")\n",
    "while i < int(user):\n",
    "    if binary1 == 0: binary1 += 1\n",
    "    else:\n",
    "        binary1 = 0\n",
    "        if binary2 == 0: binary2 += 1\n",
    "        else:\n",
    "            binary2 = 0\n",
    "            if binary3 == 0: binary3 += 1\n",
    "            else:\n",
    "                binary3 = 0\n",
    "                if binary4 == 0: binary4 += 1\n",
    "                else: \n",
    "                    binary4 = 0\n",
    "                    if binary5 == 0: binary5 += 1\n",
    "                    else:\n",
    "                        binary5 = 0\n",
    "                        if binary6 == 0: binary6 += 1\n",
    "                        else:\n",
    "                            binary6 = 0\n",
    "                            if binary7 == 0: binary7 += 1\n",
    "                            else:\n",
    "                                binary7 = 0\n",
    "                                if binary8 == 0: binary8 += 1\n",
    "    i += 1\n",
    "print(user)\n",
    "print(str(binary8) + str(binary7) + str(binary6) + str(binary5) + str(binary4) + str(binary3) + str(binary2) + str(binary1))"
   ]
  },
  {
   "cell_type": "code",
   "execution_count": 1,
   "metadata": {},
   "outputs": [
    {
     "name": "stdout",
     "output_type": "stream",
     "text": [
      "jaden\n",
      "5\n",
      "max\n",
      "3\n",
      "dylan\n",
      "5\n",
      "orlando\n",
      "7\n"
     ]
    }
   ],
   "source": [
    "names = [\"jaden\",\"max\",\"dylan\",\"orlando\"]\n",
    "\n",
    "for n in names:\n",
    "    print(n)\n",
    "    print(len(n))"
   ]
  }
 ],
 "metadata": {
  "kernelspec": {
   "display_name": "Python 3.9.12 ('base')",
   "language": "python",
   "name": "python3"
  },
  "language_info": {
   "codemirror_mode": {
    "name": "ipython",
    "version": 3
   },
   "file_extension": ".py",
   "mimetype": "text/x-python",
   "name": "python",
   "nbconvert_exporter": "python",
   "pygments_lexer": "ipython3",
   "version": "3.9.12"
  },
  "orig_nbformat": 4,
  "vscode": {
   "interpreter": {
    "hash": "6ccb6558ef2ee8ddcd1889f8d547b1546f932296c7f2f80f67fdee00b5700eff"
   }
  }
 },
 "nbformat": 4,
 "nbformat_minor": 2
}
