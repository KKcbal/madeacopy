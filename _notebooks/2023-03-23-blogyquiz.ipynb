{
 "cells": [
  {
   "attachments": {},
   "cell_type": "markdown",
   "metadata": {},
   "source": [
    "# Collegeboard quiz and CPT blog"
   ]
  },
  {
   "attachments": {},
   "cell_type": "markdown",
   "metadata": {},
   "source": [
    "##### A store uses binary numbers to assign a unique binary sequence to each item in its inventory. What is the minimum number of bits required for each binary sequence if the store has between 75 and 100 items in its inventory?  \n",
    "**Answer:** 7  \n",
    "**My answer:** 6  \n",
    "I misunderstood binary\n",
    "\n",
    "##### In which of the following situations would it be most appropriate to choose lossy compression over lossless compression?  \n",
    "**Answer:** Storing music files on a smartphone in order to maximize the number of songs that can be stored  \n",
    "**My answer:** Storing a formatted text document to be restored to its original version for a print publication  \n",
    "I figured that a text document would suffer the least from lossy, so it's best to choose\n",
    "\n",
    "##### The teacher wants to determine whether students who play a sport are more or less likely to have higher grade point averages than students who do not play any sports. Which of the following pairs of spreadsheets can be combined and analyzed to determine the desired information?  \n",
    "**Answer:** Spreadsheets I and II  \n",
    "**My answer:** Spreadsheets II and III  \n",
    "I thought it would be better to sort through students in sports and students above 3.5 gpa rather than sort through students in sports and all students  \n",
    "\n",
    "##### Using only the data collected during the 7-day period, which of the following statements is true?  \n",
    "**Answer:** The total number of items purchased on a given date can be determined by searching the data for all transactions that occurred on the given date and then adding the number of items purchased for each matching transaction.  \n",
    "**My answer:** The method of payment that was used in the greatest number of transactions during the 7-day period can be determined by sorting the data by the method of payment, then adding the number of items purchased for each type of payment method, and then finding the maximum sum.  \n",
    "I missread the answer. I now see that it was wrong, I just got mixed up from all the words\n",
    "\n",
    "##### Which of the following expressions will evaluate to true if the restaurant should be counted and evaluates to false otherwise?\n",
    "**Answer:** (avgRating ≥ 4.0) AND ((prcRange = \"lo\") OR (prcRange = \"med\"))  \n",
    "**My answer:** (avgRating ≥ 4.0) AND ((prcRange = \"lo\") AND (prcRange = \"med\"))  \n",
    "I was just stupid with this one. I should have known it was or instead of and"
   ]
  },
  {
   "attachments": {},
   "cell_type": "markdown",
   "metadata": {},
   "source": [
    "There are definitely ways for me to improve my CPT project. I could make the UI more readable. I could scale the difficulty more, I feel like it's too easy right now. I could add more gimmicks, give more to do in the game. I should add update and delete. I think my priority is to add update. I don't think delete is too important. After that I'll make game adjustments. I'll scale the difficulty and finish coding a different attack for the player to use. One problem is that I can see the new attack becoming obsolete very quickly, as I currently have it's damage as a constant. I'm thinking of making it a multiple of the attack stat. \n",
    "\n",
    "- Add update\n",
    "- increase opponent health or increase their damage\n",
    "- finish coding new attack"
   ]
  }
 ],
 "metadata": {
  "language_info": {
   "name": "python"
  },
  "orig_nbformat": 4
 },
 "nbformat": 4,
 "nbformat_minor": 2
}
