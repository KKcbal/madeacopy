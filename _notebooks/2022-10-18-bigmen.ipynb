{
 "cells": [
  {
   "cell_type": "markdown",
   "metadata": {},
   "source": [
    "# Video script"
   ]
  },
  {
   "cell_type": "markdown",
   "metadata": {},
   "source": [
    "Hello, I am AJ Ruiz and I am the frontend developer. Here I have the homepage for our website. Everything here is filler but displays what the frontend developer can do. I can show you the code behind this page. While I found this code very confusing at a first glance, It didn't take long for me to understand it. This page was made with html. As you can see, there's a lot pieces that go to this page. There's three sections of code, one for each card. In each card, there's code to define what the images and text will look like. You can see the text written here with code to make it a list. You can also see values to define what size the image will be"
   ]
  }
 ],
 "metadata": {
  "kernelspec": {
   "display_name": "Python 3.9.12 ('base')",
   "language": "python",
   "name": "python3"
  },
  "language_info": {
   "name": "python",
   "version": "3.9.12"
  },
  "orig_nbformat": 4,
  "vscode": {
   "interpreter": {
    "hash": "6ccb6558ef2ee8ddcd1889f8d547b1546f932296c7f2f80f67fdee00b5700eff"
   }
  }
 },
 "nbformat": 4,
 "nbformat_minor": 2
}
