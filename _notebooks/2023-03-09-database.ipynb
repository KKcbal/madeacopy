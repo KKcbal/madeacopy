{
 "cells": [
  {
   "cell_type": "code",
   "execution_count": 4,
   "metadata": {},
   "outputs": [
    {
     "name": "stdout",
     "output_type": "stream",
     "text": [
      "                    Name   Time  Level                pin\n",
      "0          Thomas Edison    181    100              aspoi\n",
      "1         Nicholas Tesla    613    200              brian\n",
      "2   Alexander Grand Bell    440    123              23451\n",
      "3            Eli Whitney    369    432                who\n",
      "4         John Mortensen  36981    340               apcs\n",
      "5    aj ruiz im soo cool     36      1       imreallycool\n",
      "6         you the viewer     74      1  wow, your so cool\n",
      "7                   aras      0      0               asdf\n",
      "8                   1234      0      0               1234\n",
      "9             le creator     17      0          imadethis\n",
      "10           le creatorr    155      6  ineedtomakeupdate\n",
      "\n",
      "                    Name   Time  Level                pin\n",
      "4         John Mortensen  36981    340               apcs\n",
      "1         Nicholas Tesla    613    200              brian\n",
      "2   Alexander Grand Bell    440    123              23451\n",
      "3            Eli Whitney    369    432                who\n",
      "0          Thomas Edison    181    100              aspoi\n",
      "10           le creatorr    155      6  ineedtomakeupdate\n",
      "6         you the viewer     74      1  wow, your so cool\n",
      "5    aj ruiz im soo cool     36      1       imreallycool\n",
      "9             le creator     17      0          imadethis\n",
      "7                   aras      0      0               asdf\n",
      "8                   1234      0      0               1234\n"
     ]
    }
   ],
   "source": [
    "import pandas as pd\n",
    "df = pd.read_json('files/mine.json')\n",
    "\n",
    "print(df)\n",
    "print()\n",
    "print(df.sort_values(by=['Time'], ascending=False))"
   ]
  },
  {
   "cell_type": "code",
   "execution_count": 5,
   "metadata": {},
   "outputs": [
    {
     "name": "stdout",
     "output_type": "stream",
     "text": [
      "          Name  Time  Level  pin\n",
      "3  Eli Whitney   369    432  who\n",
      "\n",
      "         Name  Time  Level        pin\n",
      "7        aras     0      0       asdf\n",
      "8        1234     0      0       1234\n",
      "9  le creator    17      0  imadethis\n"
     ]
    }
   ],
   "source": [
    "print(df[df.Level == df.Level.max()])\n",
    "print()\n",
    "print(df[df.Level == df.Level.min()])"
   ]
  }
 ],
 "metadata": {
  "kernelspec": {
   "display_name": "base",
   "language": "python",
   "name": "python3"
  },
  "language_info": {
   "codemirror_mode": {
    "name": "ipython",
    "version": 3
   },
   "file_extension": ".py",
   "mimetype": "text/x-python",
   "name": "python",
   "nbconvert_exporter": "python",
   "pygments_lexer": "ipython3",
   "version": "3.9.12"
  },
  "orig_nbformat": 4
 },
 "nbformat": 4,
 "nbformat_minor": 2
}
