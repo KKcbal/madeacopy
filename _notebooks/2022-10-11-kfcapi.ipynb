{
 "cells": [
  {
   "cell_type": "markdown",
   "metadata": {},
   "source": [
    "# API\n",
    "> this is an API I used and seperated data from\n",
    "- categories: API"
   ]
  },
  {
   "cell_type": "code",
   "execution_count": null,
   "metadata": {},
   "outputs": [],
   "source": [
    "import requests\n",
    "\n",
    "url = \"https://kfc-locations.p.rapidapi.com/kfc/location/0\"\n",
    "\n",
    "headers = {\n",
    "\t\"X-RapidAPI-Key\": \"a7b9e240e2mshc52362d1e196908p1d0305jsn22e376b200cb\",\n",
    "\t\"X-RapidAPI-Host\": \"kfc-locations.p.rapidapi.com\"\n",
    "}\n",
    "\n",
    "response = requests.request(\"GET\", url, headers=headers)\n",
    "\n",
    "print(response.json())\n",
    "\n",
    "print()\n",
    "\n",
    "print(\"KFC locations in California\")\n",
    "locations = response.json()\n",
    "for location in locations:\n",
    "    if location[\"stateName\"] == 'CA':\n",
    "        for key, value in location.items():\n",
    "            print(key, value)"
   ]
  },
  {
   "cell_type": "code",
   "execution_count": 3,
   "metadata": {},
   "outputs": [
    {
     "name": "stdout",
     "output_type": "stream",
     "text": [
      "I've missed your smile so much baby, I feel like my heart is breaking in two\n"
     ]
    }
   ],
   "source": [
    "import requests\n",
    "\n",
    "url = \"https://waifu.p.rapidapi.com/path\"\n",
    "\n",
    "querystring = {\"user_id\":\"sample_user_id\",\"message\":\"Hi\",\"from_name\":\"Boy\",\"to_name\":\"Girl\",\"situation\":\"Girl loves Boy.\",\"translate_from\":\"auto\",\"translate_to\":\"auto\"}\n",
    "\n",
    "payload = {}\n",
    "headers = {\n",
    "\t\"content-type\": \"application/json\",\n",
    "\t\"X-RapidAPI-Key\": \"a7b9e240e2mshc52362d1e196908p1d0305jsn22e376b200cb\",\n",
    "\t\"X-RapidAPI-Host\": \"waifu.p.rapidapi.com\"\n",
    "}\n",
    "\n",
    "response = requests.request(\"POST\", url, json=payload, headers=headers, params=querystring)\n",
    "\n",
    "print(response.text)"
   ]
  },
  {
   "cell_type": "markdown",
   "metadata": {},
   "source": [
    "# The API I used\n",
    "\n",
    "https://rapidapi.com/skjaldbaka17/api/quotel-quotes/"
   ]
  },
  {
   "cell_type": "code",
   "execution_count": 4,
   "metadata": {},
   "outputs": [
    {
     "name": "stdout",
     "output_type": "stream",
     "text": [
      "[{'quoteId': 126135, 'authorId': 4038, 'quote': 'Do not weep; do not wax indignant. Understand.', 'nationality': 'Dutch', 'profession': 'Philosopher', 'born': '1632-November-24', 'died': '1677-February-21', 'name': 'Baruch Spinoza', 'topicName': 'Motivational', 'topicId': 75}, {'quoteId': 124041, 'authorId': 3965, 'quote': 'To be a good loser is to learn how to win.', 'nationality': 'American', 'profession': 'Poet', 'born': '1878-January-6', 'died': '1967-July-22', 'name': 'Carl Sandburg', 'topicName': 'Motivational', 'topicId': 75}, {'quoteId': 121859, 'authorId': 3881, 'quote': \"Don't watch the clock; do what it does. Keep going.\", 'nationality': 'American', 'profession': 'Author', 'born': '1911-December-28', 'died': '1980-August-27', 'name': 'Sam Levenson', 'topicName': 'Motivational', 'topicId': 75}, {'quoteId': 121671, 'authorId': 3870, 'quote': 'When you fail you learn from the mistakes you made and it motivates you to work even harder.', 'nationality': 'American', 'profession': 'Athlete', 'born': '1983-January-7', 'name': 'Natalie Gulbis', 'topicName': 'Motivational', 'topicId': 75}, {'quoteId': 109890, 'authorId': 3474, 'quote': \"I learned that we can do anything, but we can't do everything... at least not at the same time. So think of your priorities not in terms of what activities you do, but when you do them. Timing is everything.\", 'nationality': 'American', 'profession': 'Author', 'born': '1946-February-22', 'name': 'Dan Millman', 'topicName': 'Motivational', 'topicId': 75}, {'quoteId': 106555, 'authorId': 3369, 'quote': \"Even if you fall on your face, you're still moving forward.\", 'nationality': 'American', 'profession': 'Businessman', 'born': '1926-December-7', 'died': '2001-May-27', 'name': 'Victor Kiam', 'topicName': 'Motivational', 'topicId': 75}, {'quoteId': 105609, 'authorId': 3340, 'quote': 'Go for it now. The future is promised to no one.', 'nationality': 'American', 'profession': 'Psychologist', 'born': '1940-May-10', 'died': '2015-August-29', 'name': 'Wayne Dyer', 'topicName': 'Motivational', 'topicId': 75}, {'quoteId': 105595, 'authorId': 3339, 'quote': \"You can't wait for inspiration. You have to go after it with a club.\", 'nationality': 'American', 'profession': 'Novelist', 'born': '1876-January-12', 'died': '1916-November-22', 'name': 'Jack London', 'topicName': 'Motivational', 'topicId': 75}, {'quoteId': 105576, 'authorId': 3340, 'quote': \"Be miserable. Or motivate yourself. Whatever has to be done, it's always your choice.\", 'nationality': 'American', 'profession': 'Psychologist', 'born': '1940-May-10', 'died': '2015-August-29', 'name': 'Wayne Dyer', 'topicName': 'Motivational', 'topicId': 75}, {'quoteId': 100158, 'authorId': 3170, 'quote': 'We make the world we live in and shape our own environment.', 'nationality': 'American', 'profession': 'Writer', 'born': '1850', 'died': '1924', 'name': 'Orison Swett Marden', 'topicName': 'Motivational', 'topicId': 75}, {'quoteId': 100125, 'authorId': 3170, 'quote': 'A will finds a way.', 'nationality': 'American', 'profession': 'Writer', 'born': '1850', 'died': '1924', 'name': 'Orison Swett Marden', 'topicName': 'Motivational', 'topicId': 75}, {'quoteId': 90619, 'authorId': 2859, 'quote': 'A goal is a dream with a deadline.', 'nationality': 'American', 'profession': 'Author', 'born': '1883-October-26', 'died': '1970-November-8', 'name': 'Napoleon Hill', 'topicName': 'Motivational', 'topicId': 75}, {'quoteId': 90505, 'authorId': 2864, 'quote': 'There is progress whether ye are going forward or backward! The thing is to move!', 'nationality': 'American', 'profession': 'Celebrity', 'born': '1877-March-18', 'died': '1945-January-3', 'name': 'Edgar Cayce', 'topicName': 'Motivational', 'topicId': 75}, {'quoteId': 90156, 'authorId': 2845, 'quote': 'Do the one thing you think you cannot do. Fail at it. Try again. Do better the second time. The only people who never tumble are those who never mount the high wire. This is your moment. Own it.', 'nationality': 'American', 'profession': 'Entertainer', 'born': '1954-January-29', 'name': 'Oprah Winfrey', 'topicName': 'Motivational', 'topicId': 75}, {'quoteId': 81110, 'authorId': 2500, 'quote': 'After my ski jumping career finished, I went back to school to study law, and now I travel between five to 20 times a year doing after-dinner speaking, motivational talks, appearances, openings, TV and radio shows.', 'nationality': 'English', 'profession': 'Athlete', 'born': '1963-December-5', 'name': 'Eddie the Eagle', 'topicName': 'Motivational', 'topicId': 75}, {'quoteId': 76978, 'authorId': 2356, 'quote': 'Earl Nightingale has inspired more people toward success and fortune than any other motivational speaker on the planet.', 'nationality': 'American', 'profession': 'Author', 'born': '1926-November-6', 'died': '2012-November-28', 'name': 'Zig Ziglar', 'topicName': 'Motivational', 'topicId': 75}, {'quoteId': 75390, 'authorId': 2356, 'quote': 'What you get by achieving your goals is not as important as what you become by achieving your goals.', 'nationality': 'American', 'profession': 'Author', 'born': '1926-November-6', 'died': '2012-November-28', 'name': 'Zig Ziglar', 'topicName': 'Motivational', 'topicId': 75}, {'quoteId': 74771, 'authorId': 2345, 'quote': \"I'm a motivational speaker.\", 'nationality': 'American', 'profession': 'Musician', 'born': '1977-October-12', 'name': 'Young Jeezy', 'topicName': 'Motivational', 'topicId': 75}, {'quoteId': 74664, 'authorId': 2345, 'quote': \"As long as I'm not selling out the people that ride or die with me, I'm glad I'm not an MC. I'm a motivational speaker. I'm not that rapper dude.\", 'nationality': 'American', 'profession': 'Musician', 'born': '1977-October-12', 'name': 'Young Jeezy', 'topicName': 'Motivational', 'topicId': 75}, {'quoteId': 73232, 'authorId': 2299, 'quote': 'Do the difficult things while they are easy and do the great things while they are small. A journey of a thousand miles must begin with a single step.', 'nationality': 'Chinese', 'profession': 'Philosopher', 'name': 'Lao Tzu', 'topicName': 'Motivational', 'topicId': 75}, {'quoteId': 53227, 'authorId': 1638, 'quote': 'Be gentle to all and stern with yourself.', 'nationality': 'Spanish', 'profession': 'Saint', 'born': '1515-March-28', 'died': '1582-October-4', 'name': 'Saint Teresa of Avila', 'topicName': 'Motivational', 'topicId': 75}, {'quoteId': 53038, 'authorId': 1631, 'quote': 'Perseverance is not a long race; it is many short races one after the other.', 'nationality': 'Scottish', 'profession': 'Politician', 'born': '1888-September-19', 'died': '1958-January-8', 'name': 'Walter Elliot', 'topicName': 'Motivational', 'topicId': 75}, {'quoteId': 52572, 'authorId': 1615, 'quote': \"I'm going to write a book, continue acting, continue motivational speaking and just share with people who I am and what I've learned in my second chance of life and pass it on to people in their first chance of life.\", 'nationality': 'American', 'profession': 'Actor', 'born': '1983-June-14', 'name': 'J. R. Martinez', 'topicName': 'Motivational', 'topicId': 75}, {'quoteId': 50714, 'authorId': 1564, 'quote': \"Ever since I was a kid, I knew I could play in the NFL because I had a knack for the game. But I can't play this game forever. When I'm finished, maybe I'll become a motivational speaker, maybe a preacher. But children need to know that life may be hard, but you can always overcome.\", 'nationality': 'American', 'profession': 'Athlete', 'born': '1978-September-11', 'name': 'Ed Reed', 'topicName': 'Motivational', 'topicId': 75}, {'quoteId': 46832, 'authorId': 1452, 'quote': \"If you want to conquer fear, don't sit home and think about it. Go out and get busy.\", 'nationality': 'American', 'profession': 'Writer', 'born': '1888-November-24', 'died': '1955-November-1', 'name': 'Dale Carnegie', 'topicName': 'Motivational', 'topicId': 75}]\n",
      "\n",
      "quotes\n",
      "Do not weep; do not wax indignant. Understand.\n",
      "Baruch Spinoza\n",
      "To be a good loser is to learn how to win.\n",
      "Carl Sandburg\n",
      "Don't watch the clock; do what it does. Keep going.\n",
      "Sam Levenson\n",
      "When you fail you learn from the mistakes you made and it motivates you to work even harder.\n",
      "Natalie Gulbis\n",
      "I learned that we can do anything, but we can't do everything... at least not at the same time. So think of your priorities not in terms of what activities you do, but when you do them. Timing is everything.\n",
      "Dan Millman\n",
      "Even if you fall on your face, you're still moving forward.\n",
      "Victor Kiam\n",
      "Go for it now. The future is promised to no one.\n",
      "Wayne Dyer\n",
      "You can't wait for inspiration. You have to go after it with a club.\n",
      "Jack London\n",
      "Be miserable. Or motivate yourself. Whatever has to be done, it's always your choice.\n",
      "Wayne Dyer\n",
      "We make the world we live in and shape our own environment.\n",
      "Orison Swett Marden\n",
      "A will finds a way.\n",
      "Orison Swett Marden\n",
      "A goal is a dream with a deadline.\n",
      "Napoleon Hill\n",
      "There is progress whether ye are going forward or backward! The thing is to move!\n",
      "Edgar Cayce\n",
      "Do the one thing you think you cannot do. Fail at it. Try again. Do better the second time. The only people who never tumble are those who never mount the high wire. This is your moment. Own it.\n",
      "Oprah Winfrey\n",
      "After my ski jumping career finished, I went back to school to study law, and now I travel between five to 20 times a year doing after-dinner speaking, motivational talks, appearances, openings, TV and radio shows.\n",
      "Eddie the Eagle\n",
      "Earl Nightingale has inspired more people toward success and fortune than any other motivational speaker on the planet.\n",
      "Zig Ziglar\n",
      "What you get by achieving your goals is not as important as what you become by achieving your goals.\n",
      "Zig Ziglar\n",
      "I'm a motivational speaker.\n",
      "Young Jeezy\n",
      "As long as I'm not selling out the people that ride or die with me, I'm glad I'm not an MC. I'm a motivational speaker. I'm not that rapper dude.\n",
      "Young Jeezy\n",
      "Do the difficult things while they are easy and do the great things while they are small. A journey of a thousand miles must begin with a single step.\n",
      "Lao Tzu\n",
      "Be gentle to all and stern with yourself.\n",
      "Saint Teresa of Avila\n",
      "Perseverance is not a long race; it is many short races one after the other.\n",
      "Walter Elliot\n",
      "I'm going to write a book, continue acting, continue motivational speaking and just share with people who I am and what I've learned in my second chance of life and pass it on to people in their first chance of life.\n",
      "J. R. Martinez\n",
      "Ever since I was a kid, I knew I could play in the NFL because I had a knack for the game. But I can't play this game forever. When I'm finished, maybe I'll become a motivational speaker, maybe a preacher. But children need to know that life may be hard, but you can always overcome.\n",
      "Ed Reed\n",
      "If you want to conquer fear, don't sit home and think about it. Go out and get busy.\n",
      "Dale Carnegie\n"
     ]
    }
   ],
   "source": [
    "import requests\n",
    "\n",
    "url = \"https://quotel-quotes.p.rapidapi.com/topic\"\n",
    "\n",
    "payload = {\n",
    "\t\"pageSize\": 25,\n",
    "\t\"page\": 9,\n",
    "\t\"topic\": \"motivational\"\n",
    "}\n",
    "headers = {\n",
    "\t\"content-type\": \"application/json\",\n",
    "\t\"X-RapidAPI-Key\": \"a7b9e240e2mshc52362d1e196908p1d0305jsn22e376b200cb\",\n",
    "\t\"X-RapidAPI-Host\": \"quotel-quotes.p.rapidapi.com\"\n",
    "}\n",
    "\n",
    "response = requests.request(\"POST\", url, json=payload, headers=headers)\n",
    "\n",
    "print(response.json())\n",
    "\n",
    "print()\n",
    "\n",
    "print(\"quotes\")\n",
    "quotes = response.json()\n",
    "for quote in quotes:\n",
    "\tif quote[\"topicName\"] == 'Motivational':\n",
    "\t\tprint(quote[\"quote\"])\n",
    "\t\tprint(quote[\"name\"])"
   ]
  },
  {
   "cell_type": "code",
   "execution_count": 2,
   "metadata": {},
   "outputs": [
    {
     "name": "stdout",
     "output_type": "stream",
     "text": [
      "[{'quoteId': 43722, 'authorId': 1363, 'quote': 'Be kind whenever possible. It is always possible.', 'profession': 'Leader', 'born': '1935-July-6', 'name': 'Dalai Lama', 'topicName': 'Motivational', 'topicId': 75}, {'quoteId': 43650, 'authorId': 1356, 'quote': \"Music - it's motivational and just makes you relax.\", 'nationality': 'New Zealander', 'profession': 'Director', 'born': '1975-August-16', 'name': 'Taika Waititi', 'topicName': 'Motivational', 'topicId': 75}, {'quoteId': 40291, 'authorId': 1252, 'quote': \"Sometimes I'll put on a Zig Ziglar tape: he's a motivational speaker who is really funny and really American. I know I should do the things he says, but I'm too cynical.\", 'nationality': 'British', 'profession': 'Actress', 'born': '1971-June-22', 'name': 'Laila Rouass', 'topicName': 'Motivational', 'topicId': 75}, {'quoteId': 39811, 'authorId': 1247, 'quote': 'Many are called but few get up.', 'nationality': 'American', 'profession': 'Author', 'born': '1863', 'died': '1935', 'name': 'Oliver Herford', 'topicName': 'Motivational', 'topicId': 75}, {'quoteId': 37156, 'authorId': 1156, 'quote': 'The way to get started is to quit talking and begin doing.', 'nationality': 'American', 'profession': 'Businessman', 'born': '1901-December-5', 'died': '1966-December-15', 'name': 'Walt Disney', 'topicName': 'Motivational', 'topicId': 75}, {'quoteId': 37111, 'authorId': 1156, 'quote': 'If you can dream it, you can do it.', 'nationality': 'American', 'profession': 'Businessman', 'born': '1901-December-5', 'died': '1966-December-15', 'name': 'Walt Disney', 'topicName': 'Motivational', 'topicId': 75}, {'quoteId': 34828, 'authorId': 1058, 'quote': 'Know or listen to those who know.', 'nationality': 'Spanish', 'profession': 'Philosopher', 'born': '1601-January-8', 'died': '1658-December-6', 'name': 'Baltasar Gracian', 'topicName': 'Motivational', 'topicId': 75}, {'quoteId': 34736, 'authorId': 1058, 'quote': 'The wise does at once what the fool does at last.', 'nationality': 'Spanish', 'profession': 'Philosopher', 'born': '1601-January-8', 'died': '1658-December-6', 'name': 'Baltasar Gracian', 'topicName': 'Motivational', 'topicId': 75}, {'quoteId': 22915, 'authorId': 685, 'quote': \"You can't cross the sea merely by standing and staring at the water.\", 'nationality': 'Indian', 'profession': 'Poet', 'born': '1861-May-7', 'died': '1941-August-7', 'name': 'Rabindranath Tagore', 'topicName': 'Motivational', 'topicId': 75}, {'quoteId': 22656, 'authorId': 678, 'quote': \"How do you know you're going to do something, untill you do it?\", 'nationality': 'American', 'profession': 'Novelist', 'born': '1919-January-1', 'died': '2010-January-27', 'name': 'J. D. Salinger', 'topicName': 'Motivational', 'topicId': 75}, {'quoteId': 19738, 'authorId': 587, 'quote': 'Beginning today, treat everyone you meet as if they were going to be dead by midnight. Extend to them all the care, kindness and understanding you can muster, and do it with no thought of any reward. Your life will never be the same again.', 'nationality': 'American', 'profession': 'Author', 'born': '1923-December-12', 'died': '1996-September-3', 'name': 'Og Mandino', 'topicName': 'Motivational', 'topicId': 75}, {'quoteId': 19730, 'authorId': 587, 'quote': 'Always do your best. What you plant now, you will harvest later.', 'nationality': 'American', 'profession': 'Author', 'born': '1923-December-12', 'died': '1996-September-3', 'name': 'Og Mandino', 'topicName': 'Motivational', 'topicId': 75}, {'quoteId': 19711, 'authorId': 587, 'quote': 'Failure will never overtake me if my determination to succeed is strong enough.', 'nationality': 'American', 'profession': 'Author', 'born': '1923-December-12', 'died': '1996-September-3', 'name': 'Og Mandino', 'topicName': 'Motivational', 'topicId': 75}, {'quoteId': 19688, 'authorId': 584, 'quote': 'We should not give up and we should not allow the problem to defeat us.', 'nationality': 'Indian', 'profession': 'Statesman', 'born': '1931-October-15', 'died': '2015-July-27', 'name': 'A. P. J. Abdul Kalam', 'topicName': 'Motivational', 'topicId': 75}, {'quoteId': 18217, 'authorId': 538, 'quote': \"You just can't beat the person who never gives up.\", 'nationality': 'American', 'profession': 'Baseball Player', 'born': '1895-February-6', 'died': '1948-August-16', 'name': 'Babe Ruth', 'topicName': 'Motivational', 'topicId': 75}, {'quoteId': 16656, 'authorId': 490, 'quote': 'You have to learn the rules of the game. And then you have to play better than anyone else.', 'name': 'Unknown', 'topicName': 'Motivational', 'topicId': 75}, {'quoteId': 16534, 'authorId': 490, 'quote': 'The past cannot be changed. The future is yet in your power.', 'name': 'Unknown', 'topicName': 'Motivational', 'topicId': 75}, {'quoteId': 13689, 'authorId': 410, 'quote': 'Deserve your dream.', 'nationality': 'Mexican', 'profession': 'Poet', 'born': '1914-March-31', 'died': '1998-April-19', 'name': 'Octavio Paz', 'topicName': 'Motivational', 'topicId': 75}, {'quoteId': 5880, 'authorId': 203, 'quote': 'Decide what you want, decide what you are willing to exchange for it. Establish your priorities and go to work.', 'nationality': 'American', 'profession': 'Businessman', 'born': '1889-February-17', 'died': '1974-November-29', 'name': 'H. L. Hunt', 'topicName': 'Motivational', 'topicId': 75}, {'quoteId': 4581, 'authorId': 153, 'quote': 'I used to watch a lot of motivational films and videos to remain positive.', 'nationality': 'Indian', 'profession': 'Athlete', 'born': '1983-February-6', 'name': 'S. Sreesanth', 'topicName': 'Motivational', 'topicId': 75}, {'quoteId': 4090, 'authorId': 143, 'quote': 'Aim for the moon. If you miss, you may hit a star.', 'nationality': 'American', 'profession': 'Businessman', 'born': '1902-May-4', 'died': '2002-September-3', 'name': 'W. Clement Stone', 'topicName': 'Motivational', 'topicId': 75}, {'quoteId': 3808, 'authorId': 122, 'quote': 'You must take action now that will move you towards your goals. Develop a sense of urgency in your life.', 'nationality': 'American', 'profession': 'Author', 'born': '1940', 'name': 'H. Jackson Brown, Jr.', 'topicName': 'Motivational', 'topicId': 75}, {'quoteId': 2250, 'authorId': 94, 'quote': 'If you fell down yesterday, stand up today.', 'nationality': 'English', 'profession': 'Author', 'born': '1866-September-21', 'died': '1946-August-13', 'name': 'H. G. Wells', 'topicName': 'Motivational', 'topicId': 75}, {'quoteId': 1565, 'authorId': 73, 'quote': 'Madam Walker was a master marketer. But her brilliance was in taking it to another level by training women, by traveling, by making very motivational speeches and by providing independent income for women who otherwise would have to be maids and sharecroppers.', 'nationality': 'American', 'profession': 'Journalist', 'born': '1952-June-7', 'name': \"A'Lelia Bundles\", 'topicName': 'Motivational', 'topicId': 75}]\n",
      "\n",
      "quotes\n",
      "Be kind whenever possible. It is always possible.\n",
      "Music - it's motivational and just makes you relax.\n",
      "Sometimes I'll put on a Zig Ziglar tape: he's a motivational speaker who is really funny and really American. I know I should do the things he says, but I'm too cynical.\n",
      "Many are called but few get up.\n",
      "The way to get started is to quit talking and begin doing.\n",
      "If you can dream it, you can do it.\n",
      "Know or listen to those who know.\n",
      "The wise does at once what the fool does at last.\n",
      "You can't cross the sea merely by standing and staring at the water.\n",
      "How do you know you're going to do something, untill you do it?\n",
      "Beginning today, treat everyone you meet as if they were going to be dead by midnight. Extend to them all the care, kindness and understanding you can muster, and do it with no thought of any reward. Your life will never be the same again.\n",
      "Always do your best. What you plant now, you will harvest later.\n",
      "Failure will never overtake me if my determination to succeed is strong enough.\n",
      "We should not give up and we should not allow the problem to defeat us.\n",
      "You just can't beat the person who never gives up.\n",
      "You have to learn the rules of the game. And then you have to play better than anyone else.\n",
      "The past cannot be changed. The future is yet in your power.\n",
      "Deserve your dream.\n",
      "Decide what you want, decide what you are willing to exchange for it. Establish your priorities and go to work.\n",
      "I used to watch a lot of motivational films and videos to remain positive.\n",
      "Aim for the moon. If you miss, you may hit a star.\n",
      "You must take action now that will move you towards your goals. Develop a sense of urgency in your life.\n",
      "If you fell down yesterday, stand up today.\n",
      "Madam Walker was a master marketer. But her brilliance was in taking it to another level by training women, by traveling, by making very motivational speeches and by providing independent income for women who otherwise would have to be maids and sharecroppers.\n"
     ]
    }
   ],
   "source": [
    "import requests\n",
    "\n",
    "url = \"https://quotel-quotes.p.rapidapi.com/topic\"\n",
    "\n",
    "payload = {\n",
    "\t\"pageSize\": 25,\n",
    "\t\"page\": 10,\n",
    "\t\"topic\": \"motivational\"\n",
    "}\n",
    "headers = {\n",
    "\t\"content-type\": \"application/json\",\n",
    "\t\"X-RapidAPI-Key\": \"a7b9e240e2mshc52362d1e196908p1d0305jsn22e376b200cb\",\n",
    "\t\"X-RapidAPI-Host\": \"quotel-quotes.p.rapidapi.com\"\n",
    "}\n",
    "\n",
    "response = requests.request(\"POST\", url, json=payload, headers=headers)\n",
    "\n",
    "print(response.json())\n",
    "\n",
    "print()\n",
    "\n",
    "print(\"quotes\")\n",
    "quotes = response.json()\n",
    "for quote in quotes:\n",
    "\tif quote[\"topicName\"] == 'Motivational':\n",
    "\t\tprint(quote[\"quote\"])"
   ]
  },
  {
   "cell_type": "markdown",
   "metadata": {},
   "source": [
    "Be kind whenever possible. It is always possible.\n",
    "Music - it's motivational and just makes you relax.\n",
    "Sometimes I'll put on a Zig Ziglar tape: he's a motivational speaker who is really funny and really American. I know I should do the things he says, but I'm too cynical.\n",
    "Many are called but few get up.\n",
    "The way to get started is to quit talking and begin doing.\n",
    "If you can dream it, you can do it.\n",
    "Know or listen to those who know.\n",
    "The wise does at once what the fool does at last.\n",
    "You can't cross the sea merely by standing and staring at the water.\n",
    "How do you know you're going to do something, untill you do it?\n",
    "Beginning today, treat everyone you meet as if they were going to be dead by midnight. Extend to them all the care, kindness and understanding you can muster, and do it with no thought of any reward. Your life will never be the same again.\n",
    "Always do your best. What you plant now, you will harvest later.\n",
    "Failure will never overtake me if my determination to succeed is strong enough.\n",
    "We should not give up and we should not allow the problem to defeat us.\n",
    "You just can't beat the person who never gives up.\n",
    "You have to learn the rules of the game. And then you have to play better than anyone else.\n",
    "The past cannot be changed. The future is yet in your power.\n",
    "Deserve your dream.\n",
    "Decide what you want, decide what you are willing to exchange for it. Establish your priorities and go to work.\n",
    "I used to watch a lot of motivational films and videos to remain positive.\n",
    "Aim for the moon. If you miss, you may hit a star.\n",
    "You must take action now that will move you towards your goals. Develop a sense of urgency in your life.\n",
    "If you fell down yesterday, stand up today.\n",
    "Madam Walker was a master marketer. But her brilliance was in taking it to another level by training women, by traveling, by making very motivational speeches and by providing independent income for women who otherwise would have to be maids and sharecroppers."
   ]
  }
 ],
 "metadata": {
  "kernelspec": {
   "display_name": "Python 3.9.12 ('base')",
   "language": "python",
   "name": "python3"
  },
  "language_info": {
   "codemirror_mode": {
    "name": "ipython",
    "version": 3
   },
   "file_extension": ".py",
   "mimetype": "text/x-python",
   "name": "python",
   "nbconvert_exporter": "python",
   "pygments_lexer": "ipython3",
   "version": "3.9.12"
  },
  "orig_nbformat": 4,
  "vscode": {
   "interpreter": {
    "hash": "6ccb6558ef2ee8ddcd1889f8d547b1546f932296c7f2f80f67fdee00b5700eff"
   }
  }
 },
 "nbformat": 4,
 "nbformat_minor": 2
}
