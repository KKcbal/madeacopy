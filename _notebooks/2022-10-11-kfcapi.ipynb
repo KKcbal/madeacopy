{
 "cells": [
  {
   "cell_type": "markdown",
   "metadata": {},
   "source": [
    "# API\n",
    "> this is an API I used and seperated data from"
   ]
  },
  {
   "cell_type": "code",
   "execution_count": null,
   "metadata": {},
   "outputs": [],
   "source": [
    "import requests\n",
    "\n",
    "url = \"https://kfc-locations.p.rapidapi.com/kfc/location/0\"\n",
    "\n",
    "headers = {\n",
    "\t\"X-RapidAPI-Key\": \"a7b9e240e2mshc52362d1e196908p1d0305jsn22e376b200cb\",\n",
    "\t\"X-RapidAPI-Host\": \"kfc-locations.p.rapidapi.com\"\n",
    "}\n",
    "\n",
    "response = requests.request(\"GET\", url, headers=headers)\n",
    "\n",
    "print(response.json())\n",
    "\n",
    "print()\n",
    "\n",
    "print(\"KFC locations in California\")\n",
    "locations = response.json()\n",
    "for location in locations:\n",
    "    if location[\"stateName\"] == 'CA':\n",
    "        for key, value in location.items():\n",
    "            print(key, value)"
   ]
  },
  {
   "cell_type": "code",
   "execution_count": 3,
   "metadata": {},
   "outputs": [
    {
     "name": "stdout",
     "output_type": "stream",
     "text": [
      "I've missed your smile so much baby, I feel like my heart is breaking in two\n"
     ]
    }
   ],
   "source": [
    "import requests\n",
    "\n",
    "url = \"https://waifu.p.rapidapi.com/path\"\n",
    "\n",
    "querystring = {\"user_id\":\"sample_user_id\",\"message\":\"Hi\",\"from_name\":\"Boy\",\"to_name\":\"Girl\",\"situation\":\"Girl loves Boy.\",\"translate_from\":\"auto\",\"translate_to\":\"auto\"}\n",
    "\n",
    "payload = {}\n",
    "headers = {\n",
    "\t\"content-type\": \"application/json\",\n",
    "\t\"X-RapidAPI-Key\": \"a7b9e240e2mshc52362d1e196908p1d0305jsn22e376b200cb\",\n",
    "\t\"X-RapidAPI-Host\": \"waifu.p.rapidapi.com\"\n",
    "}\n",
    "\n",
    "response = requests.request(\"POST\", url, json=payload, headers=headers, params=querystring)\n",
    "\n",
    "print(response.text)"
   ]
  }
 ],
 "metadata": {
  "kernelspec": {
   "display_name": "Python 3.9.12 ('base')",
   "language": "python",
   "name": "python3"
  },
  "language_info": {
   "codemirror_mode": {
    "name": "ipython",
    "version": 3
   },
   "file_extension": ".py",
   "mimetype": "text/x-python",
   "name": "python",
   "nbconvert_exporter": "python",
   "pygments_lexer": "ipython3",
   "version": "3.9.12"
  },
  "orig_nbformat": 4,
  "vscode": {
   "interpreter": {
    "hash": "6ccb6558ef2ee8ddcd1889f8d547b1546f932296c7f2f80f67fdee00b5700eff"
   }
  }
 },
 "nbformat": 4,
 "nbformat_minor": 2
}
