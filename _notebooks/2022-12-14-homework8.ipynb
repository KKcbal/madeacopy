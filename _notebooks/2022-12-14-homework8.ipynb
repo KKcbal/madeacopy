{
 "cells": [
  {
   "attachments": {},
   "cell_type": "markdown",
   "metadata": {},
   "source": [
    "# Homework 8\n",
    "> the homework for 17 and 18"
   ]
  },
  {
   "attachments": {},
   "cell_type": "markdown",
   "metadata": {},
   "source": [
    "# 3.17 Algorithmic Efficiency"
   ]
  },
  {
   "attachments": {},
   "cell_type": "markdown",
   "metadata": {},
   "source": [
    "## Vocabulary\n",
    "- Problem: a general description of a task that can or cannot be solved algorithmically\n",
    "    - Decision Problem: A problem with a yes or no answer\n",
    "    - Organization Problem: a problem with a goal of finding the best answer\n",
    "- Instance: a problem with a specific input\n",
    "- Efficiency: amount of computing needed to solve a problem\n",
    "    - Polynomial Efficiency (Good): more work takes a proportional amount of time (1 job is +2 time)\n",
    "    - Exponential Efficiency (Bad): more work takes an exponential amount more time (1 job is 2x time)\n",
    "- Heuristic Approach: When optimal solutions are inefficient, look for a possibly optimal solution that is more efficient\n",
    "- Decidable Problem: A decision problem that has a clear solution that will always make a correct output\n",
    "- Undecidable Problem: A decision problem with no solution that is not gaurenteed to produce the correct output\n"
   ]
  },
  {
   "attachments": {},
   "cell_type": "markdown",
   "metadata": {},
   "source": [
    "## Notes\n",
    "Polynomial efficiency is much more efficient than exponential efficiency."
   ]
  },
  {
   "attachments": {},
   "cell_type": "markdown",
   "metadata": {},
   "source": [
    "## Challenge\n",
    "Try and fix this ineficcient code!\n",
    "Only change the code between the two commented lines.\n",
    "Fully programmed solution will improve your grade, at a minimum show that you tried."
   ]
  },
  {
   "cell_type": "code",
   "execution_count": 12,
   "metadata": {},
   "outputs": [
    {
     "name": "stdout",
     "output_type": "stream",
     "text": [
      "1.1043095588684082 seconds\n"
     ]
    }
   ],
   "source": [
    "import time\n",
    "numlist = [1,3,5,7,9,11,13,15,17,19]\n",
    "valuelist = [0,3,6,9,12,15,18,21]\n",
    "def isvalue(value,array):\n",
    "    #--------------------\n",
    "    exists = False\n",
    "    while exists == False:\n",
    "        for i in range(len(array)):\n",
    "            if value == array[i]:\n",
    "                exists = True\n",
    "                return exists\n",
    "        if exists == False:\n",
    "            return exists\n",
    "    #--------------------\n",
    "starttime = time.time()\n",
    "for i in range(100000):\n",
    "    for i in range(len(valuelist)):\n",
    "        x = isvalue(valuelist[i],numlist)\n",
    "endtime = time.time()\n",
    "print(endtime-starttime,'seconds') "
   ]
  },
  {
   "attachments": {},
   "cell_type": "markdown",
   "metadata": {},
   "source": [
    "# 3.18 Undecidable Problems"
   ]
  },
  {
   "attachments": {},
   "cell_type": "markdown",
   "metadata": {},
   "source": [
    "## Notes\n",
    "There are problems that computers can't solve."
   ]
  },
  {
   "attachments": {},
   "cell_type": "markdown",
   "metadata": {},
   "source": [
    "# Homework!\n",
    "\n",
    "Make an algorithm that finds the fastest route that hits every location once starting and ending at Del Norte. Make sure to show your thinking. If you are strugling, try using a huristic approach. Remember, what matters more than having perfectly functioning code is that you tried your hardest."
   ]
  },
  {
   "cell_type": "code",
   "execution_count": 109,
   "metadata": {},
   "outputs": [],
   "source": [
    "# RUN THIS CODE --- DO NOT EDIT\n",
    "dataset = {\n",
    "    'DelNorte':{\n",
    "        'Westview':15,\n",
    "        'MtCarmel':20,\n",
    "        'Poway':35,\n",
    "        'RanchoBernardo':50\n",
    "    },\n",
    "    'Westview':{\n",
    "        'DelNorte':15,\n",
    "        'MtCarmel':35,\n",
    "        'Poway':25,\n",
    "        'RanchoBernardo': 45\n",
    "    },\n",
    "    'MtCarmel':{\n",
    "        'Westview':35,\n",
    "        'DelNorte':20,\n",
    "        'Poway':40,\n",
    "        'RanchoBernardo':30\n",
    "    },\n",
    "    'Poway':{\n",
    "        'Westview':25,\n",
    "        'MtCarmel':40,\n",
    "        'DelNorte':35,\n",
    "        'RanchoBernardo':15\n",
    "    },\n",
    "    'RanchoBernardo':{\n",
    "        'Westview':45,\n",
    "        'MtCarmel':30,\n",
    "        'Poway':15,\n",
    "        'DelNorte':50\n",
    "    }\n",
    "}"
   ]
  },
  {
   "cell_type": "code",
   "execution_count": 171,
   "metadata": {},
   "outputs": [
    {
     "name": "stdout",
     "output_type": "stream",
     "text": [
      "{'Westview': 15, 'MtCarmel': 20, 'Poway': 35, 'RanchoBernardo': 50}\n",
      "105\n",
      "['DelNorte', 'Westview', 'Poway', 'RanchoBernardo', 'MtCarmel', 'DelNorte']\n"
     ]
    }
   ],
   "source": [
    "import random\n",
    "s = 900 #perm\n",
    "t = 0 #temp\n",
    "bruh = [] # perm\n",
    "help = [] # temp\n",
    "print(dataset[\"DelNorte\"])\n",
    "def r():\n",
    "    return random.randrange(4)\n",
    "def ui(mu, oh):\n",
    "    m = 0\n",
    "    global t\n",
    "    for n, c in mu.items():\n",
    "        if m == oh:\n",
    "            t += c\n",
    "            return n\n",
    "        m += 1\n",
    "def uid(mu, oh):\n",
    "    global t\n",
    "    for n, c in mu.items():\n",
    "        if n == oh:\n",
    "            t += c\n",
    "            return n\n",
    "def listaddomgihatethissomuch():\n",
    "    i = 0\n",
    "    global help\n",
    "    global bruh\n",
    "    bruh.clear()\n",
    "    while i < len(help):\n",
    "        bruh.append(help[i])\n",
    "        i += 1\n",
    "def dupcheck():\n",
    "    global help\n",
    "    lll = help[0:5]\n",
    "    lom = set(help[0:5])\n",
    "    if len(lll) != len(lom):\n",
    "        return False\n",
    "    else:\n",
    "        return True\n",
    "def n():\n",
    "    global s\n",
    "    global t\n",
    "    a = ui(dataset[\"DelNorte\"], r())\n",
    "    help.append(\"DelNorte\")\n",
    "    help.append(a)\n",
    "    b = ui(dataset[a], r())\n",
    "    help.append(b)\n",
    "    c = ui(dataset[b], r())\n",
    "    help.append(c)\n",
    "    d = ui(dataset[c], r())\n",
    "    help.append(d)\n",
    "    e = uid(dataset[d], \"DelNorte\")\n",
    "    help.append(e)\n",
    "    if dupcheck() == True:\n",
    "        if t < s:\n",
    "            s = t\n",
    "            listaddomgihatethissomuch()\n",
    "    t = 0\n",
    "    help.clear()\n",
    "adding = 0\n",
    "while adding < 1000:\n",
    "    n()\n",
    "    adding += 1\n",
    "print(s)\n",
    "print(bruh)"
   ]
  },
  {
   "attachments": {},
   "cell_type": "markdown",
   "metadata": {},
   "source": [
    "oh my god i just looked at the requirements and there's no way im doing that right now. right now being 7:42 pm on thursday. I think I could definitely do that but I spent so much time doing this that I don't want to. there wasn't really anything too hard about this. the only thing slowing me was my self. I kept getting off track and couldn't think several times while trying to figure out what i was doing. I could have done this pretty quickly if I was normal and had an attention span longer than a goldfish. The code isnt too hard to understand. there's two lists and two variables. one pair is temporary and the other pair is the final pair. the temporary pair resets after each loop. if the temporary variable (the distance) is less than the final variable, then the final list and variable change to the temporary variable and list's values. The order of schools is randomized. It doesn't check for duplicates and doesn't end on del norte. it does, however, start on del norte. "
   ]
  },
  {
   "attachments": {},
   "cell_type": "markdown",
   "metadata": {},
   "source": [
    "Ignore the whining of the little baby up there ^^^ I figured it out."
   ]
  },
  {
   "attachments": {},
   "cell_type": "markdown",
   "metadata": {},
   "source": [
    "### Grading:\n",
    "|Challenge|Homework|\n",
    "|---|---|\n",
    "|.15 pts for attempt|.65 for attempt|\n",
    "|.20 pts for complete|.70 for complete|\n",
    "|.25 pts for above and beyond|.75 pts for above and beyond|\n"
   ]
  }
 ],
 "metadata": {
  "kernelspec": {
   "display_name": "base",
   "language": "python",
   "name": "python3"
  },
  "language_info": {
   "codemirror_mode": {
    "name": "ipython",
    "version": 3
   },
   "file_extension": ".py",
   "mimetype": "text/x-python",
   "name": "python",
   "nbconvert_exporter": "python",
   "pygments_lexer": "ipython3",
   "version": "3.9.12"
  },
  "orig_nbformat": 4,
  "vscode": {
   "interpreter": {
    "hash": "6ccb6558ef2ee8ddcd1889f8d547b1546f932296c7f2f80f67fdee00b5700eff"
   }
  }
 },
 "nbformat": 4,
 "nbformat_minor": 2
}
