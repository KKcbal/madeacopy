{
 "cells": [
  {
   "cell_type": "markdown",
   "metadata": {},
   "source": [
    "# Homework 3 \n",
    "> homework for the third class lesson"
   ]
  },
  {
   "cell_type": "markdown",
   "metadata": {},
   "source": [
    "## Homework/Hacks\n",
    "\n",
    " our homework we have decided for a decimal number to binary converter. You must use conditional statements within your code and have a input box for where the decimal number will go. This will give you a 2.7 out of 3 and you may add anything else to the code to get above a 2.7.\n",
    "\n"
   ]
  },
  {
   "cell_type": "markdown",
   "metadata": {},
   "source": [
    "Below is an example of decimal number to binary converter which you can use as a starting template."
   ]
  },
  {
   "cell_type": "code",
   "execution_count": 5,
   "metadata": {},
   "outputs": [
    {
     "name": "stdout",
     "output_type": "stream",
     "text": [
      "Binary of num 67 is: 1000011\n",
      "01000011\n"
     ]
    }
   ],
   "source": [
    "def DecimalToBinary(num):\n",
    "    strs = \"\"\n",
    "    while num:\n",
    "        # if (num & 1) = 1\n",
    "        if (num & 1):\n",
    "            strs += \"1\"\n",
    "        # if (num & 1) = 0\n",
    "        else:\n",
    "            strs += \"0\"\n",
    "        # right shift by 1\n",
    "        num >>= 1\n",
    "    return strs\n",
    " \n",
    "# function to reverse the string\n",
    "def reverse(strs):\n",
    "    print(strs[::-1])\n",
    " \n",
    "# Driver Code\n",
    "num = 67\n",
    "print(\"Binary of num 67 is:\", end=\" \")\n",
    "reverse(DecimalToBinary(num))\n",
    "binary1 = 0\n",
    "binary2 = 0\n",
    "binary3 = 0\n",
    "binary4 = 0\n",
    "binary5 = 0\n",
    "binary6 = 0\n",
    "binary7 = 0\n",
    "binary8 = 0\n",
    "i = 0\n",
    "while i < int(67):\n",
    "    if binary1 == 0: binary1 += 1\n",
    "    else:\n",
    "        binary1 = 0\n",
    "        if binary2 == 0: binary2 += 1\n",
    "        else:\n",
    "            binary2 = 0\n",
    "            if binary3 == 0: binary3 += 1\n",
    "            else:\n",
    "                binary3 = 0\n",
    "                if binary4 == 0: binary4 += 1\n",
    "                else: \n",
    "                    binary4 = 0\n",
    "                    if binary5 == 0: binary5 += 1\n",
    "                    else:\n",
    "                        binary5 = 0\n",
    "                        if binary6 == 0: binary6 += 1\n",
    "                        else:\n",
    "                            binary6 = 0\n",
    "                            if binary7 == 0: binary7 += 1\n",
    "                            else:\n",
    "                                binary7 = 0\n",
    "                                if binary8 == 0: binary8 += 1\n",
    "    i += 1\n",
    "print(str(binary8) + str(binary7) + str(binary6) + str(binary5) + str(binary4) + str(binary3) + str(binary2) + str(binary1))"
   ]
  }
 ],
 "metadata": {
  "kernelspec": {
   "display_name": "Python 3.9.6 64-bit",
   "language": "python",
   "name": "python3"
  },
  "language_info": {
   "codemirror_mode": {
    "name": "ipython",
    "version": 3
   },
   "file_extension": ".py",
   "mimetype": "text/x-python",
   "name": "python",
   "nbconvert_exporter": "python",
   "pygments_lexer": "ipython3",
   "version": "3.8.10"
  },
  "orig_nbformat": 4,
  "vscode": {
   "interpreter": {
    "hash": "31f2aee4e71d21fbe5cf8b01ff0e069b9275f58929596ceb00d14d90e3e16cd6"
   }
  }
 },
 "nbformat": 4,
 "nbformat_minor": 2
}
