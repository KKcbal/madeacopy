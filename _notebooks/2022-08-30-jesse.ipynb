{
 "cells": [
  {
   "cell_type": "markdown",
   "metadata": {},
   "source": [
    "# Breaking Bad\n",
    "> This is a breaking bad reference\n",
    "\n",
    "- categories: test"
   ]
  },
  {
   "cell_type": "code",
   "execution_count": 5,
   "metadata": {},
   "outputs": [
    {
     "name": "stdout",
     "output_type": "stream",
     "text": [
      "Jesse, we need to cook\n",
      "Come on Jesse, we need to cook meth\n",
      "Thank you Jesse, we will cook meth\n"
     ]
    }
   ],
   "source": [
    "print(\"Jesse, we need to cook\")\n",
    "rsp = input(\"Do you want to cook with Walter White?\")\n",
    "if rsp == \"yes\":\n",
    "    print(\"Yes Jesse, we will make bank\")\n",
    "else:\n",
    "    print(\"Come on Jesse, we need to cook meth\")\n",
    "    rsp2 = input(\"Do you want to cook with Walter White?\")\n",
    "    if rsp2 == \"yes\":\n",
    "        print(\"Thank you Jesse, we will cook meth\")\n",
    "    else:\n",
    "        print(\"Jesse, I'm reporting you to the authorities Jesse\")"
   ]
  }
 ],
 "metadata": {
  "kernelspec": {
   "display_name": "Python 3.8.10 64-bit",
   "language": "python",
   "name": "python3"
  },
  "language_info": {
   "codemirror_mode": {
    "name": "ipython",
    "version": 3
   },
   "file_extension": ".py",
   "mimetype": "text/x-python",
   "name": "python",
   "nbconvert_exporter": "python",
   "pygments_lexer": "ipython3",
   "version": "3.8.10"
  },
  "orig_nbformat": 4,
  "vscode": {
   "interpreter": {
    "hash": "916dbcbb3f70747c44a77c7bcd40155683ae19c65e1c03b4aa3499c5328201f1"
   }
  }
 },
 "nbformat": 4,
 "nbformat_minor": 2
}
