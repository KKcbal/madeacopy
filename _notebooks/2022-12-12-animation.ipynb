{
 "cells": [
  {
   "attachments": {},
   "cell_type": "markdown",
   "metadata": {},
   "source": [
    "# The untaught lesson"
   ]
  },
  {
   "cell_type": "code",
   "execution_count": 29,
   "metadata": {},
   "outputs": [
    {
     "name": "stdout",
     "output_type": "stream",
     "text": [
      "\u001b[0m\u001b[2D\n",
      "                                                              |\\   \n",
      "                                                              |/   \n",
      "\u001b[32m\u001b[2D                                                          \\__ |__/ \n",
      "                                                           \\____/  \n",
      "\u001b[34m\u001b[2D----------------------------------------------------------------------\u001b[0m\u001b[2D\n"
     ]
    }
   ],
   "source": [
    "\"\"\"\n",
    "* Creator: Nighthawk Coding Society\n",
    "Sailing Ship Animation (programatic method)\n",
    "\"\"\"\n",
    "\n",
    "import time # used for delay\n",
    "from IPython.display import clear_output  # jupyter specific clear\n",
    "\n",
    "\n",
    "# ANSI Color Codes\n",
    "OCEAN_COLOR = u\"\\u001B[34m\\u001B[2D\"\n",
    "SHIP_COLOR = u\"\\u001B[32m\\u001B[2D\"\n",
    "RESET_COLOR = u\"\\u001B[0m\\u001B[2D\"\n",
    "\n",
    "def ship_print(position):  # print ship with colors and leading spaces according to position\n",
    "    clear_output(wait=True)\n",
    "    print(RESET_COLOR)\n",
    "    \n",
    "    sp = \" \" * position\n",
    "    print(sp + \"    |\\   \")\n",
    "    print(sp + \"    |/   \")\n",
    "    print(SHIP_COLOR, end=\"\")\n",
    "    print(sp + \"\\__ |__/ \")\n",
    "    print(sp + \" \\____/  \")\n",
    "    print(OCEAN_COLOR + \"--\"*35 + RESET_COLOR)\n",
    "\n",
    "\n",
    "def ship():  # ship function, loop/controller for animation speed and times\n",
    "    # loop control variables\n",
    "    start = 0  # start at zero\n",
    "    distance = 60  # how many times to repeat\n",
    "    step = 2  # count by 2\n",
    "\n",
    "    # loop purpose is to animate ship sailing\n",
    "    for position in range(start, distance, step):\n",
    "        ship_print(position)  # call to function with parameter\n",
    "        time.sleep(.2)\n",
    "\n",
    "        \n",
    "ship() # activate/call ship function"
   ]
  },
  {
   "cell_type": "code",
   "execution_count": 44,
   "metadata": {},
   "outputs": [
    {
     "name": "stdout",
     "output_type": "stream",
     "text": [
      " o  \n",
      "/|\\ \n",
      "/ \\ \n"
     ]
    }
   ],
   "source": [
    "import time \n",
    "from IPython.display import clear_output\n",
    "\n",
    "top = [\" \", \"o \", \" \"]\n",
    "middle = [\"/\", \"|\", \"\\ \"]\n",
    "bottom = [\"/\", \" \", \"\\ \"]\n",
    "\n",
    "\n",
    "\n",
    "def mash():\n",
    "    global top\n",
    "    global middle\n",
    "    global bottom\n",
    "    x = top[0] + top[1] + top[2]\n",
    "    y = middle[0] + middle[1] + middle[2]\n",
    "    z = bottom[0] + bottom[1] + bottom[2]\n",
    "    clear_output()\n",
    "    time.sleep(.2)\n",
    "    print(x)\n",
    "    print(y)\n",
    "    print(z)\n",
    "mash()\n",
    "def reset():\n",
    "    global top\n",
    "    global middle\n",
    "    global bottom\n",
    "    top = [\" \", \"o \", \" \"]\n",
    "    middle = [\"/\", \"|\", \"\\ \"]\n",
    "    bottom = [\"/\", \" \", \"\\ \"]\n",
    "    x = top[0] + top[1] + top[2]\n",
    "    y = middle[0] + middle[1] + middle[2]\n",
    "    z = bottom[0] + bottom[1] + bottom[2]\n",
    "    clear_output(wait=True)\n",
    "    time.sleep(.2)\n",
    "    print(x)\n",
    "    print(y)\n",
    "    print(z)\n",
    "\n",
    "def pritn():\n",
    "    x = top[0] + top[1] + top[2]\n",
    "    y = middle[0] + middle[1] + middle[2]\n",
    "    z = bottom[0] + bottom[1] + bottom[2]\n",
    "    clear_output(wait=True)\n",
    "    time.sleep(.2)\n",
    "    print(x)\n",
    "    print(y)\n",
    "    print(z)\n",
    "def bash():\n",
    "    top[2] = \"/\"\n",
    "    middle[2] = \"/\"\n",
    "def cash():\n",
    "    top[2] = \"|\"\n",
    "def rash():\n",
    "    top[2] = \"_\"\n",
    "i = 0\n",
    "while i < 5:\n",
    "    bash()\n",
    "    pritn()\n",
    "    cash()\n",
    "    pritn()\n",
    "    bash()\n",
    "    pritn()\n",
    "    rash()\n",
    "    pritn()\n",
    "    i += 1\n",
    "reset()\n",
    "def back():\n",
    "    top[0] = \"  \"\n",
    "    bottom[0] = \" /\"\n",
    "    middle[0] = \"--\"\n",
    "    middle[2] = \"--\"\n",
    "def sack():\n",
    "    middle[2] = \"~~\"\n",
    "    middle[0] = \"--\"\n",
    "def rack():\n",
    "    middle[0] = \"~~\"\n",
    "    middle[2] = \"--\"\n",
    "i = 0\n",
    "back()\n",
    "pritn()\n",
    "while i < 5:\n",
    "    sack()\n",
    "    pritn()\n",
    "    rack()\n",
    "    pritn()\n",
    "    i += 1\n",
    "reset()"
   ]
  }
 ],
 "metadata": {
  "kernelspec": {
   "display_name": "base",
   "language": "python",
   "name": "python3"
  },
  "language_info": {
   "codemirror_mode": {
    "name": "ipython",
    "version": 3
   },
   "file_extension": ".py",
   "mimetype": "text/x-python",
   "name": "python",
   "nbconvert_exporter": "python",
   "pygments_lexer": "ipython3",
   "version": "3.9.12"
  },
  "orig_nbformat": 4,
  "vscode": {
   "interpreter": {
    "hash": "6ccb6558ef2ee8ddcd1889f8d547b1546f932296c7f2f80f67fdee00b5700eff"
   }
  }
 },
 "nbformat": 4,
 "nbformat_minor": 2
}
