{
 "cells": [
  {
   "attachments": {},
   "cell_type": "markdown",
   "metadata": {},
   "source": [
    "# Hashmaps"
   ]
  },
  {
   "attachments": {},
   "cell_type": "markdown",
   "metadata": {},
   "source": [
    "In Python there is a built in hashtable known as a dictionary\n",
    "\n",
    "The typical time complexity of a hashtable is O(1)"
   ]
  },
  {
   "cell_type": "code",
   "execution_count": 1,
   "metadata": {},
   "outputs": [
    {
     "name": "stdout",
     "output_type": "stream",
     "text": [
      "{1, 2, 3}\n"
     ]
    }
   ],
   "source": [
    "my_set = set([1, 2, 3, 2, 1])\n",
    "print(my_set)  \n",
    "\n",
    "# What do you notice in the output?\n",
    "# It didn't print the duplicates\n",
    "#\n",
    "\n",
    "# Why do you think Sets are in the same tech talk as Hashmaps/Hashtables?\n",
    "# The set did not print the duplicates, and hashtables need unique keys\n",
    "#"
   ]
  },
  {
   "cell_type": "code",
   "execution_count": 2,
   "metadata": {},
   "outputs": [
    {
     "name": "stdout",
     "output_type": "stream",
     "text": [
      "{'title': 'Lover', 'artist': 'Taylor Swift', 'year': 2019, 'genre': ['Pop', 'Synth-pop'], 'tracks': {1: 'I Forgot That You Existed', 2: 'Cruel Summer', 3: 'Lover', 4: 'The Man', 5: 'The Archer', 6: 'I Think He Knows', 7: 'Miss Americana & The Heartbreak Prince', 8: 'Paper Rings', 9: 'Cornelia Street', 10: 'Death By A Thousand Cuts', 11: 'London Boy', 12: \"Soon You'll Get Better (feat. Dixie Chicks)\", 13: 'False God', 14: 'You Need To Calm Down', 15: 'Afterglow', 16: 'Me! (feat. Brendon Urie of Panic! At The Disco)', 17: \"It's Nice To Have A Friend\", 18: 'Daylight'}}\n"
     ]
    }
   ],
   "source": [
    "lover_album = {\n",
    "    \"title\": \"Lover\",\n",
    "    \"artist\": \"Taylor Swift\",\n",
    "    \"year\": 2019,\n",
    "    \"genre\": [\"Pop\", \"Synth-pop\"],\n",
    "    \"tracks\": {\n",
    "        1: \"I Forgot That You Existed\",\n",
    "        2: \"Cruel Summer\",\n",
    "        3: \"Lover\",\n",
    "        4: \"The Man\",\n",
    "        5: \"The Archer\",\n",
    "        6: \"I Think He Knows\",\n",
    "        7: \"Miss Americana & The Heartbreak Prince\",\n",
    "        8: \"Paper Rings\",\n",
    "        9: \"Cornelia Street\",\n",
    "        10: \"Death By A Thousand Cuts\",\n",
    "        11: \"London Boy\",\n",
    "        12: \"Soon You'll Get Better (feat. Dixie Chicks)\",\n",
    "        13: \"False God\",\n",
    "        14: \"You Need To Calm Down\",\n",
    "        15: \"Afterglow\",\n",
    "        16: \"Me! (feat. Brendon Urie of Panic! At The Disco)\",\n",
    "        17: \"It's Nice To Have A Friend\",\n",
    "        18: \"Daylight\"\n",
    "    }\n",
    "}\n",
    "\n",
    "# What data structures do you see?\n",
    "# Dictionaries and lists\n",
    "#\n",
    "\n",
    "# Printing the dictionary\n",
    "print(lover_album)"
   ]
  },
  {
   "cell_type": "code",
   "execution_count": 3,
   "metadata": {},
   "outputs": [
    {
     "name": "stdout",
     "output_type": "stream",
     "text": [
      "{1: 'I Forgot That You Existed', 2: 'Cruel Summer', 3: 'Lover', 4: 'The Man', 5: 'The Archer', 6: 'I Think He Knows', 7: 'Miss Americana & The Heartbreak Prince', 8: 'Paper Rings', 9: 'Cornelia Street', 10: 'Death By A Thousand Cuts', 11: 'London Boy', 12: \"Soon You'll Get Better (feat. Dixie Chicks)\", 13: 'False God', 14: 'You Need To Calm Down', 15: 'Afterglow', 16: 'Me! (feat. Brendon Urie of Panic! At The Disco)', 17: \"It's Nice To Have A Friend\", 18: 'Daylight'}\n",
      "{1: 'I Forgot That You Existed', 2: 'Cruel Summer', 3: 'Lover', 4: 'The Man', 5: 'The Archer', 6: 'I Think He Knows', 7: 'Miss Americana & The Heartbreak Prince', 8: 'Paper Rings', 9: 'Cornelia Street', 10: 'Death By A Thousand Cuts', 11: 'London Boy', 12: \"Soon You'll Get Better (feat. Dixie Chicks)\", 13: 'False God', 14: 'You Need To Calm Down', 15: 'Afterglow', 16: 'Me! (feat. Brendon Urie of Panic! At The Disco)', 17: \"It's Nice To Have A Friend\", 18: 'Daylight'}\n"
     ]
    }
   ],
   "source": [
    "print(lover_album.get('tracks'))\n",
    "# or\n",
    "print(lover_album['tracks'])"
   ]
  },
  {
   "cell_type": "code",
   "execution_count": 4,
   "metadata": {},
   "outputs": [
    {
     "name": "stdout",
     "output_type": "stream",
     "text": [
      "The Man\n",
      "The Man\n"
     ]
    }
   ],
   "source": [
    "print(lover_album.get('tracks')[4])\n",
    "# or\n",
    "print(lover_album['tracks'][4])"
   ]
  },
  {
   "cell_type": "code",
   "execution_count": 6,
   "metadata": {},
   "outputs": [
    {
     "name": "stdout",
     "output_type": "stream",
     "text": [
      "{'title': 'Lover', 'artist': 'Taylor Swift', 'year': 2019, 'genre': ['Pop', 'Synth-pop'], 'tracks': {1: 'I Forgot That You Existed', 2: 'Cruel Summer', 3: 'Lover', 4: 'The Man', 5: 'The Archer', 6: 'I Think He Knows', 7: 'Miss Americana & The Heartbreak Prince', 8: 'Paper Rings', 9: 'Cornelia Street', 10: 'Death By A Thousand Cuts', 11: 'London Boy', 12: \"Soon You'll Get Better (feat. Dixie Chicks)\", 13: 'False God', 14: 'You Need To Calm Down', 15: 'Afterglow', 16: 'Me! (feat. Brendon Urie of Panic! At The Disco)', 17: \"It's Nice To Have A Friend\", 18: 'Daylight'}, 'producer': {'Louis Bell', 'Taylor Swift', 'Frank Dukes', 'Jack Antonoff', 'Joel Little'}}\n"
     ]
    }
   ],
   "source": [
    "lover_album[\"producer\"] = set(['Taylor Swift', 'Jack Antonoff', 'Joel Little', 'Taylor Swift', 'Louis Bell', 'Frank Dukes'])\n",
    "\n",
    "# What can you change to make sure there are no duplicate producers?\n",
    "# make it a set\n",
    "#\n",
    "\n",
    "# Printing the dictionary\n",
    "print(lover_album)"
   ]
  },
  {
   "cell_type": "code",
   "execution_count": 7,
   "metadata": {},
   "outputs": [
    {
     "name": "stdout",
     "output_type": "stream",
     "text": [
      "{'title': 'Lover', 'artist': 'Taylor Swift', 'year': 2019, 'genre': ['Pop', 'Synth-pop', 'electropop'], 'tracks': {1: 'I Forgot That You Existed', 2: 'Cruel Summer', 3: 'Lover', 4: 'The Man', 5: 'The Archer', 6: 'I Think He Knows', 7: 'Miss Americana & The Heartbreak Prince', 8: 'Paper Rings', 9: 'Cornelia Street', 10: 'Death By A Thousand Cuts', 11: 'London Boy', 12: \"Soon You'll Get Better (feat. Dixie Chicks)\", 13: 'False God', 14: 'You Need To Calm Down', 15: 'Afterglow', 16: 'Me! (feat. Brendon Urie of Panic! At The Disco)', 17: \"It's Nice To Have A Friend\", 18: 'Daylight', 19: 'All Of The Girls You Loved Before'}, 'producer': {'Louis Bell', 'Taylor Swift', 'Frank Dukes', 'Jack Antonoff', 'Joel Little'}}\n"
     ]
    }
   ],
   "source": [
    "lover_album[\"tracks\"].update({19: \"All Of The Girls You Loved Before\"})\n",
    "lover_album[\"genre\"].append(\"Electropop\")\n",
    "# How would add an additional genre to the dictionary, like electropop? \n",
    "# I did above. I used append, but you could also use insert and give a specific index\n",
    "# \n",
    "\n",
    "# Printing the dictionary\n",
    "print(lover_album)"
   ]
  },
  {
   "cell_type": "code",
   "execution_count": 9,
   "metadata": {},
   "outputs": [
    {
     "name": "stdout",
     "output_type": "stream",
     "text": [
      "title: Lover\n",
      "artist: Taylor Swift\n",
      "year: 2019\n",
      "genre: ['Pop', 'Synth-pop', 'electropop']\n",
      "tracks: {1: 'I Forgot That You Existed', 2: 'Cruel Summer', 3: 'Lover', 4: 'The Man', 5: 'The Archer', 6: 'I Think He Knows', 7: 'Miss Americana & The Heartbreak Prince', 8: 'Paper Rings', 9: 'Cornelia Street', 10: 'Death By A Thousand Cuts', 11: 'London Boy', 12: \"Soon You'll Get Better (feat. Dixie Chicks)\", 13: 'False God', 14: 'You Need To Calm Down', 15: 'Afterglow', 16: 'Me! (feat. Brendon Urie of Panic! At The Disco)', 17: \"It's Nice To Have A Friend\", 18: 'Daylight', 19: 'All Of The Girls You Loved Before'}\n",
      "producer: {'Louis Bell', 'Taylor Swift', 'Frank Dukes', 'Jack Antonoff', 'Joel Little'}\n",
      "1: I Forgot That You Existed\n",
      "2: Cruel Summer\n",
      "3: Lover\n",
      "4: The Man\n",
      "5: The Archer\n",
      "6: I Think He Knows\n",
      "7: Miss Americana & The Heartbreak Prince\n",
      "8: Paper Rings\n",
      "9: Cornelia Street\n",
      "10: Death By A Thousand Cuts\n",
      "11: London Boy\n",
      "12: Soon You'll Get Better (feat. Dixie Chicks)\n",
      "13: False God\n",
      "14: You Need To Calm Down\n",
      "15: Afterglow\n",
      "16: Me! (feat. Brendon Urie of Panic! At The Disco)\n",
      "17: It's Nice To Have A Friend\n",
      "18: Daylight\n",
      "19: All Of The Girls You Loved Before\n"
     ]
    }
   ],
   "source": [
    "for k,v in lover_album.items(): # iterate using a for loop for key and value\n",
    "    print(str(k) + \": \" + str(v))\n",
    "\n",
    "for k,v in lover_album[\"tracks\"].items():\n",
    "    print(str(k) + \": \" + str(v))\n",
    "# Write your own code to print tracks in readable format\n",
    "# I did\n",
    "#"
   ]
  },
  {
   "cell_type": "code",
   "execution_count": 32,
   "metadata": {},
   "outputs": [
    {
     "name": "stdout",
     "output_type": "stream",
     "text": [
      "False God\n"
     ]
    }
   ],
   "source": [
    "def search():\n",
    "    search = input(\"What would you like to know about the album?\")\n",
    "    if lover_album.get(search.lower()) == None:\n",
    "        print(\"Invalid Search\")\n",
    "    else:\n",
    "        if search == \"tracks\":\n",
    "            track = input(\"Pick a track number\")\n",
    "            if lover_album.get('tracks')[int(track)] == None:\n",
    "                print(\"Invalid Track\")\n",
    "            else:\n",
    "                print(lover_album.get(\"tracks\")[int(track)])\n",
    "        else:\n",
    "            print(lover_album.get(search.lower()))\n",
    "\n",
    "search()\n",
    "\n",
    "# This is a very basic code segment, how can you improve upon this code?\n",
    "# I can use several if statements to account for typos or synonyms. I can also add an extra if statement to find a specific track.\n",
    "#"
   ]
  },
  {
   "cell_type": "code",
   "execution_count": 19,
   "metadata": {},
   "outputs": [
    {
     "name": "stdout",
     "output_type": "stream",
     "text": [
      "Pros:\n",
      " Organized data\n",
      " Key/value system helpful for certain data\n",
      " getting data is instant\n",
      "Cons:\n",
      " Subject to typos and case sensitive\n",
      " Kind of a pain to write out\n",
      " Varying keys can be complex\n",
      "\n",
      "Dictionaries:\n",
      " Key/value system helpful for certain data \n",
      "Lists:\n",
      " Simple numbered index\n",
      " Doesn't need formating\n"
     ]
    }
   ],
   "source": [
    "print(\"Pros:\\n Organized data\\n Key/value system helpful for certain data\\n getting data is instant\")\n",
    "print(\"Cons:\\n Subject to typos and case sensitive\\n Kind of a pain to write out\\n Varying keys can be complex\")\n",
    "print(\"\")\n",
    "print(\"Dictionaries:\\n Key/value system helpful for certain data \")\n",
    "print(\"Lists:\\n Simple numbered index\\n Doesn't need formating\")"
   ]
  },
  {
   "cell_type": "code",
   "execution_count": null,
   "metadata": {},
   "outputs": [],
   "source": [
    "IOTM = {\n",
    "    \"title\": \"I'm on to Me\",\n",
    "    \"artist\": \"Rav\",\n",
    "    \"year\": 2020,\n",
    "    \"genre\": [\"Hip hop\", \"Rap\"],\n",
    "    \"producer\": [\"channel select\", \"Kill Bill: The Rapper\", \"Rav\", \"Scuare\"],\n",
    "    \"tracks\": {\n",
    "        1: \"Dandelions (Ft. Kill Bill: The Rapper)\",\n",
    "        2: \"Me? Never\",\n",
    "        3: \"Molasses (Ft. Kill Bill: The Rapper & Scuare)\",\n",
    "        4: \"Prosthetic Self-Love\",\n",
    "        5: \"Channel F (Ft. Kill Bill: The Rapper)\",\n",
    "        6: \"Dead End\",\n",
    "        7: \"To My Future Self (Ft. Scuare)\"\n",
    "    }\n",
    "}"
   ]
  },
  {
   "attachments": {},
   "cell_type": "markdown",
   "metadata": {},
   "source": [
    "Mr. Yeung, I've heard like two Taylor Swift songs, and I don't know either of their names"
   ]
  }
 ],
 "metadata": {
  "kernelspec": {
   "display_name": "base",
   "language": "python",
   "name": "python3"
  },
  "language_info": {
   "codemirror_mode": {
    "name": "ipython",
    "version": 3
   },
   "file_extension": ".py",
   "mimetype": "text/x-python",
   "name": "python",
   "nbconvert_exporter": "python",
   "pygments_lexer": "ipython3",
   "version": "3.9.12"
  },
  "orig_nbformat": 4
 },
 "nbformat": 4,
 "nbformat_minor": 2
}
