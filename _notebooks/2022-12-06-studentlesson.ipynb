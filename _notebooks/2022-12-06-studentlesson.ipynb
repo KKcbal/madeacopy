{
 "cells": [
  {
   "attachments": {},
   "cell_type": "markdown",
   "metadata": {},
   "source": [
    "# Student lesson\n",
    "> student lesson 6/12/2022\n",
    "\n",
    "- categories: [student lesson]"
   ]
  },
  {
   "cell_type": "markdown",
   "metadata": {},
   "source": [
    "In javascript, if statements are a little different"
   ]
  },
  {
   "cell_type": "code",
   "execution_count": null,
   "metadata": {
    "vscode": {
     "languageId": "javascript"
    }
   },
   "outputs": [],
   "source": [
    "if (condition) {\n",
    "    //code\n",
    "} else if (condition 2) {\n",
    "    //code\n",
    "} else {\n",
    "    //code\n",
    "}"
   ]
  },
  {
   "cell_type": "code",
   "execution_count": null,
   "metadata": {
    "vscode": {
     "languageId": "javascript"
    }
   },
   "outputs": [],
   "source": [
    "for (let i = number; i < number; i++) {\n",
    "    // code\n",
    "}"
   ]
  },
  {
   "cell_type": "markdown",
   "metadata": {},
   "source": [
    "Conditions and booleans can be equivalent."
   ]
  },
  {
   "cell_type": "code",
   "execution_count": null,
   "metadata": {
    "vscode": {
     "languageId": "javascript"
    }
   },
   "outputs": [],
   "source": [
    "sunny = true; \n",
    "rainy = false;\n",
    "\n",
    "if (sunny) {\n",
    "    umbrella = false; \n",
    "} else if (rainy) {\n",
    "    umbrella = true; \n",
    "} else {\n",
    "    umbrella = false; \n",
    "}\n",
    "console.log(umbrella);\n",
    "\n",
    "umbrella = !sunny && rainy;\n",
    "console.log(umbrella);"
   ]
  },
  {
   "cell_type": "code",
   "execution_count": 2,
   "metadata": {},
   "outputs": [
    {
     "name": "stdout",
     "output_type": "stream",
     "text": [
      "no\n",
      "no\n",
      "3!\n"
     ]
    }
   ],
   "source": [
    "list = [1, 2, 3, 4, 5]\n",
    "\n",
    "for n in list:\n",
    "    if n == 3:\n",
    "        print(\"3!\")\n",
    "        break\n",
    "    else:\n",
    "        print(\"no\")"
   ]
  },
  {
   "cell_type": "markdown",
   "metadata": {},
   "source": [
    "Binary search works by checking the middle value in a sorted list and cutting of the half greater or less than the middle based on the desired value."
   ]
  },
  {
   "cell_type": "markdown",
   "metadata": {},
   "source": [
    "Find 1\n",
    "[1, 2, 3, 4, 5, 6, 7]\n",
    "4 is the middle. 4 > 1\n",
    "[1, 2, 3]\n",
    "2 is the middle. 2 > 1\n",
    "[1]"
   ]
  }
 ],
 "metadata": {
  "kernelspec": {
   "display_name": "Python 3.9.12 ('base')",
   "language": "python",
   "name": "python3"
  },
  "language_info": {
   "codemirror_mode": {
    "name": "ipython",
    "version": 3
   },
   "file_extension": ".py",
   "mimetype": "text/x-python",
   "name": "python",
   "nbconvert_exporter": "python",
   "pygments_lexer": "ipython3",
   "version": "3.9.12 (main, Apr  5 2022, 06:56:58) \n[GCC 7.5.0]"
  },
  "orig_nbformat": 4,
  "vscode": {
   "interpreter": {
    "hash": "6ccb6558ef2ee8ddcd1889f8d547b1546f932296c7f2f80f67fdee00b5700eff"
   }
  }
 },
 "nbformat": 4,
 "nbformat_minor": 2
}
