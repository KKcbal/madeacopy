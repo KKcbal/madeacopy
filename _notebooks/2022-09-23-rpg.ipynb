{
 "cells": [
  {
   "cell_type": "markdown",
   "metadata": {},
   "source": [
    "# RPG Attempt \n",
    "> This is my attempt at the rpg idea from the brainstorm in python\n",
    "\n",
    "- categories: [big time, python]"
   ]
  },
  {
   "cell_type": "code",
   "execution_count": 5,
   "metadata": {},
   "outputs": [
    {
     "name": "stdout",
     "output_type": "stream",
     "text": [
      "8\n"
     ]
    }
   ],
   "source": [
    "health = 10\n",
    "defend = 0\n",
    "\n",
    "\n",
    "drsp = input(\"defend\")\n",
    "if drsp == \"yes\":\n",
    "    defend += 1\n",
    "\n",
    "arsp = input(\"attack\")\n",
    "if arsp == \"yes\":\n",
    "    if drsp == \"yes\":\n",
    "        health -= 1\n",
    "    if drsp == \"no\":\n",
    "        health -= 2\n",
    "if arsp == \"no\":\n",
    "    health += 1\n",
    "\n",
    "print(health)"
   ]
  },
  {
   "cell_type": "code",
   "execution_count": 12,
   "metadata": {},
   "outputs": [
    {
     "name": "stdout",
     "output_type": "stream",
     "text": [
      "3\n",
      "7\n",
      "10\n"
     ]
    }
   ],
   "source": [
    "import random\n",
    "\n",
    "\n",
    "health = 10\n",
    "slash = 1\n",
    "jab = 2\n",
    "punch = 3\n",
    "moveLs = [slash, jab, punch]\n",
    "\n",
    "def select(output):\n",
    "    movenum = random.randrange(3)\n",
    "    print(moveLs[movenum])\n",
    "    output -= moveLs[movenum]\n",
    "    print(output)\n",
    "\n",
    "select(health)\n",
    "print(health)"
   ]
  },
  {
   "cell_type": "code",
   "execution_count": 1,
   "metadata": {},
   "outputs": [
    {
     "name": "stdout",
     "output_type": "stream",
     "text": [
      "Choices: Attack, Defend\n",
      "8\n",
      "4\n",
      "10\n"
     ]
    }
   ],
   "source": [
    "import random\n",
    "\n",
    "health = 10\n",
    "healthOp = 10\n",
    "meg = \"damage done to\"\n",
    "attacks = [1,2,3,4,5]\n",
    "\n",
    "def attack(output):\n",
    "    global health\n",
    "    global healthOp\n",
    "    movenum = random.randrange(5)\n",
    "    output -= movenum\n",
    "\n",
    "def attackD(output):\n",
    "    global health\n",
    "    movenum = random.randrange(5)\n",
    "    movenum -= 2\n",
    "    health -= attacks[movenum]\n",
    "\n",
    "print(\"Choices: Attack, Defend\")\n",
    "\n",
    "choice = input(\"What will you do?\")\n",
    "\n",
    "if choice.lower() == \"attack\":\n",
    "    attack(healthOp)\n",
    "    attack(health)\n",
    "if choice.lower() == \"defend\":\n",
    "    attackD(health)\n",
    "    print(health)\n",
    "\n",
    "attackD(health)\n",
    "print(health)\n",
    "print(healthOp)"
   ]
  },
  {
   "cell_type": "code",
   "execution_count": 16,
   "metadata": {},
   "outputs": [
    {
     "name": "stdout",
     "output_type": "stream",
     "text": [
      "defend\n",
      "10\n",
      "8\n"
     ]
    }
   ],
   "source": [
    "opChoice = [\"attack\", \"defend\"]\n",
    "health = 10\n",
    "healthOp = 10\n",
    "def opponent():\n",
    "    x = \"nothing\"\n",
    "    global health\n",
    "    global healthOp\n",
    "    def op():\n",
    "        op = random.randrange(2)\n",
    "        nonlocal x\n",
    "        x = opChoice[op]\n",
    "    op()\n",
    "    print(x)\n",
    "    if x == \"attack\":\n",
    "        health -= 3\n",
    "    if x == \"defend\":\n",
    "        healthOp -= 2\n",
    "\n",
    "opponent()\n",
    "print(health)\n",
    "print(healthOp)"
   ]
  },
  {
   "cell_type": "code",
   "execution_count": 26,
   "metadata": {},
   "outputs": [
    {
     "name": "stdout",
     "output_type": "stream",
     "text": [
      "You have a sword and a hammer, what weapon would you like to select?\n",
      "27\n"
     ]
    }
   ],
   "source": [
    "import random\n",
    "\n",
    "sword = 20\n",
    "hammer = 30\n",
    "num3 = [1,2,3]\n",
    "def function(output):\n",
    "    global equip\n",
    "    equip = output\n",
    "\n",
    "def durability():\n",
    "    global equip\n",
    "    dur = random.randrange(3)\n",
    "    equip -= num3[dur]\n",
    "\n",
    "\n",
    "print(\"You have a sword and a hammer, what weapon would you like to select?\")\n",
    "choice = input(\"Choose a weapon\")\n",
    "if choice.lower() == \"hammer\":\n",
    "    function(hammer)\n",
    "if choice.lower() == \"sword\":\n",
    "    function(sword)\n",
    "\n",
    "choice2 = input(\"Would you like to attack?\")\n",
    "if choice2.lower() == \"yes\":\n",
    "    durability()\n",
    "\n",
    "print(equip)\n",
    "def cum():\n",
    "    pass"
   ]
  },
  {
   "cell_type": "code",
   "execution_count": 14,
   "metadata": {},
   "outputs": [
    {
     "name": "stdout",
     "output_type": "stream",
     "text": [
      "filler\n",
      "False\n",
      "Your weapon's durablility is 2\n"
     ]
    }
   ],
   "source": [
    "print(\"filler\")\n",
    "print(9 == 12)"
   ]
  },
  {
   "cell_type": "code",
   "execution_count": 16,
   "metadata": {},
   "outputs": [
    {
     "name": "stdout",
     "output_type": "stream",
     "text": [
      "There is an enemy in front of you. You have a sword and hammer. You must equip one to fight\n",
      "You can fight, check your weapon's durability, and defend. To equip a weapon you must type 'equip'\n",
      "Your weapon's durablility is 2\n",
      "You can not do check durability, please do something else\n",
      "Your weapon's durablility is 2\n",
      "You can not do check durability, please do something else\n",
      "You can not do , please do something else\n",
      "You can not do , please do something else\n",
      "You can not do , please do something else\n",
      "You can not do , please do something else\n",
      "You can not do , please do something else\n",
      "You can not do , please do something else\n",
      "2\n"
     ]
    }
   ],
   "source": [
    "import random\n",
    "\n",
    "sword = 20\n",
    "hammer = 30\n",
    "num3 = [1,2,3]\n",
    "healthOp = 10\n",
    "def equip(output):\n",
    "    global equipped\n",
    "    equipped = output\n",
    "def durLow():\n",
    "    global equipped\n",
    "    dur = random.randrange(3)\n",
    "    equipped -= num3[dur]\n",
    "def durCheck():\n",
    "    if equipped:\n",
    "        print(\"Your weapon's durablility is \"+str(equipped))\n",
    "    else:\n",
    "        print(\"You must have a weapon equipped to check its durability\")\n",
    "def choose():\n",
    "    global choice\n",
    "    choice = input(\"What would you like to do?\")\n",
    "    if choice.lower() == \"equip\":\n",
    "        print(\"What would you like to equip?\")\n",
    "        chooseEquip()\n",
    "        pass\n",
    "    if choice.lower() == \"check durability\":\n",
    "        durCheck()\n",
    "        pass\n",
    "    if choice.lower() == \"attack\":\n",
    "        pass\n",
    "    if choice.lower() == \"defend\":\n",
    "        pass\n",
    "    else:\n",
    "        print(\"You can not do \"+str(choice)+\", please do something else\")\n",
    "        choose()\n",
    "        pass\n",
    "def chooseEquip():\n",
    "    don = input(\"Choose a weapon\")\n",
    "    if don.lower() == \"brick\":\n",
    "        print(\"The brick is too heavy for a peasant like you\")\n",
    "        chooseEquip()\n",
    "    if don.lower() == \"sword\":\n",
    "        equip(sword)\n",
    "    if don.lower() == \"hammer\":\n",
    "        equip(hammer)\n",
    "    if don.lower() == \"sword\":\n",
    "        equip(sword)\n",
    "    else:\n",
    "        print(\"You do not have \"+str(don)+\", please choose a weapon\")\n",
    "        chooseEquip()\n",
    "\n",
    "print(\"There is an enemy in front of you. You have a sword and hammer. You must equip one to fight\")\n",
    "print(\"You can fight, check your weapon's durability, and defend. To equip a weapon you must type 'equip'\")\n",
    "choose()\n",
    "\n",
    "print(equipped)"
   ]
  },
  {
   "cell_type": "code",
   "execution_count": 17,
   "metadata": {},
   "outputs": [
    {
     "name": "stdout",
     "output_type": "stream",
     "text": [
      "\n",
      "\n",
      "Recursion Example Results\n",
      "heoo\n",
      "1\n",
      "heoo\n",
      "3\n",
      "heoo\n",
      "6\n",
      "heoo\n",
      "10\n",
      "heoo\n",
      "15\n",
      "heoo\n",
      "21\n"
     ]
    },
    {
     "data": {
      "text/plain": [
       "21"
      ]
     },
     "execution_count": 17,
     "metadata": {},
     "output_type": "execute_result"
    }
   ],
   "source": [
    "def tri_recursion(k):\n",
    "  if(k > 0):\n",
    "    result = k + tri_recursion(k - 1)\n",
    "    print(\"heoo\")\n",
    "    print(result)\n",
    "  else:\n",
    "    result = 0\n",
    "  return result\n",
    "\n",
    "print(\"\\n\\nRecursion Example Results\")\n",
    "tri_recursion(6)"
   ]
  }
 ],
 "metadata": {
  "kernelspec": {
   "display_name": "Python 3.9.12 ('base')",
   "language": "python",
   "name": "python3"
  },
  "language_info": {
   "codemirror_mode": {
    "name": "ipython",
    "version": 3
   },
   "file_extension": ".py",
   "mimetype": "text/x-python",
   "name": "python",
   "nbconvert_exporter": "python",
   "pygments_lexer": "ipython3",
   "version": "3.9.12"
  },
  "orig_nbformat": 4,
  "vscode": {
   "interpreter": {
    "hash": "6ccb6558ef2ee8ddcd1889f8d547b1546f932296c7f2f80f67fdee00b5700eff"
   }
  }
 },
 "nbformat": 4,
 "nbformat_minor": 2
}
