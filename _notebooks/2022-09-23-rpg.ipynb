{
 "cells": [
  {
   "cell_type": "markdown",
   "metadata": {},
   "source": [
    "# RPG Attempt \n",
    "> This is my attempt at the rpg idea from the brainstorm in python\n",
    "\n",
    "- categories: [big time, python]"
   ]
  },
  {
   "cell_type": "code",
   "execution_count": 5,
   "metadata": {},
   "outputs": [
    {
     "name": "stdout",
     "output_type": "stream",
     "text": [
      "8\n"
     ]
    }
   ],
   "source": [
    "health = 10\n",
    "defend = 0\n",
    "\n",
    "\n",
    "drsp = input(\"defend\")\n",
    "if drsp == \"yes\":\n",
    "    defend += 1\n",
    "\n",
    "arsp = input(\"attack\")\n",
    "if arsp == \"yes\":\n",
    "    if drsp == \"yes\":\n",
    "        health -= 1\n",
    "    if drsp == \"no\":\n",
    "        health -= 2\n",
    "if arsp == \"no\":\n",
    "    health += 1\n",
    "\n",
    "print(health)"
   ]
  }
 ],
 "metadata": {
  "kernelspec": {
   "display_name": "Python 3.9.12 ('base')",
   "language": "python",
   "name": "python3"
  },
  "language_info": {
   "codemirror_mode": {
    "name": "ipython",
    "version": 3
   },
   "file_extension": ".py",
   "mimetype": "text/x-python",
   "name": "python",
   "nbconvert_exporter": "python",
   "pygments_lexer": "ipython3",
   "version": "3.9.12"
  },
  "orig_nbformat": 4,
  "vscode": {
   "interpreter": {
    "hash": "6ccb6558ef2ee8ddcd1889f8d547b1546f932296c7f2f80f67fdee00b5700eff"
   }
  }
 },
 "nbformat": 4,
 "nbformat_minor": 2
}
