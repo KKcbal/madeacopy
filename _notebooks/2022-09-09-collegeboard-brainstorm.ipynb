{
 "cells": [
  {
   "cell_type": "markdown",
   "metadata": {},
   "source": [
    "# College board create task brainstorm\n",
    "> This will be for possibly noncoherent ideas I have\n",
    "\n",
    "- toc: true"
   ]
  },
  {
   "cell_type": "markdown",
   "metadata": {},
   "source": [
    "My ideas will be written here. Ill write down thoughts so i can think out certain parts of my ideas, to get more into what it will be like. Because of this, they may not be completely coherent"
   ]
  },
  {
   "cell_type": "markdown",
   "metadata": {},
   "source": [
    "# Imporant task reqiurements\n",
    "\n",
    "A list must be created and used in the program.\n",
    "\n",
    "A function must be included. Similar but not the same as the for_loop\n",
    "\n"
   ]
  },
  {
   "cell_type": "markdown",
   "metadata": {},
   "source": [
    "# DnD \n",
    "\n",
    "The dnd project i made fleshed out to be interactable with written inputs impacting the story\n",
    "the choices will have to be limited.\n",
    "\n",
    "maybe make a new story rather than the cold war one so there's more choices\n",
    "\n",
    "lists could be implimented using choices;\n",
    "\n",
    "-an empty list could be made for choice storing in the future\n",
    "\n",
    "-when certain choices are made, something could be appended to a list\n",
    "\n",
    "-when that certain choice has an impact in the future story, an if/else could be used with the list to determine if it's changed\n",
    "\n",
    "list append could also be used for keeping score, but i wouldnt know what for and theres probably better ways"
   ]
  },
  {
   "cell_type": "markdown",
   "metadata": {},
   "source": [
    "# space invaders\n",
    "\n",
    "The game I made in 6th grade, but without the handicap of scratch\n",
    "\n",
    "not sure how I could create this using python based on how its been used so far\n",
    "I might jsut scratch this idea\n",
    "\n",
    "I also dont really like the idea, kinda basic"
   ]
  },
  {
   "cell_type": "markdown",
   "metadata": {},
   "source": [
    "# RPG\n",
    "\n",
    "I could make some sort of rpg fight, similar to how some games used to just be in text\n",
    "\n",
    "this could be fun, i could use many different things as inpiration for enemys/attacks, especially since it'll be just text\n",
    "\n",
    "this will very likely impliment lists\n",
    "\n",
    "lists could be used to hold damage values, weapons, enemy and player attacks,\n",
    "\n",
    "adding a buff system could make it more complicated \n",
    "\n",
    "I think how it will work is there will be a lot of functions defined at the top for attacking and such and as the text progresses many if/else statements will be used to determine which function to use. it might be better to just use if statements without the else so i can cover more options.\n",
    "\n",
    "how the choices are made will be through input. I'll add a prompt at the top to ask people to only type in lowercase so there's no errors.\n",
    "\n",
    "I'll have to find a way for the choice prompt to restart if an undefined prompt is inputted.\n",
    "\n",
    "a list can be used to define damage values. A random number generator can be used to choose a number from that list. the damage values can also contain a miss or something. There's probably a better way to choose random damage values than what i just described.\n",
    "\n",
    "probably 2 or three enemies\n",
    "\n",
    "im thinking that a choice of which to attack will be provided first, which then leads to a choice of attacking and whatnot\n",
    "\n",
    "i could probably use somesort of if statement to make certain attacks less/more effective to enemies. i could make them add or subtract a predetermined amount after a ranodm number is generated\n",
    "\n",
    "probably just multiple attack choices.\n",
    "\n",
    "I could add a defense option, using the same method used for the less/more effective attakcs\n",
    "\n",
    "if defense optino added, I should have it reset a certain value after each turn. if not then the defense will be infinite\n",
    "\n",
    "make the whole process of a turn a function. this eay i can repeat is more often without typing so much\n",
    "\n",
    "use a loop with an if statement so the turns will keep going until someone dies DEFINITELY LOOK INTO A BETTER WAY TO DO THIS\n",
    "\n",
    "make the numbers in the list a variable. i think if you do this then you can add and subtract from them. ex: instead of [1,2,3] its [n1,n2,n3] and n1=(1) etc."
   ]
  }
 ],
 "metadata": {
  "kernelspec": {
   "display_name": "Python 3.8.10 64-bit",
   "language": "python",
   "name": "python3"
  },
  "language_info": {
   "name": "python",
   "version": "3.8.10"
  },
  "orig_nbformat": 4,
  "vscode": {
   "interpreter": {
    "hash": "916dbcbb3f70747c44a77c7bcd40155683ae19c65e1c03b4aa3499c5328201f1"
   }
  }
 },
 "nbformat": 4,
 "nbformat_minor": 2
}
