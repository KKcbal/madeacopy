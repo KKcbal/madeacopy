{
 "cells": [
  {
   "cell_type": "markdown",
   "metadata": {},
   "source": [
    "# title\n",
    ">tile"
   ]
  },
  {
   "cell_type": "markdown",
   "metadata": {},
   "source": [
    "adding .lower() to something will make it lower case. in an input, it can make the input lowercase so it matches the code written."
   ]
  },
  {
   "cell_type": "code",
   "execution_count": 3,
   "metadata": {},
   "outputs": [
    {
     "name": "stdout",
     "output_type": "stream",
     "text": [
      "normal input is Hello\n",
      "input with .lower is hello\n"
     ]
    }
   ],
   "source": [
    "t = input()\n",
    "print(\"normal input is \" + t)\n",
    "print(\"input with .lower is \" + t.lower())"
   ]
  },
  {
   "cell_type": "code",
   "execution_count": 25,
   "metadata": {},
   "outputs": [
    {
     "name": "stdout",
     "output_type": "stream",
     "text": [
      "Menu\n",
      "burger  $3.99\n",
      "fries  $1.99\n",
      "drink  $0.99\n",
      "You ordered a burger.\n",
      "You ordered a burger.\n",
      "You ordered a burger.\n",
      "You ordered fries.\n",
      "You ordered a drink.\n",
      "You ordered a drink.\n",
      "You ordered fries.\n",
      "You ordered a drink.\n",
      "You ordered a burger.\n",
      "22.909999999999997\n",
      "22.909999999999997\n"
     ]
    }
   ],
   "source": [
    "menu =  {\"burger\": 3.99,\n",
    "         \"fries\": 1.99,\n",
    "         \"drink\": 0.99}\n",
    "total = 0\n",
    "\n",
    "#shows the user the menu and prompts them to select an item\n",
    "print(\"Menu\")\n",
    "for k,v in menu.items():\n",
    "    print(k + \"  $\" + str(v)) #why does v have \"str\" in front of it?\n",
    "\n",
    "#ideally the code should prompt the user multiple times\n",
    "\n",
    "\n",
    "def function():\n",
    "    global total\n",
    "    item = input(\"Please select an item from the menu\")\n",
    "    if item.lower() == \"done\":\n",
    "        print(total)\n",
    "    else:\n",
    "        for k,v in menu.items():\n",
    "            if item.lower() == k:\n",
    "                if k == \"fries\":\n",
    "                  print(\"You ordered fries.\")\n",
    "                else:\n",
    "                    print(\"You ordered a \" + k + \".\")\n",
    "                total += v\n",
    "        function()\n",
    "\n",
    "function()\n",
    "print(total)\n",
    "#code should add the price of the menu items selected by the user \n"
   ]
  },
  {
   "cell_type": "code",
   "execution_count": 7,
   "metadata": {},
   "outputs": [
    {
     "data": {
      "text/plain": [
       "dict_items([('burger', 3.99), ('fries', 1.99), ('drink', 0.99)])"
      ]
     },
     "execution_count": 7,
     "metadata": {},
     "output_type": "execute_result"
    }
   ],
   "source": [
    "menu =  {\"burger\": 3.99,\n",
    "         \"fries\": 1.99,\n",
    "         \"drink\": 0.99}\n",
    "\n",
    "menu.items()"
   ]
  },
  {
   "cell_type": "code",
   "execution_count": 14,
   "metadata": {},
   "outputs": [
    {
     "name": "stdout",
     "output_type": "stream",
     "text": [
      "4\n"
     ]
    }
   ],
   "source": [
    "x = 2\n",
    "\n",
    "def function():\n",
    "  global x\n",
    "  x += 2\n",
    "\n",
    "function()\n",
    "print(x)\n"
   ]
  }
 ],
 "metadata": {
  "kernelspec": {
   "display_name": "Python 3.9.12 ('base')",
   "language": "python",
   "name": "python3"
  },
  "language_info": {
   "codemirror_mode": {
    "name": "ipython",
    "version": 3
   },
   "file_extension": ".py",
   "mimetype": "text/x-python",
   "name": "python",
   "nbconvert_exporter": "python",
   "pygments_lexer": "ipython3",
   "version": "3.9.12"
  },
  "orig_nbformat": 4,
  "vscode": {
   "interpreter": {
    "hash": "6ccb6558ef2ee8ddcd1889f8d547b1546f932296c7f2f80f67fdee00b5700eff"
   }
  }
 },
 "nbformat": 4,
 "nbformat_minor": 2
}
