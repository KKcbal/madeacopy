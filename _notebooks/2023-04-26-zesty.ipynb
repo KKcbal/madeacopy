{
 "cells": [
  {
   "attachments": {},
   "cell_type": "markdown",
   "metadata": {},
   "source": [
    "# Binary Math and Truth Table Hacks"
   ]
  },
  {
   "attachments": {},
   "cell_type": "markdown",
   "metadata": {},
   "source": [
    "**Question**: How do you think we should find the difference of two binary numbers? The product? The quotient? What rules need to be followed for those operations? Look into all of this on the Internet and note down important information you find"
   ]
  },
  {
   "attachments": {},
   "cell_type": "markdown",
   "metadata": {},
   "source": [
    "0 – 0 = 0  \n",
    "1 – 0 = 1  \n",
    "1 – 1 = 0  \n",
    "0 – 1 = 1 (Borrow 1)  \n",
    "Subtraction in binary works similar to normal subtraction.  \n",
    "<p>1010<br>-101<br>----</p>\n",
    "Carry a 1\n",
    "<p>___(1)<br>1001<br>-101<br>-----<br>0101</p>\n",
    "In the one's place, (0-1)=1 because you carry a one from the ten's place. This makes the ten's place (0-0) which is 0. Anytime you want to subtract but there's a 0 in the top number, you pull a 1 from the next place. When you pull down a 1, you get \"two\" 1s, as demonstrated above. You subtract 1, and get a 1 as a remainder.\n",
    "\n",
    "0 × 0 = 0  \n",
    "0 × 1 = 0  \n",
    "1 × 0 = 0  \n",
    "1 × 1 = 1  \n",
    "Multiplication is weird, but not hard to figure out. 0x0 gives two zeros, as does 1x1. 1x0 or 0x1 gives one 0.  \n",
    "\n",
    "<p>0110<br>x100<br>-----<br><b>11</b>0<b>00</b></p>\n",
    "\n",
    "The bolded numbers here are the doubles given by 1x1 or 0x0. \n",
    "\n",
    "1÷1 = 1  \n",
    "1÷0 = Meaningless  \n",
    "0÷1 = 0  \n",
    "0÷0 = Meaningless  \n",
    "Division sucks  \n",
    "![](/home/kkcbal/vscode/madeacopy/images/binary_division.png)  \n",
    "This is an example of division. I did multiplication and division in windows paint to figure out how they work, but division is too much of a pain to write out in markdown."
   ]
  },
  {
   "cell_type": "code",
   "execution_count": 23,
   "metadata": {},
   "outputs": [
    {
     "name": "stdout",
     "output_type": "stream",
     "text": [
      "['1', '0', '1', '0', '1'] x ['0', '0', '0', '1', '1']\n",
      "['0', '0', '0', '0', '0', '1', '1'] 0000011\n"
     ]
    }
   ],
   "source": [
    "binary1 = input()\n",
    "oper = input()\n",
    "binary2 = input()\n",
    "sum = \"\"\n",
    "str(binary1)\n",
    "str(binary2)\n",
    "str(oper)\n",
    "binary1list = []\n",
    "binary2list = []\n",
    "sumlist = []\n",
    "\n",
    "if len(binary1) > len(binary2):\n",
    "    binary2 = binary2.zfill(len(binary1))\n",
    "if len(binary2) > len(binary1):\n",
    "    binary1 = binary1.zfill(len(binary2))\n",
    "for n in binary1:\n",
    "    binary1list.append(n)\n",
    "for n in binary2:\n",
    "    binary2list.append(n)\n",
    "    \n",
    "if oper == \"-\" or oper == \"/\" or oper == \"*\" or oper.lower() == \"x\":\n",
    "    loop = len(binary1)\n",
    "    if oper == \"-\":\n",
    "        pass\n",
    "    if oper == \"/\":\n",
    "        pass\n",
    "    if oper == \"*\" or oper.lower() == \"x\":\n",
    "        while loop != 0:\n",
    "            if binary1list[loop-1] == \"1\" and binary2list[loop-1] == \"1\":\n",
    "                sumlist.insert(0, \"1\")\n",
    "                sumlist.insert(0, \"1\")\n",
    "            elif binary1list[loop-1] == \"0\" and binary2list[loop-1] == \"0\":\n",
    "                sumlist.insert(0, \"0\")\n",
    "                sumlist.insert(0, \"0\")\n",
    "            else: sumlist.insert(0, \"0\")\n",
    "            loop -= 1\n",
    "\n",
    "for n in sumlist:\n",
    "    sum = sum + n\n",
    "\n",
    "print(binary1list, oper, binary2list)\n",
    "print(sumlist, sum)"
   ]
  },
  {
   "cell_type": "code",
   "execution_count": 14,
   "metadata": {},
   "outputs": [
    {
     "name": "stdout",
     "output_type": "stream",
     "text": [
      "i\n",
      "m\n",
      "l\n",
      "k\n"
     ]
    }
   ],
   "source": [
    "string = \"imlk\"\n",
    "for x in string:\n",
    "    print(x)"
   ]
  }
 ],
 "metadata": {
  "kernelspec": {
   "display_name": "base",
   "language": "python",
   "name": "python3"
  },
  "language_info": {
   "name": "python",
   "version": "3.9.12"
  },
  "orig_nbformat": 4
 },
 "nbformat": 4,
 "nbformat_minor": 2
}
