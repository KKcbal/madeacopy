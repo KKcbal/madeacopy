{
 "cells": [
  {
   "attachments": {},
   "cell_type": "markdown",
   "metadata": {},
   "source": [
    "# Stem at CSUSM\n",
    "> Extra credit stuff"
   ]
  },
  {
   "attachments": {},
   "cell_type": "markdown",
   "metadata": {},
   "source": [
    "It was a poltry farm before it was a school  \n",
    "It pretty new  \n",
    "National leader in social mobiliy  \n",
    "over 250 stairs  \n",
    "Chemistry, Bio Chemistry, Applied Physics, Biological Sciences  \n",
    "Computer science, computer information systems, computer engineering  \n",
    "You can switch between computer science and computer engineering without much trouble because the classes are very in sync  \n",
    "\n",
    "#### CSUSM clubs\n",
    "cybersecurity\n",
    "robotics\n",
    "3d printing\n",
    "women in stem\n",
    "society of women engineers\n",
    "society of physics students\n",
    "\n",
    "Internship is a period of work experience offered by an organization fofr a limited period of time  \n",
    "join clubs  \n",
    "check emails  \n",
    "go to campus events  \n",
    "google  \n",
    "try to avoid unpaid internships  \n",
    "\n",
    "#### programs\n",
    "summer scholars program:  \n",
    "10 week summer program. intensive research program. aimed at career development or preperation for graduate school  \n",
    "\n",
    "\n",
    "#### research\n",
    "terrestrial ecosystem research lab    \n",
    "california primary algae labratory  \n",
    "\n",
    "grant is government funded, scholarship is privatly funded  \n",
    "You have to search out a scholarship yourself  \n",
    "subsadized loan: loan partially funded by the government. does not interest while in school  \n",
    "unsubsadized loan: dont have to worry about loan for 6 months after graduate. does interest while in school.  "
   ]
  }
 ],
 "metadata": {
  "language_info": {
   "name": "python"
  },
  "orig_nbformat": 4
 },
 "nbformat": 4,
 "nbformat_minor": 2
}
