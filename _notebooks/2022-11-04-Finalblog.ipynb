{
 "cells": [
  {
   "cell_type": "markdown",
   "metadata": {},
   "source": [
    "# Final Blog\n",
    "> A blog for the Night at the Museum findings and missed test questions on the final\n",
    "\n",
    "- toc: true"
   ]
  },
  {
   "cell_type": "markdown",
   "metadata": {},
   "source": [
    "## Night at the Museum"
   ]
  },
  {
   "cell_type": "markdown",
   "metadata": {},
   "source": [
    "### SAT Practice Questions\n",
    "\n",
    "![img](/home/kkcbal/vscode/madeacopy/images/sat.jpg)\n",
    "\n",
    "One of the projects I saw at Night at the Museum was a website for practice SAT questions. There was a quiz with 5 randomly generated questions to answer. Each question was mulitple choice and would give immediate feedback which choice was correct. On click, the correct answer would change to correct, and the incorrect answers would change to incorrect. At the bottom of the page, it would give you your total score. The quiz could be done again by refreshing the page and each time you'll get a different set of answers. Each question doesn't give you an indication on if you got it right or wrong. After picking your answer each choice will change to right or wrong but there's no color indication or bold on the answer you picked. This is not a huge problem but if you forgot which answer you picked then it can be a little troubling. This is a little nit pick but I don't really like how the choices disappear after you pick one. Since they change to \"correct\" or \"incorrect,\" if you got it wrong you don't get a chance afterward to find out what the correct answer is. I'm sure there was much more to this project but I wasn't there for the whole presentation. "
   ]
  },
  {
   "cell_type": "markdown",
   "metadata": {},
   "source": [
    "### Work Watch\n",
    "\n",
    "![Work Watch](/home/kkcbal/vscode/madeacopy/images/workwatch.jpg)\n",
    "\n",
    "This was my friend's project. It's a stopwatch that helps you manage your assignments. You can set 5 tasks, giving each a name and how long they'll take, and how often and long you want your breaks to be. There's other bells and whistles to it for comfort of life. I believe there's an alarm that goes of for each event. for breaks starting and ending, and tasks ending. There's also a chart for each of the alarms. There's a full list of each alarm and you can vote on which alarm you like. The alarm with the highest likes (and dislikes may be taken into account) will be set to the alarm on the watch. You can't change the alarm yourself, at least not to my knowledge. "
   ]
  },
  {
   "cell_type": "markdown",
   "metadata": {},
   "source": [
    "## My Project Ideas for Next Trimester"
   ]
  },
  {
   "cell_type": "markdown",
   "metadata": {},
   "source": [
    "I don't have many ideas on what to do next trimester. I saw that the group behind me was doing games for their project. I think that's really cool and I also want to do something like that. I didn't see the actual games, but I saw tetris and snake on their main.py file. I was also working on an rpg game as a personal project. It was a text rpg and was only the battle part of an rpg but that would be cool for a project. Making a game for a project would be fun. "
   ]
  },
  {
   "cell_type": "markdown",
   "metadata": {},
   "source": [
    "## Missed Questions on Test"
   ]
  },
  {
   "cell_type": "markdown",
   "metadata": {},
   "source": [
    "There were two questions I got wrong on the Final."
   ]
  },
  {
   "cell_type": "markdown",
   "metadata": {},
   "source": [
    "**Which of the following are true statements about the data that can be represented using binary sequences?**\n",
    "\n",
    "1. Binary sequences can be used to represent strings of characters.  \n",
    "2. Binary sequences can be used to represent colors.  \n",
    "3. Binary sequences can be used to represent audio recordings.  \n",
    "\n",
    "This was the first question I got wrong. I think I chose 1 and 2 but the answer was 1, 2, and 3. Honestly I don't know anything about binary, I don't remember learning anything about it in class. I ended up figuring out most of the questions about binary, but something like this is hard to figure out without background knowledge. "
   ]
  },
  {
   "cell_type": "markdown",
   "metadata": {},
   "source": [
    "**The position of a runner in a race is a type of analog data. The runner’s position is tracked using sensors. Which of the following best describes how the position of the runner is represented digitally?**\n",
    "\n",
    "1. The position of the runner is determined by calculating the time difference between the start and the end of the race and making an estimation based on the runner’s average speed.  \n",
    "2. The position of the runner is measured and rounded to either 0 or 1 depending on whether the runner is closer to the starting line or closer to the finish line.  \n",
    "3. The position of the runner is predicted using a model based on performance data captured from previous races.  \n",
    "4. The position of the runner is sampled at regular intervals to approximate the real-word position, and a sequence of bits is used to represent each sample  \n",
    "\n",
    "I understand it now. At first, this didn't really make sense to me. I chose 1 and the answer was 4. I actually knew the answer was 4 while doing this question, but didn't know that it was the answer. I knew that the sensors would be periodic around the track, but I thought that 1 would calculate the time difference between each sensor. Also, the second half of 4 confused me, I have no idea what that means. I also don't know what analog data is. Basically, I thought the answer was part of the question, and got it wrong."
   ]
  }
 ],
 "metadata": {
  "kernelspec": {
   "display_name": "Python 3.9.12 ('base')",
   "language": "python",
   "name": "python3"
  },
  "language_info": {
   "name": "python",
   "version": "3.9.12"
  },
  "orig_nbformat": 4,
  "vscode": {
   "interpreter": {
    "hash": "6ccb6558ef2ee8ddcd1889f8d547b1546f932296c7f2f80f67fdee00b5700eff"
   }
  }
 },
 "nbformat": 4,
 "nbformat_minor": 2
}
