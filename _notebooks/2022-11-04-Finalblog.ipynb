{
 "cells": [
  {
   "cell_type": "markdown",
   "metadata": {},
   "source": [
    "# Final Blog\n",
    "> A blog for the Night at the Museum findings and missed test questions on the final\n",
    "\n",
    "- toc: true"
   ]
  },
  {
   "cell_type": "markdown",
   "metadata": {},
   "source": [
    "## Night at the Museum"
   ]
  },
  {
   "cell_type": "markdown",
   "metadata": {},
   "source": [
    "### SAT Practice Questions\n",
    "\n",
    "[INSERT IMAGE]\n",
    "\n",
    "One of the projects I saw at Night at the Museum was a website for practice SAT questions. There was a quiz with 5 randomly generated questions to answer. Each question was mulitple choice and would give immediate feedback which choice was correct. On click, the correct answer would change to correct, and the incorrect answers would change to incorrect. At the bottom of the page, it would give you your total score. The quiz could be done again by refreshing the page and each time you'll get a different set of answers. Each question doesn't give you an indication on if you got it right or wrong. After picking your answer each choice will change to right or wrong but there's no color indication or bold on the answer you picked. This is not a huge problem but if you forgot which answer you picked then it can be a little troubling. This is a little nit pick but I don't really like how the choices disappear after you pick one. Since they change to \"correct\" or \"incorrect,\" if you got it wrong you don't get a chance afterward to find out what the correct answer is. I'm sure there was much more to this project but I wasn't there for the whole presentation. "
   ]
  },
  {
   "cell_type": "markdown",
   "metadata": {},
   "source": [
    "### Work Watch\n",
    "\n",
    "[INSERT IMAGE]\n",
    "\n",
    "This was my friend's project. It's a stopwatch that helps you manage your assignments. You can set 5 tasks, giving each a name and how long they'll take, and how often and long you want your breaks to be. There's other bells and whistles to it for comfort of life. I believe there's an alarm that goes of for each event. for breaks starting and ending, and tasks ending. There's also a chart for each of the alarms. There's a full list of each alarm and you can vote on which alarm you like. The alarm with the highest likes (and dislikes may be taken into account) will be set to the alarm on the watch. You can't change the alarm yourself, at least not to my knowledge. "
   ]
  },
  {
   "cell_type": "markdown",
   "metadata": {},
   "source": [
    "## My Project Ideas for Next Trimester"
   ]
  },
  {
   "cell_type": "markdown",
   "metadata": {},
   "source": [
    "I don't have many ideas on what to do next trimester. I saw that the group behind me was doing games for their project. I think that's really cool and I also want to do something like that. I didn't see the actual games, but I saw tetris and snake on their main.py file. I was also working on an rpg game as a personal project. It was a text rpg and was only the battle part of an rpg but that would be cool for a project. Making a game for a project would be fun. "
   ]
  },
  {
   "cell_type": "markdown",
   "metadata": {},
   "source": [
    "## Missed Questions on Test"
   ]
  },
  {
   "cell_type": "markdown",
   "metadata": {},
   "source": [
    "This will be done once I actually do the test"
   ]
  }
 ],
 "metadata": {
  "kernelspec": {
   "display_name": "Python 3.9.12 ('base')",
   "language": "python",
   "name": "python3"
  },
  "language_info": {
   "name": "python",
   "version": "3.9.12"
  },
  "orig_nbformat": 4,
  "vscode": {
   "interpreter": {
    "hash": "6ccb6558ef2ee8ddcd1889f8d547b1546f932296c7f2f80f67fdee00b5700eff"
   }
  }
 },
 "nbformat": 4,
 "nbformat_minor": 2
}
