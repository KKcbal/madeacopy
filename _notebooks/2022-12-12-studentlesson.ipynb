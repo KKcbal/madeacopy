{
 "cells": [
  {
   "attachments": {},
   "cell_type": "markdown",
   "metadata": {},
   "source": [
    "# student lesson\n",
    "> student lesson 12/12/22"
   ]
  },
  {
   "attachments": {},
   "cell_type": "markdown",
   "metadata": {},
   "source": [
    "https://replit.com/@k0kcbal/TartIllfatedCosmos#main.py"
   ]
  },
  {
   "cell_type": "code",
   "execution_count": 3,
   "metadata": {},
   "outputs": [
    {
     "data": {
      "text/plain": [
       "1670885602.4357347"
      ]
     },
     "execution_count": 3,
     "metadata": {},
     "output_type": "execute_result"
    }
   ],
   "source": [
    "from time import time\n",
    "\n",
    "time()"
   ]
  },
  {
   "cell_type": "code",
   "execution_count": null,
   "metadata": {},
   "outputs": [],
   "source": [
    "from turtle import *\n",
    "oogway = Turtle()"
   ]
  },
  {
   "cell_type": "code",
   "execution_count": 5,
   "metadata": {},
   "outputs": [
    {
     "data": {
      "text/plain": [
       "11"
      ]
     },
     "execution_count": 5,
     "metadata": {},
     "output_type": "execute_result"
    }
   ],
   "source": [
    "from math import ceil\n",
    "\n",
    "ceil(10.4)"
   ]
  },
  {
   "cell_type": "code",
   "execution_count": 69,
   "metadata": {},
   "outputs": [
    {
     "name": "stdout",
     "output_type": "stream",
     "text": [
      "heads\n"
     ]
    }
   ],
   "source": [
    "import random\n",
    "\n",
    "def coinflip():\n",
    "    roi = random.randrange(2)\n",
    "    if roi == 0: print(\"tails\")\n",
    "    else: print(\"heads\")\n",
    "\n",
    "coinflip()"
   ]
  },
  {
   "cell_type": "code",
   "execution_count": 87,
   "metadata": {},
   "outputs": [
    {
     "name": "stdout",
     "output_type": "stream",
     "text": [
      "[['hearts', 'ace'], ['hearts', '2'], ['hearts', '3'], ['hearts', '4'], ['hearts', '5'], ['hearts', '6'], ['hearts', '7'], ['hearts', '8'], ['hearts', '9'], ['hearts', '10'], ['hearts', 'jack'], ['hearts', 'queen'], ['hearts', 'king'], ['clubs', 'ace'], ['clubs', '2'], ['clubs', '3'], ['clubs', '4'], ['clubs', '5'], ['clubs', '6'], ['clubs', '7'], ['clubs', '8'], ['clubs', '9'], ['clubs', '10'], ['clubs', 'jack'], ['clubs', 'queen'], ['clubs', 'king'], ['spades', 'ace'], ['spades', '2'], ['spades', '3'], ['spades', '4'], ['spades', '5'], ['spades', '6'], ['spades', '7'], ['spades', '8'], ['spades', '9'], ['spades', '10'], ['spades', 'jack'], ['spades', 'queen'], ['spades', 'king'], ['diamonds', 'ace'], ['diamonds', '2'], ['diamonds', '3'], ['diamonds', '4'], ['diamonds', '5'], ['diamonds', '6'], ['diamonds', '7'], ['diamonds', '8'], ['diamonds', '9'], ['diamonds', '10'], ['diamonds', 'jack'], ['diamonds', 'queen'], ['diamonds', 'king']]\n",
      "52\n",
      "[['clubs', 'ace'], ['clubs', 'jack'], ['clubs', 'queen'], ['clubs', 'king'], ['clubs', '10']]\n",
      "False\n",
      "False\n",
      "False\n",
      "False\n",
      "False\n",
      "True\n"
     ]
    }
   ],
   "source": [
    "i = 0\n",
    "deck = []\n",
    "hand = [['clubs', 'ace'], ['clubs', 'jack'], ['clubs', 'queen'], ['clubs', 'king'], ['clubs', '10']]\n",
    "flush = ['10', 'jack', 'queen', 'king', 'ace']\n",
    "r = False\n",
    "o = False\n",
    "y = False\n",
    "a = False\n",
    "l = False\n",
    "f = False\n",
    "for n in [\"hearts\", \"clubs\", \"spades\", \"diamonds\"]:\n",
    "    for c in [\"ace\", \"2\", \"3\", \"4\", \"5\", \"6\", \"7\", \"8\", \"9\", \"10\", \"jack\", \"queen\", \"king\"]:\n",
    "        deck.append([n, c])\n",
    "\n",
    "print(deck)\n",
    "print(len(deck))\n",
    "#while i < 5:\n",
    "#    t = random.randrange(len(deck))\n",
    "#    hand.append(deck[t])\n",
    "#    i += 1\n",
    "print(hand)\n",
    "for n, c in hand:\n",
    "    for j in flush:\n",
    "        if c == j:  # something wrong right here\n",
    "            if r == True:\n",
    "                if o == True:\n",
    "                    if y == True:\n",
    "                        if a == True:\n",
    "                            l = True\n",
    "                        else:\n",
    "                            a = True\n",
    "                    else:\n",
    "                        y = True\n",
    "                else:\n",
    "                    o = True\n",
    "            else:\n",
    "                r == True\n",
    "    if hand[0][0] == hand[1][0] and hand[2][0] and hand[3][0] and hand[4][0]:\n",
    "        f = True\n",
    "if r and o and y and a and l and f:\n",
    "    print(\"royal flush\")\n",
    "print(r)\n",
    "print(o)\n",
    "print(y)\n",
    "print(a)\n",
    "print(l)\n",
    "print(f)"
   ]
  },
  {
   "attachments": {},
   "cell_type": "markdown",
   "metadata": {},
   "source": [
    "Something went wrong in the code above and I don't know what. In the area that I marked above, it's supposed to compare the hand to a royal flush, and if their the same, it changes a variable from false to true. I made the hand a royal flush to test if it works. Some sort of error happens when it's comparing the hand and a royal flush and it never changes the variables to true. There's some hinted code that I made a hint so that it wouldn't interfere with my tests, the code makes the hand random. "
   ]
  }
 ],
 "metadata": {
  "kernelspec": {
   "display_name": "base",
   "language": "python",
   "name": "python3"
  },
  "language_info": {
   "codemirror_mode": {
    "name": "ipython",
    "version": 3
   },
   "file_extension": ".py",
   "mimetype": "text/x-python",
   "name": "python",
   "nbconvert_exporter": "python",
   "pygments_lexer": "ipython3",
   "version": "3.9.12 (main, Apr  5 2022, 06:56:58) \n[GCC 7.5.0]"
  },
  "orig_nbformat": 4,
  "vscode": {
   "interpreter": {
    "hash": "6ccb6558ef2ee8ddcd1889f8d547b1546f932296c7f2f80f67fdee00b5700eff"
   }
  }
 },
 "nbformat": 4,
 "nbformat_minor": 2
}
