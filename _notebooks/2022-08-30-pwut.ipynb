{
 "cells": [
  {
   "cell_type": "markdown",
   "metadata": {},
   "source": [
    "a type is code that holds different kinds of data like strings."
   ]
  },
  {
   "cell_type": "code",
   "execution_count": 4,
   "metadata": {},
   "outputs": [
    {
     "name": "stdout",
     "output_type": "stream",
     "text": [
      "What is the variable name/key? value? type? primitive or collection, why?\n",
      "name John Doe <class 'str'>\n",
      "\n",
      "What is the variable name/key? value? type? primitive or collection, why?\n",
      "age 18 <class 'int'>\n",
      "\n",
      "What is the variable name/key? value? type? primitive or collection, why?\n",
      "score 90.0 <class 'float'>\n",
      "\n",
      "What is variable name/key? value? type? primitive or collection?\n",
      "What is different about the list output?\n",
      "langs ['Python', 'JavaScript', 'Java', 'Bash'] <class 'list'> length 4\n",
      "- langs[2] Java <class 'str'>\n",
      "\n",
      "What is the variable name/key? value? type? primitive or collection, why?\n",
      "What is different about the dictionary output?\n",
      "person {'name': 'John Doe', 'age': 18, 'score': 90.0, 'langs': ['Python', 'JavaScript', 'Java', 'Bash']} <class 'dict'> length 4\n",
      "- person[\"name\"] John Doe <class 'str'>\n"
     ]
    }
   ],
   "source": [
    "# Sample of Python Variables\n",
    "\n",
    "# variable of type string\n",
    "print(\"What is the variable name/key?\", \"value?\", \"type?\", \"primitive or collection, why?\")\n",
    "name = \"John Doe\"\n",
    "print(\"name\", name, type(name))\n",
    "\n",
    "print()\n",
    "\n",
    "\n",
    "# variable of type integer\n",
    "print(\"What is the variable name/key?\", \"value?\", \"type?\", \"primitive or collection, why?\")\n",
    "age = 18\n",
    "print(\"age\", age, type(age))\n",
    "\n",
    "print()\n",
    "\n",
    "# variable of type float\n",
    "print(\"What is the variable name/key?\", \"value?\", \"type?\", \"primitive or collection, why?\")\n",
    "score = 90.0\n",
    "print(\"score\", score, type(score))\n",
    "\n",
    "print()\n",
    "\n",
    "# variable of type list (many values in one variable)\n",
    "print(\"What is variable name/key?\", \"value?\", \"type?\", \"primitive or collection?\")\n",
    "print(\"What is different about the list output?\")\n",
    "langs = [\"Python\", \"JavaScript\", \"Java\", \"Bash\"]\n",
    "print(\"langs\", langs, type(langs), \"length\", len(langs))\n",
    "print(\"- langs[2]\", langs[2], type(langs[2]))\n",
    "\n",
    "print()\n",
    "\n",
    "# variable of type dictionary (a group of keys and values)\n",
    "print(\"What is the variable name/key?\", \"value?\", \"type?\", \"primitive or collection, why?\")\n",
    "print(\"What is different about the dictionary output?\")\n",
    "person = {\n",
    "    \"name\": name,\n",
    "    \"age\": age,\n",
    "    \"score\": score,\n",
    "    \"langs\": langs\n",
    "}\n",
    "print(\"person\", person, type(person), \"length\", len(person))\n",
    "print('- person[\"name\"]', person[\"name\"], type(person[\"name\"]))\n"
   ]
  },
  {
   "cell_type": "markdown",
   "metadata": {},
   "source": [
    "In this code, the key is name, the value is John Doe, and the type is string\n",
    "in the second line, the key is age, the value is 18, and the type is integer\n",
    "in the third lin, the key is score, the value is 90.0, and the type is floating\n",
    "in the fourth line, the type is list. a list uses brackets\n",
    "in the fifth line, the type is dictionary. a dictionary uses curly brackets\n",
    "\n",
    ".append adds to a list. ex: langs.append (\"bash\") would add bash to the langs list"
   ]
  },
  {
   "cell_type": "code",
   "execution_count": 9,
   "metadata": {},
   "outputs": [
    {
     "name": "stdout",
     "output_type": "stream",
     "text": [
      "[{'FirstName': 'John', 'LastName': 'Mortensen', 'DOB': 'October 21', 'Residence': 'San Diego', 'Email': 'jmortensen@powayusd.com', 'Owns_Cars': ['2015-Fusion', '2011-Ranger', '2003-Excursion', '1997-F350', '1969-Cadillac']}, {'FirstName': 'Sunny', 'LastName': 'Naidu', 'DOB': 'August 2', 'Residence': 'Temecula', 'Email': 'snaidu@powayusd.com', 'Owns_Cars': ['4Runner']}, {'FirstName': 'AJ', 'LastName': 'Ruiz', 'DOB': 'May 18', 'Residence': 'San Diego', 'Email': 'ajruizrocks2006@gmail.com', 'Own_Cars': ['None', 'None']}]\n"
     ]
    }
   ],
   "source": [
    "# Define an empty List called InfoDb\n",
    "InfoDb = []\n",
    "\n",
    "# InfoDB is a data structure with expected Keys and Values\n",
    "\n",
    "# Append to List a Dictionary of key/values related to a person and cars\n",
    "InfoDb.append({\n",
    "    \"FirstName\": \"John\",\n",
    "    \"LastName\": \"Mortensen\",\n",
    "    \"DOB\": \"October 21\",\n",
    "    \"Residence\": \"San Diego\",\n",
    "    \"Email\": \"jmortensen@powayusd.com\",\n",
    "    \"Owns_Cars\": [\"2015-Fusion\", \"2011-Ranger\", \"2003-Excursion\", \"1997-F350\", \"1969-Cadillac\"]\n",
    "})\n",
    "\n",
    "# Append to List a 2nd Dictionary of key/values\n",
    "InfoDb.append({\n",
    "    \"FirstName\": \"Sunny\",\n",
    "    \"LastName\": \"Naidu\",\n",
    "    \"DOB\": \"August 2\",\n",
    "    \"Residence\": \"Temecula\",\n",
    "    \"Email\": \"snaidu@powayusd.com\",\n",
    "    \"Owns_Cars\": [\"4Runner\"]\n",
    "})\n",
    "\n",
    "InfoDb.append({\n",
    "    \"FirstName\": \"AJ\",\n",
    "    \"LastName\": \"Ruiz\",\n",
    "    \"DOB\": \"May 18\",\n",
    "    \"Residence\": \"San Diego\",\n",
    "    \"Email\": \"ajruizrocks2006@gmail.com\",\n",
    "    \"Own_Cars\": [\"None\", \"None\"]\n",
    "})\n",
    "\n",
    "# Print the data structure\n",
    "print(InfoDb)"
   ]
  },
  {
   "cell_type": "code",
   "execution_count": 10,
   "metadata": {},
   "outputs": [
    {
     "name": "stdout",
     "output_type": "stream",
     "text": [
      "For loop output\n",
      "\n",
      "John Mortensen\n",
      "\t Residence: San Diego\n",
      "\t Birth Day: October 21\n",
      "\t Cars: 2015-Fusion, 2011-Ranger, 2003-Excursion, 1997-F350, 1969-Cadillac\n",
      "\n",
      "Sunny Naidu\n",
      "\t Residence: Temecula\n",
      "\t Birth Day: August 2\n",
      "\t Cars: 4Runner\n",
      "\n",
      "AJ Ruiz\n",
      "\t Residence: San Diego\n",
      "\t Birth Day: May 18\n",
      "\t Cars: "
     ]
    },
    {
     "ename": "KeyError",
     "evalue": "'Owns_Cars'",
     "output_type": "error",
     "traceback": [
      "\u001b[0;31m---------------------------------------------------------------------------\u001b[0m",
      "\u001b[0;31mKeyError\u001b[0m                                  Traceback (most recent call last)",
      "\u001b[1;32m/home/kkcbal/vscode/madeacopy/_notebooks/2022-08-30-pwut.ipynb Cell 5\u001b[0m in \u001b[0;36m<cell line: 19>\u001b[0;34m()\u001b[0m\n\u001b[1;32m     <a href='vscode-notebook-cell://wsl%2Bubuntu/home/kkcbal/vscode/madeacopy/_notebooks/2022-08-30-pwut.ipynb#W6sdnNjb2RlLXJlbW90ZQ%3D%3D?line=15'>16</a>\u001b[0m     \u001b[39mfor\u001b[39;00m record \u001b[39min\u001b[39;00m InfoDb:\n\u001b[1;32m     <a href='vscode-notebook-cell://wsl%2Bubuntu/home/kkcbal/vscode/madeacopy/_notebooks/2022-08-30-pwut.ipynb#W6sdnNjb2RlLXJlbW90ZQ%3D%3D?line=16'>17</a>\u001b[0m         print_data(record)\n\u001b[0;32m---> <a href='vscode-notebook-cell://wsl%2Bubuntu/home/kkcbal/vscode/madeacopy/_notebooks/2022-08-30-pwut.ipynb#W6sdnNjb2RlLXJlbW90ZQ%3D%3D?line=18'>19</a>\u001b[0m for_loop()\n",
      "\u001b[1;32m/home/kkcbal/vscode/madeacopy/_notebooks/2022-08-30-pwut.ipynb Cell 5\u001b[0m in \u001b[0;36mfor_loop\u001b[0;34m()\u001b[0m\n\u001b[1;32m     <a href='vscode-notebook-cell://wsl%2Bubuntu/home/kkcbal/vscode/madeacopy/_notebooks/2022-08-30-pwut.ipynb#W6sdnNjb2RlLXJlbW90ZQ%3D%3D?line=14'>15</a>\u001b[0m \u001b[39mprint\u001b[39m(\u001b[39m\"\u001b[39m\u001b[39mFor loop output\u001b[39m\u001b[39m\\n\u001b[39;00m\u001b[39m\"\u001b[39m)\n\u001b[1;32m     <a href='vscode-notebook-cell://wsl%2Bubuntu/home/kkcbal/vscode/madeacopy/_notebooks/2022-08-30-pwut.ipynb#W6sdnNjb2RlLXJlbW90ZQ%3D%3D?line=15'>16</a>\u001b[0m \u001b[39mfor\u001b[39;00m record \u001b[39min\u001b[39;00m InfoDb:\n\u001b[0;32m---> <a href='vscode-notebook-cell://wsl%2Bubuntu/home/kkcbal/vscode/madeacopy/_notebooks/2022-08-30-pwut.ipynb#W6sdnNjb2RlLXJlbW90ZQ%3D%3D?line=16'>17</a>\u001b[0m     print_data(record)\n",
      "\u001b[1;32m/home/kkcbal/vscode/madeacopy/_notebooks/2022-08-30-pwut.ipynb Cell 5\u001b[0m in \u001b[0;36mprint_data\u001b[0;34m(d_rec)\u001b[0m\n\u001b[1;32m      <a href='vscode-notebook-cell://wsl%2Bubuntu/home/kkcbal/vscode/madeacopy/_notebooks/2022-08-30-pwut.ipynb#W6sdnNjb2RlLXJlbW90ZQ%3D%3D?line=6'>7</a>\u001b[0m \u001b[39mprint\u001b[39m(\u001b[39m\"\u001b[39m\u001b[39m\\t\u001b[39;00m\u001b[39m\"\u001b[39m, \u001b[39m\"\u001b[39m\u001b[39mBirth Day:\u001b[39m\u001b[39m\"\u001b[39m, d_rec[\u001b[39m\"\u001b[39m\u001b[39mDOB\u001b[39m\u001b[39m\"\u001b[39m])\n\u001b[1;32m      <a href='vscode-notebook-cell://wsl%2Bubuntu/home/kkcbal/vscode/madeacopy/_notebooks/2022-08-30-pwut.ipynb#W6sdnNjb2RlLXJlbW90ZQ%3D%3D?line=7'>8</a>\u001b[0m \u001b[39mprint\u001b[39m(\u001b[39m\"\u001b[39m\u001b[39m\\t\u001b[39;00m\u001b[39m\"\u001b[39m, \u001b[39m\"\u001b[39m\u001b[39mCars: \u001b[39m\u001b[39m\"\u001b[39m, end\u001b[39m=\u001b[39m\u001b[39m\"\u001b[39m\u001b[39m\"\u001b[39m)  \u001b[39m# end=\"\" make sure no return occurs\u001b[39;00m\n\u001b[0;32m----> <a href='vscode-notebook-cell://wsl%2Bubuntu/home/kkcbal/vscode/madeacopy/_notebooks/2022-08-30-pwut.ipynb#W6sdnNjb2RlLXJlbW90ZQ%3D%3D?line=8'>9</a>\u001b[0m \u001b[39mprint\u001b[39m(\u001b[39m\"\u001b[39m\u001b[39m, \u001b[39m\u001b[39m\"\u001b[39m\u001b[39m.\u001b[39mjoin(d_rec[\u001b[39m\"\u001b[39;49m\u001b[39mOwns_Cars\u001b[39;49m\u001b[39m\"\u001b[39;49m]))  \u001b[39m# join allows printing a string list with separator\u001b[39;00m\n\u001b[1;32m     <a href='vscode-notebook-cell://wsl%2Bubuntu/home/kkcbal/vscode/madeacopy/_notebooks/2022-08-30-pwut.ipynb#W6sdnNjb2RlLXJlbW90ZQ%3D%3D?line=9'>10</a>\u001b[0m \u001b[39mprint\u001b[39m()\n",
      "\u001b[0;31mKeyError\u001b[0m: 'Owns_Cars'"
     ]
    }
   ],
   "source": [
    "# This jupyter cell has dependencies on one or more cells above\n",
    "\n",
    "# print function: given a dictionary of InfoDb content\n",
    "def print_data(d_rec):\n",
    "    print(d_rec[\"FirstName\"], d_rec[\"LastName\"])  # using comma puts space between values\n",
    "    print(\"\\t\", \"Residence:\", d_rec[\"Residence\"]) # \\t is a tab indent\n",
    "    print(\"\\t\", \"Birth Day:\", d_rec[\"DOB\"])\n",
    "    print(\"\\t\", \"Cars: \", end=\"\")  # end=\"\" make sure no return occurs\n",
    "    print(\", \".join(d_rec[\"Owns_Cars\"]))  # join allows printing a string list with separator\n",
    "    print()\n",
    "\n",
    "\n",
    "# for loop algorithm iterates on length of InfoDb\n",
    "def for_loop():\n",
    "    print(\"For loop output\\n\")\n",
    "    for record in InfoDb:\n",
    "        print_data(record)\n",
    "\n",
    "for_loop()"
   ]
  },
  {
   "cell_type": "code",
   "execution_count": 25,
   "metadata": {},
   "outputs": [
    {
     "name": "stdout",
     "output_type": "stream",
     "text": [
      "['men', 14, 'message']\n",
      "['list1', 'list2', 'list3', 'list4']\n",
      "list1\n",
      "list2 contains strings, list1 contains variables and numbers too.\n",
      "['men', 14, 'message', 'My input']\n"
     ]
    }
   ],
   "source": [
    "msg = (\"message\")\n",
    "List = [\"men\", 14, msg]\n",
    "listTwo = [\"list1\", \"list2\", \"list3\"]\n",
    "print(List)\n",
    "listTwo.append (\"list4\")\n",
    "print(listTwo)\n",
    "print(listTwo[0])\n",
    "\n",
    "print(listTwo[1] + \" contains strings, \" + listTwo[0] + \" contains variables and numbers too.\")\n",
    "\n",
    "UserInput = input(\"Add ___ to list1: \")\n",
    "List.append (UserInput)\n",
    "print(List)"
   ]
  }
 ],
 "metadata": {
  "kernelspec": {
   "display_name": "Python 3.8.10 64-bit",
   "language": "python",
   "name": "python3"
  },
  "language_info": {
   "codemirror_mode": {
    "name": "ipython",
    "version": 3
   },
   "file_extension": ".py",
   "mimetype": "text/x-python",
   "name": "python",
   "nbconvert_exporter": "python",
   "pygments_lexer": "ipython3",
   "version": "3.8.10"
  },
  "orig_nbformat": 4,
  "vscode": {
   "interpreter": {
    "hash": "916dbcbb3f70747c44a77c7bcd40155683ae19c65e1c03b4aa3499c5328201f1"
   }
  }
 },
 "nbformat": 4,
 "nbformat_minor": 2
}
