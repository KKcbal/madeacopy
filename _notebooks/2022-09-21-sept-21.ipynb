{
 "cells": [
  {
   "cell_type": "markdown",
   "metadata": {},
   "source": [
    "# 21 September Notes\n",
    "\n",
    "- categories: notes"
   ]
  },
  {
   "cell_type": "markdown",
   "metadata": {},
   "source": [
    "We're doing stuff with javascript today. the apcsp repository in vscode glitched out and I can't sync it. I can't reclone it because it says that apcsp already exists. the javascript stuff didnt work although i checked through powershell and it said I had it installed. tests shall comence "
   ]
  },
  {
   "cell_type": "code",
   "execution_count": 1,
   "metadata": {},
   "outputs": [
    {
     "name": "stdout",
     "output_type": "stream",
     "text": [
      "hello\n"
     ]
    }
   ],
   "source": [
    "var msg = \"hello\";\n",
    "console.log(msg);"
   ]
  },
  {
   "cell_type": "markdown",
   "metadata": {},
   "source": [
    "The kernel is not working. I can not find any errors through powershell. Maybe vscode is just glitching out at the moment. I installed extensions through vscode for javascript"
   ]
  },
  {
   "cell_type": "code",
   "execution_count": 2,
   "metadata": {},
   "outputs": [
    {
     "name": "stdout",
     "output_type": "stream",
     "text": [
      "hello\n"
     ]
    }
   ],
   "source": [
    "function logIt(output) {\n",
    "    console.log(output)\n",
    "}\n",
    "logIt(msg)"
   ]
  },
  {
   "cell_type": "markdown",
   "metadata": {},
   "source": [
    "function is used to define a function. logit is the name for the function. output can be used as a variable for what's placed inside the parenthesis when executing the function. "
   ]
  },
  {
   "cell_type": "code",
   "execution_count": 8,
   "metadata": {},
   "outputs": [
    {
     "name": "stdout",
     "output_type": "stream",
     "text": [
      "string ; hello\n",
      "number ; 2022\n",
      "object ; [ 1, 2, 3 ]\n"
     ]
    }
   ],
   "source": [
    "function logItType(output) {\n",
    "    console.log(typeof output, \";\", output)\n",
    "}\n",
    "\n",
    "logit(\"hello\")\n",
    "logit(2022)\n",
    "logit([1, 2, 3])"
   ]
  },
  {
   "cell_type": "code",
   "execution_count": 23,
   "metadata": {},
   "outputs": [
    {
     "name": "stdout",
     "output_type": "stream",
     "text": [
      "object ; Person { Name: 'joe', HP: 2, ATK: 3, Role: '' }\n",
      "string ; {\"name\":\"joe\",\"hp\":2,\"atk\":3,\"role\":\"\"}\n",
      "object ; Person { Name: 'joe', HP: 2, ATK: 3, Role: 'Swordsman' }\n",
      "string ; {\"name\":\"joe\",\"hp\":2,\"atk\":3,\"role\":\"Swordsman\"}\n"
     ]
    }
   ],
   "source": [
    "function Person(name, hp, atk) {\n",
    "    this.Name = name;\n",
    "    this.HP = hp;\n",
    "    this.ATK = atk;\n",
    "    this.Role = \"\";\n",
    "}\n",
    "\n",
    "Person.prototype.setRole = function(role) {\n",
    "    this.Role = role;\n",
    "}\n",
    "\n",
    "Person.prototype.toJSON = function() {\n",
    "    const obj = {name: this.Name, hp: this.HP, atk: this.ATK, role: this.Role};\n",
    "    const json = JSON.stringify(obj);\n",
    "    return json;\n",
    "}\n",
    "\n",
    "var sword = new Person(\"joe\", 2, 3);\n",
    "logItType(sword);\n",
    "logItType(sword.toJSON());\n",
    "\n",
    "sword.setRole(\"Swordsman\");\n",
    "logItType(sword)\n",
    "logItType(sword.toJSON())"
   ]
  },
  {
   "cell_type": "code",
   "execution_count": 26,
   "metadata": {},
   "outputs": [
    {
     "name": "stdout",
     "output_type": "stream",
     "text": [
      "object ; [ Person { Name: 'joe', HP: 2, ATK: 3, Role: 'Swordsman' },\n",
      "  Person { Name: 'Nate', HP: 10, ATK: 10, Role: 'Soldier' },\n",
      "  Person { Name: 'Igor', HP: 13, ATK: 14, Role: 'Soldier' },\n",
      "  Person { Name: 'Greg', HP: 4, ATK: 3, Role: 'Soldier' },\n",
      "  Person { Name: 'Gilligan', HP: 25, ATK: 27, Role: 'Soldier' },\n",
      "  Person { Name: 'Elliot', HP: 9, ATK: 11, Role: 'Soldier' },\n",
      "  Person { Name: 'Rob', HP: 12, ATK: 10, Role: 'Soldier' } ]\n",
      "string ; joe\n"
     ]
    }
   ],
   "source": [
    "var army = [\n",
    "    new Person(\"Nate\", 10, 10),\n",
    "    new Person(\"Igor\", 13, 14),\n",
    "    new Person(\"Greg\", 4, 3),\n",
    "    new Person(\"Gilligan\", 25, 27),\n",
    "    new Person(\"Elliot\", 9, 11),\n",
    "    new Person(\"Rob\", 12, 10)\n",
    "];\n",
    "\n",
    "function Military(sword, army) {\n",
    "    sword.setRole(\"Swordsman\");\n",
    "    this.Sword = sword;\n",
    "    this.Military = [sword];\n",
    "    this.army = army;\n",
    "    this.army.forEach(army => { army.setRole(\"Soldier\"); this.Military.push(army); });\n",
    "    this.json = [];\n",
    "    this.Military.forEach(person => this.json.push(person.toJSON()));\n",
    "\n",
    "}\n",
    "\n",
    "sec9 = new Military(sword, army)\n",
    "logItType(sec9.Military);\n",
    "logItType(sec9.Military[0].Name);"
   ]
  },
  {
   "cell_type": "markdown",
   "metadata": {},
   "source": [
    "a conversion to JSON is needed for the js code to be displayed through ._toHtml"
   ]
  },
  {
   "cell_type": "code",
   "execution_count": 35,
   "metadata": {},
   "outputs": [
    {
     "data": {
      "text/html": [
       "<div style='display:inline-block;border: 2px solid grey;box-shadow: 0.8em 0.4em 0.4em grey;'><table><tr><th><mark>Name</mark></th><th><mark>HP</mark></th><th><mark>ATK</mark></th><th><mark>Role</mark></th></tr><tr><td>joe</td><td>2</td><td>3</td><td>Swordsman</td><tr><tr><td>Nate</td><td>10</td><td>10</td><td>Soldier</td><tr><tr><td>Igor</td><td>13</td><td>14</td><td>Soldier</td><tr><tr><td>Greg</td><td>4</td><td>3</td><td>Soldier</td><tr><tr><td>Gilligan</td><td>25</td><td>27</td><td>Soldier</td><tr><tr><td>Elliot</td><td>9</td><td>11</td><td>Soldier</td><tr><tr><td>Rob</td><td>12</td><td>10</td><td>Soldier</td><tr></table></div>"
      ]
     },
     "execution_count": 35,
     "metadata": {},
     "output_type": "execute_result"
    }
   ],
   "source": [
    "Military.prototype._toHtml = function() {\n",
    "    var style = (\n",
    "        \"display:inline-block;\" +\n",
    "        \"border: 2px solid grey;\" +\n",
    "        \"box-shadow: 0.8em 0.4em 0.4em grey;\"\n",
    "    );\n",
    "\n",
    "    var body = \"\";\n",
    "    body += \"<tr>\";\n",
    "    body += \"<th><mark>\" + \"Name\" + \"</mark></th>\";\n",
    "    body += \"<th><mark>\" + \"HP\" + \"</mark></th>\";\n",
    "    body += \"<th><mark>\" + \"ATK\" + \"</mark></th>\";\n",
    "    body += \"<th><mark>\" + \"Role\" + \"</mark></th>\";\n",
    "    body += \"</tr>\";\n",
    "\n",
    "    for (var row of sec9.Military) {\n",
    "        body += \"<tr>\";\n",
    "        body += \"<td>\" + row.Name + \"</td>\";\n",
    "        body += \"<td>\" + row.HP + \"</td>\";\n",
    "        body += \"<td>\" + row.ATK + \"</td>\";\n",
    "        body += \"<td>\" + row.Role + \"</td>\";\n",
    "        body += \"<tr>\";\n",
    "    }\n",
    "\n",
    "    return (\n",
    "        \"<div style='\" + style + \"'>\" +\n",
    "        \"<table>\" +\n",
    "        body +\n",
    "        \"</table>\" +\n",
    "        \"</div>\"\n",
    "    );\n",
    "\n",
    "};\n",
    "\n",
    "$$.html(sec9._toHtml());"
   ]
  },
  {
   "cell_type": "markdown",
   "metadata": {},
   "source": [
    "typeof is used to output the type."
   ]
  },
  {
   "cell_type": "code",
   "execution_count": 9,
   "metadata": {},
   "outputs": [
    {
     "name": "stdout",
     "output_type": "stream",
     "text": [
      "object ; Person { name: 'Mr M', ghID: 'jm1021', classOf: 1977, role: '' }\n",
      "string ; {\"name\":\"Mr M\",\"ghID\":\"jm1021\",\"classOf\":1977,\"role\":\"\"}\n",
      "object ; Person { name: 'Mr M', ghID: 'jm1021', classOf: 1977, role: 'Teacher' }\n",
      "string ; {\"name\":\"Mr M\",\"ghID\":\"jm1021\",\"classOf\":1977,\"role\":\"Teacher\"}\n"
     ]
    }
   ],
   "source": [
    "function Person(name, ghID, classOf) {\n",
    "    this.name = name;\n",
    "    this.ghID = ghID;\n",
    "    this.classOf = classOf;\n",
    "    this.role = \"\";\n",
    "}\n",
    "\n",
    "Person.prototype.setRole = function(role) {\n",
    "    this.role = role;\n",
    "}\n",
    "Person.prototype.toJSON = function() {\n",
    "    const obj = {name: this.name, ghID: this.ghID, classOf: this.classOf, role: this.role};\n",
    "    const json = JSON.stringify(obj);\n",
    "    return json;\n",
    "}\n",
    "\n",
    "var teacher = new Person(\"Mr M\", \"jm1021\", 1977);\n",
    "logItType(teacher);\n",
    "logItType(teacher.toJSON());\n",
    "\n",
    "teacher.setRole(\"Teacher\");\n",
    "logItType(teacher);\n",
    "logItType(teacher.toJSON());"
   ]
  },
  {
   "cell_type": "code",
   "execution_count": 10,
   "metadata": {},
   "outputs": [
    {
     "name": "stdout",
     "output_type": "stream",
     "text": [
      "object ; [ Person { name: 'Mr M', ghID: 'jm1021', classOf: 1977, role: 'Teacher' },\n",
      "  Person {\n",
      "    name: 'Anthony',\n",
      "    ghID: 'tonyhieu',\n",
      "    classOf: 2022,\n",
      "    role: 'Student' },\n",
      "  Person { name: 'Bria', ghID: 'B-G101', classOf: 2023, role: 'Student' },\n",
      "  Person { name: 'Allie', ghID: 'xiaoa0', classOf: 2023, role: 'Student' },\n",
      "  Person {\n",
      "    name: 'Tigran',\n",
      "    ghID: 'Tigran7',\n",
      "    classOf: 2023,\n",
      "    role: 'Student' },\n",
      "  Person {\n",
      "    name: 'Rebecca',\n",
      "    ghID: 'Rebecca-123',\n",
      "    classOf: 2023,\n",
      "    role: 'Student' },\n",
      "  Person { name: 'Vidhi', ghID: 'unknown', classOf: 2024, role: 'Student' } ]\n",
      "string ; Mr M\n",
      "string ; {\"name\":\"Mr M\",\"ghID\":\"jm1021\",\"classOf\":1977,\"role\":\"Teacher\"}\n",
      "object ; { name: 'Mr M', ghID: 'jm1021', classOf: 1977, role: 'Teacher' }\n"
     ]
    }
   ],
   "source": [
    "var students = [ \n",
    "    new Person(\"Anthony\", \"tonyhieu\", 2022),\n",
    "    new Person(\"Bria\", \"B-G101\", 2023),\n",
    "    new Person(\"Allie\", \"xiaoa0\", 2023),\n",
    "    new Person(\"Tigran\", \"Tigran7\", 2023),\n",
    "    new Person(\"Rebecca\", \"Rebecca-123\", 2023),\n",
    "    new Person(\"Vidhi\", \"unknown\", 2024)\n",
    "];\n",
    "\n",
    "function Classroom(teacher, students){ \n",
    "    \n",
    "    teacher.setRole(\"Teacher\");\n",
    "    this.teacher = teacher;\n",
    "    this.classroom = [teacher];\n",
    "    \n",
    "    this.students = students;\n",
    "    this.students.forEach(student => { student.setRole(\"Student\"); this.classroom.push(student); });\n",
    "    \n",
    "    this.json = [];\n",
    "    this.classroom.forEach(person => this.json.push(person.toJSON()));\n",
    "}\n",
    "\n",
    "\n",
    "compsci = new Classroom(teacher, students);\n",
    "\n",
    "\n",
    "logItType(compsci.classroom);  \n",
    "logItType(compsci.classroom[0].name);  \n",
    "logItType(compsci.json[0]);  \n",
    "logItType(JSON.parse(compsci.json[0]));"
   ]
  },
  {
   "cell_type": "code",
   "execution_count": 11,
   "metadata": {},
   "outputs": [
    {
     "data": {
      "text/html": [
       "<div style='display:inline-block;border: 2px solid grey;box-shadow: 0.8em 0.4em 0.4em grey;'><table><tr><th><mark>Name</mark></th><th><mark>GitHub ID</mark></th><th><mark>Class Of</mark></th><th><mark>Role</mark></th></tr><tr><td>Mr M</td><td>jm1021</td><td>1977</td><td>Teacher</td><tr><tr><td>Anthony</td><td>tonyhieu</td><td>2022</td><td>Student</td><tr><tr><td>Bria</td><td>B-G101</td><td>2023</td><td>Student</td><tr><tr><td>Allie</td><td>xiaoa0</td><td>2023</td><td>Student</td><tr><tr><td>Tigran</td><td>Tigran7</td><td>2023</td><td>Student</td><tr><tr><td>Rebecca</td><td>Rebecca-123</td><td>2023</td><td>Student</td><tr><tr><td>Vidhi</td><td>unknown</td><td>2024</td><td>Student</td><tr></table></div>"
      ]
     },
     "execution_count": 11,
     "metadata": {},
     "output_type": "execute_result"
    }
   ],
   "source": [
    "Classroom.prototype._toHtml = function() {\n",
    "  // HTML Style is build using inline structure\n",
    "  var style = (\n",
    "    \"display:inline-block;\" +\n",
    "    \"border: 2px solid grey;\" +\n",
    "    \"box-shadow: 0.8em 0.4em 0.4em grey;\"\n",
    "  );\n",
    "\n",
    "  // HTML Body of Table is build as a series of concatenations (+=)\n",
    "  var body = \"\";\n",
    "  // Heading for Array Columns\n",
    "  body += \"<tr>\";\n",
    "  body += \"<th><mark>\" + \"Name\" + \"</mark></th>\";\n",
    "  body += \"<th><mark>\" + \"GitHub ID\" + \"</mark></th>\";\n",
    "  body += \"<th><mark>\" + \"Class Of\" + \"</mark></th>\";\n",
    "  body += \"<th><mark>\" + \"Role\" + \"</mark></th>\";\n",
    "  body += \"</tr>\";\n",
    "  // Data of Array, iterate through each row of compsci.classroom \n",
    "  for (var row of compsci.classroom) {\n",
    "    // tr for each row, a new line\n",
    "    body += \"<tr>\";\n",
    "    // td for each column of data\n",
    "    body += \"<td>\" + row.name + \"</td>\";\n",
    "    body += \"<td>\" + row.ghID + \"</td>\";\n",
    "    body += \"<td>\" + row.classOf + \"</td>\";\n",
    "    body += \"<td>\" + row.role + \"</td>\";\n",
    "    // tr to end line\n",
    "    body += \"<tr>\";\n",
    "  }\n",
    "\n",
    "   // Build and HTML fragment of div, table, table body\n",
    "  return (\n",
    "    \"<div style='\" + style + \"'>\" +\n",
    "      \"<table>\" +\n",
    "        body +\n",
    "      \"</table>\" +\n",
    "    \"</div>\"\n",
    "  );\n",
    "\n",
    "};\n",
    "\n",
    "// IJavaScript HTML processor receive parameter of defined HTML fragment\n",
    "$$.html(compsci._toHtml());"
   ]
  }
 ],
 "metadata": {
  "kernelspec": {
   "display_name": "JavaScript (Node.js)",
   "language": "javascript",
   "name": "javascript"
  },
  "language_info": {
   "file_extension": ".js",
   "mimetype": "application/javascript",
   "name": "javascript",
   "version": "6.11.2"
  },
  "orig_nbformat": 4,
  "vscode": {
   "interpreter": {
    "hash": "6ccb6558ef2ee8ddcd1889f8d547b1546f932296c7f2f80f67fdee00b5700eff"
   }
  }
 },
 "nbformat": 4,
 "nbformat_minor": 2
}
