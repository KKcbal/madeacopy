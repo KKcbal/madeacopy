{
 "cells": [
  {
   "cell_type": "markdown",
   "metadata": {},
   "source": [
    "# Homework 1\n",
    "> homework for the first class lesson"
   ]
  },
  {
   "cell_type": "code",
   "execution_count": 3,
   "metadata": {},
   "outputs": [
    {
     "name": "stdout",
     "output_type": "stream",
     "text": [
      "please choose 1 out of the 4 albums:\n",
      "Welcome to my Nightmare\n",
      "Bad Company\n",
      "Nightflight\n",
      "More Mayhem\n",
      "\n",
      "Songs:\n",
      "{1: \"Can't Get Enough\", 2: 'Rock Steady', 3: 'Ready for Love', 4: \"Don't Let Me Down\", 5: 'Bad Company', 6: 'The Way I Choose', 7: \"Movin' On\", 8: 'Seagull'}\n",
      "\n",
      "Now playing:\n",
      "Ready for Love\n"
     ]
    }
   ],
   "source": [
    "albums = [\n",
    "    [\"Welcome to my Nightmare\", \"Alice Cooper\", 1975,   # First album list\n",
    "     {\n",
    "         1 : \"Welcome to my Nightmare\",\n",
    "         2 : \"Devil's Food\",\n",
    "         3 : \"The Black Widow\",\n",
    "         4 : \"Some Folks\",\n",
    "         5 : \"Only Women Bleed\",\n",
    "     }\n",
    "    ],\n",
    "    [\"Bad Company\", \"Bad Company\", 1974,   # Second album list\n",
    "     {\n",
    "         1 : \"Can't Get Enough\",\n",
    "         2 : \"Rock Steady\",\n",
    "         3 : \"Ready for Love\",\n",
    "         4 : \"Don't Let Me Down\",\n",
    "         5 : \"Bad Company\",\n",
    "         6 : \"The Way I Choose\",\n",
    "         7 : \"Movin' On\",\n",
    "         8 : \"Seagull\",\n",
    "     }\n",
    "    ],\n",
    "    [\"Nightflight\", \"Budgie\", 1981,\n",
    "     {\n",
    "         1 : \"I Turned to Stone\",\n",
    "         2 : \"Keeping a Rendezvous\",\n",
    "         3 : \"Reaper of the Glory\",\n",
    "         4 : \"She Used Me Up\",\n",
    "     }\n",
    "    ],\n",
    "    [\"More Mayhem\", \"Imelda May\", 2011,\n",
    "     {\n",
    "         1 : \"Pulling the Rug\",\n",
    "         2 : \"Psycho\",\n",
    "         3 : \"Mayhem\",\n",
    "         4 : \"Kentish Town Waltz\",\n",
    "     }\n",
    "    ],\n",
    "]\n",
    "num4 = [1, 2, 3, 4]\n",
    "print(\"please choose 1 out of the 4 albums:\")\n",
    "for data in albums:\n",
    "    print(data[0])\n",
    "print(\"\")\n",
    "user = input(\"dicjkandballs\")\n",
    "user = int(user)\n",
    "user -= 1\n",
    "for data in albums[user]:\n",
    "    if type(data) == dict:\n",
    "        print(\"Songs:\")\n",
    "        print(data)\n",
    "        print(\"\")\n",
    "        user2 = input(\"fucj\")\n",
    "        user2 = int(user2)\n",
    "        print(\"Now playing:\")\n",
    "        print(data[user2])"
   ]
  }
 ],
 "metadata": {
  "kernelspec": {
   "display_name": "Python 3.9.12 ('base')",
   "language": "python",
   "name": "python3"
  },
  "language_info": {
   "codemirror_mode": {
    "name": "ipython",
    "version": 3
   },
   "file_extension": ".py",
   "mimetype": "text/x-python",
   "name": "python",
   "nbconvert_exporter": "python",
   "pygments_lexer": "ipython3",
   "version": "3.9.12"
  },
  "orig_nbformat": 4,
  "vscode": {
   "interpreter": {
    "hash": "6ccb6558ef2ee8ddcd1889f8d547b1546f932296c7f2f80f67fdee00b5700eff"
   }
  }
 },
 "nbformat": 4,
 "nbformat_minor": 2
}
