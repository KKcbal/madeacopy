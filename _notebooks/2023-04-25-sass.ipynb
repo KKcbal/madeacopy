{
 "cells": [
  {
   "attachments": {},
   "cell_type": "markdown",
   "metadata": {},
   "source": [
    "# SASS Hacks\n",
    "> SASS hacks for the lesson on 4/25\n",
    "- toc: true\n",
    "- comments: true\n",
    "- badges: false\n",
    "- author: Aniket Chakradeo, Ryan Hakimipour, Max Tullius, Jaden Nguyen, Nathan Kim, Kalani Cabral-Omana, Evan Appari, Max Wu, AJ Ruiz\n",
    "- categories: [student lesson]\n",
    "- week: 31"
   ]
  },
  {
   "attachments": {},
   "cell_type": "markdown",
   "metadata": {},
   "source": [
    "## Team Lesson Plan: \n",
    "\n",
    "SASS Part 1- Nathan, Aniket, Kalani\n",
    "- Basic UI Properties and what they mean\n",
    "- Color properties\n",
    "- Themes\n",
    "- SASS Definition/What it is useful for\n",
    "- SASS code segments w/ comparison to css\n",
    "- Demonstration of SASS\n",
    "\n",
    "SASS Part 2- Max W, Evan \n",
    "- More UI Properties\n",
    "- UX\n",
    "- Layouts\n",
    "- Animation/animation code for UI\n",
    "\n",
    "Building JavaScript Game or Application- Ryan, Jaden\n",
    "- Before vs After Minesweeper Game - how to customize \n",
    "- Building a java script game and what it requires\n",
    "\n",
    "Hacks Page - Kalani, Max T\n",
    "- Students must create their own hack (simple app,game, etc using key components from the lesson) \n",
    "- Make sure the students can wget the file so they can work on it for their hacks\n"
   ]
  },
  {
   "attachments": {},
   "cell_type": "markdown",
   "metadata": {},
   "source": [
    "# Classwork: \n",
    "\n",
    "### What are 5 Basic UI Elements?:\n",
    "\n",
    "1. Color\n",
    "2. Font\n",
    "3. Layout\n",
    "4. Icons\n",
    "5. Interactivity\n",
    "\n",
    "### In your own words, explain what SASS does:\n",
    "- It makes styling easier than coding with CSS\n",
    "\n",
    "### What are some benefits to SASS?: \n",
    "- The compiler will take your SASS code and turn it into working CSS\n",
    "\n",
    "### Describe/Explain one of the more \"advanced\" SASS properties below in detail:\n",
    "- You can nest styles to style an elements children. Similar to defining a function in a function, you can define a style in a style that will apply to the first style's children.\n",
    "\n",
    "## [Link to Number Guesser Game](https://anicricket.github.io/tmv4/_pages/numberguesser_v3.html)\n",
    "\n",
    "\n",
    "### How does the number guesser game work?\n",
    "- A random number is generated using Math.random and an attempt counter is defined as a variable. The function checkGuess() will compare the guess to the random number and add to the attempt counter. An if statement will write if the guess was too high, too low, or correct. \n",
    "\n",
    "### Explain how SASS can be used to make the number guesser game look more visually appealing?\n",
    "-  Everything could be put in the center of the page. Things could be made bigger to look better. Add fonts to the text and color to the background or text."
   ]
  },
  {
   "attachments": {},
   "cell_type": "markdown",
   "metadata": {},
   "source": [
    "# Hacks - Insert any screenshots, code segments, etc. that you need to in order to demonstrate an understanding of the hacks\n",
    "\n",
    "## Hacks Part 1\n",
    "1. Add your own element to your own repository to make it unique (0.9)  \n",
    "[Here's some images, images are elements](https://kkcbal.github.io/madeacopy/Jesse/)  \n",
    "[Here's a popup, it has elements](https://drewreed2005.github.io/cafegato/FunnyEvanThing/)\n",
    "\n",
    "## Hacks Part 2\n",
    "1. Add the style change button to your own github page (0.9)\n",
    "    - Change the button to your own styles \n",
    "    - See if you can let make it change to multiple different styles (we understand that it is hard to create multiple distinct styles so you are only required to make it clear you have at least three different styles at can be changed)\n",
    "2. Extra: Try and incorporate something you learned in the lesson into your CPT Project (0.1)  \n",
    "![theme changer code](../images/theme-changer.png)  \n",
    "I tried to get the theme changer button to work but I can't. I don't know what the problem is. This code should be able to switch between three themes but it won't work. The href links to the themes were correct and the code that sets the theme wasn't different from your website. I think there might be some error with my fastpages.  \n",
    "\n",
    "## Hacks Part 3\n",
    "1. Add SASS to Number Guesser Game provided (0.9) or create your own Javascript game/application and add SASS to it (0.9+)\n",
    "2. We will collectively decide on the \"best\" game/app and award potential seed.  \n",
    "[Here's an text-based RPG](https://drewreed2005.github.io/cafegato/rpg)  \n",
    "There was a lot of styling that went into this. Making it scroll up and stuff is hard."
   ]
  }
 ],
 "metadata": {
  "language_info": {
   "name": "python"
  },
  "orig_nbformat": 4
 },
 "nbformat": 4,
 "nbformat_minor": 2
}
