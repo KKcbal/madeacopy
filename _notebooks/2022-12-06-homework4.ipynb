{
 "cells": [
  {
   "attachments": {},
   "cell_type": "markdown",
   "metadata": {},
   "source": [
    "# homework 4\n",
    "> homework for the fourth class lesson"
   ]
  },
  {
   "attachments": {},
   "cell_type": "markdown",
   "metadata": {},
   "source": [
    "First Idea, make a recursive loop, where if the value that's being looped squared is equal to the value from the list, it stops. A primative solution, but one that would work, except it wouldn't. The numbers given are far too large for that too work, and the loop reaches it's limit before getting the fourth number.   \n",
    "My second idea was to add a large number like 1,000 after the loop passes 5. This way, I can get farther before reaching the limit. I didn't even attempt this, the gap between the numbers is far too big to work.    \n",
    "I thought about using binary search, as the lesson was about this, but binary search is only used on sorted lists, here I'm working with a singe number.    \n",
    "My first loop didn't work because a the end of the code, I had it run the function again, resulting in the maximum recursion depth being reached. I'm gonna use a while loop instead so it's not stupid.   \n",
    "It wasn't stupid"
   ]
  },
  {
   "cell_type": "code",
   "execution_count": 13,
   "metadata": {},
   "outputs": [],
   "source": [
    "def sqrt(N):\n",
    "    i = 0\n",
    "    while i < N:\n",
    "        v = i * i\n",
    "        if v == N:\n",
    "            break\n",
    "        i += 1  # Make an extra variable that is i times itself\n",
    "    print(i)\n",
    "    return i"
   ]
  },
  {
   "cell_type": "code",
   "execution_count": 14,
   "metadata": {},
   "outputs": [
    {
     "name": "stdout",
     "output_type": "stream",
     "text": [
      "0\n",
      "Check number 1 passed\n",
      "1\n",
      "Check number 2 passed\n",
      "2\n",
      "Check number 3 passed\n",
      "9233\n",
      "Check number 4 passed\n",
      "4722\n",
      "Check number 5 passed\n",
      "4352\n",
      "Check number 6 passed\n",
      "9545\n",
      "Check number 7 passed\n",
      "8314\n",
      "Check number 8 passed\n",
      "3118\n",
      "Check number 9 passed\n",
      "6149\n",
      "Check number 10 passed\n",
      "43512\n",
      "Check number 11 passed\n",
      "93396\n",
      "Check number 12 passed\n",
      "25385\n",
      "Check number 13 passed\n"
     ]
    }
   ],
   "source": [
    "from math import sqrt as sq\n",
    "test_cases = [0,1,4,85248289,22297284,18939904,91107025,69122596,9721924,37810201,1893294144,8722812816,644398225]\n",
    "answers = [int(sq(x)) for x in test_cases]\n",
    "\n",
    "def checkValid():\n",
    "    for i in range(len(test_cases)):\n",
    "        if sqrt(test_cases[i]) == answers[i]:\n",
    "            print(\"Check number {} passed\".format(i+1))\n",
    "        else:\n",
    "            print(\"Check number {} failed\".format(i+1))\n",
    "\n",
    "checkValid()"
   ]
  },
  {
   "cell_type": "code",
   "execution_count": 5,
   "metadata": {},
   "outputs": [
    {
     "name": "stdout",
     "output_type": "stream",
     "text": [
      "20\n",
      "10.0\n",
      "5.0\n",
      "16.0\n",
      "8.0\n",
      "4.0\n",
      "2.0\n",
      "1.0\n"
     ]
    }
   ],
   "source": [
    "def collatzConjecture(N):\n",
    "    print(N)\n",
    "    while N != 1:\n",
    "        if N % 2 == 0:\n",
    "            N *= 0.5\n",
    "            print(N)\n",
    "        else:\n",
    "            N *= 3\n",
    "            N += 1\n",
    "            print(N)\n",
    "collatzConjecture(20)"
   ]
  }
 ],
 "metadata": {
  "kernelspec": {
   "display_name": "Python 3.9.12 ('base')",
   "language": "python",
   "name": "python3"
  },
  "language_info": {
   "codemirror_mode": {
    "name": "ipython",
    "version": 3
   },
   "file_extension": ".py",
   "mimetype": "text/x-python",
   "name": "python",
   "nbconvert_exporter": "python",
   "pygments_lexer": "ipython3",
   "version": "3.9.12"
  },
  "orig_nbformat": 4,
  "vscode": {
   "interpreter": {
    "hash": "6ccb6558ef2ee8ddcd1889f8d547b1546f932296c7f2f80f67fdee00b5700eff"
   }
  }
 },
 "nbformat": 4,
 "nbformat_minor": 2
}
